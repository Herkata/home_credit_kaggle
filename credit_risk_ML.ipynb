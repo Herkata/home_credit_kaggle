{
  "cells": [
    {
      "cell_type": "markdown",
      "metadata": {
        "id": "view-in-github",
        "colab_type": "text"
      },
      "source": [
        "<a href=\"https://colab.research.google.com/github/TuringCollegeSubmissions/kherna-DS.v2.5.3.4.1/blob/main/credit_risk_ML.ipynb\" target=\"_parent\"><img src=\"https://colab.research.google.com/assets/colab-badge.svg\" alt=\"Open In Colab\"/></a>"
      ]
    },
    {
      "cell_type": "markdown",
      "source": [
        "# Credit Risk Analysis - Machine Learning and Deployment"
      ],
      "metadata": {
        "id": "UeD50EEUK8SX"
      },
      "id": "UeD50EEUK8SX"
    },
    {
      "cell_type": "markdown",
      "source": [
        "Install non-native packages."
      ],
      "metadata": {
        "id": "JCjkWk4tyNw4"
      },
      "id": "JCjkWk4tyNw4"
    },
    {
      "cell_type": "code",
      "source": [
        "!pip install optuna\n",
        "!pip install -q kaggle\n",
        "!pip install -q Flask joblib scikit-learn xgboost lightgbm imbalanced-learn"
      ],
      "metadata": {
        "id": "o2z-hlJ9d_EB",
        "colab": {
          "base_uri": "https://localhost:8080/"
        },
        "outputId": "a39a5ba1-14f2-43fc-dd8b-da0846f4c72f"
      },
      "id": "o2z-hlJ9d_EB",
      "execution_count": 1,
      "outputs": [
        {
          "output_type": "stream",
          "name": "stdout",
          "text": [
            "Collecting optuna\n",
            "  Downloading optuna-4.3.0-py3-none-any.whl.metadata (17 kB)\n",
            "Collecting alembic>=1.5.0 (from optuna)\n",
            "  Downloading alembic-1.16.1-py3-none-any.whl.metadata (7.3 kB)\n",
            "Collecting colorlog (from optuna)\n",
            "  Downloading colorlog-6.9.0-py3-none-any.whl.metadata (10 kB)\n",
            "Requirement already satisfied: numpy in /usr/local/lib/python3.11/dist-packages (from optuna) (2.0.2)\n",
            "Requirement already satisfied: packaging>=20.0 in /usr/local/lib/python3.11/dist-packages (from optuna) (24.2)\n",
            "Requirement already satisfied: sqlalchemy>=1.4.2 in /usr/local/lib/python3.11/dist-packages (from optuna) (2.0.40)\n",
            "Requirement already satisfied: tqdm in /usr/local/lib/python3.11/dist-packages (from optuna) (4.67.1)\n",
            "Requirement already satisfied: PyYAML in /usr/local/lib/python3.11/dist-packages (from optuna) (6.0.2)\n",
            "Requirement already satisfied: Mako in /usr/lib/python3/dist-packages (from alembic>=1.5.0->optuna) (1.1.3)\n",
            "Requirement already satisfied: typing-extensions>=4.12 in /usr/local/lib/python3.11/dist-packages (from alembic>=1.5.0->optuna) (4.13.2)\n",
            "Requirement already satisfied: greenlet>=1 in /usr/local/lib/python3.11/dist-packages (from sqlalchemy>=1.4.2->optuna) (3.2.2)\n",
            "Downloading optuna-4.3.0-py3-none-any.whl (386 kB)\n",
            "\u001b[2K   \u001b[90m━━━━━━━━━━━━━━━━━━━━━━━━━━━━━━━━━━━━━━━━\u001b[0m \u001b[32m386.6/386.6 kB\u001b[0m \u001b[31m7.3 MB/s\u001b[0m eta \u001b[36m0:00:00\u001b[0m\n",
            "\u001b[?25hDownloading alembic-1.16.1-py3-none-any.whl (242 kB)\n",
            "\u001b[2K   \u001b[90m━━━━━━━━━━━━━━━━━━━━━━━━━━━━━━━━━━━━━━━━\u001b[0m \u001b[32m242.5/242.5 kB\u001b[0m \u001b[31m14.6 MB/s\u001b[0m eta \u001b[36m0:00:00\u001b[0m\n",
            "\u001b[?25hDownloading colorlog-6.9.0-py3-none-any.whl (11 kB)\n",
            "Installing collected packages: colorlog, alembic, optuna\n",
            "Successfully installed alembic-1.16.1 colorlog-6.9.0 optuna-4.3.0\n"
          ]
        }
      ]
    },
    {
      "cell_type": "markdown",
      "source": [
        "Import necessary packages."
      ],
      "metadata": {
        "id": "oBpOtgW0yQNf"
      },
      "id": "oBpOtgW0yQNf"
    },
    {
      "cell_type": "code",
      "source": [
        "import os\n",
        "import pickle\n",
        "import json\n",
        "import requests\n",
        "import warnings\n",
        "\n",
        "import numpy as np\n",
        "import pandas as pd\n",
        "import matplotlib.pyplot as plt\n",
        "import seaborn as sns\n",
        "import duckdb as db\n",
        "\n",
        "from typing import List, Tuple\n",
        "\n",
        "from google.colab import files, auth\n",
        "\n",
        "from sklearn.impute import KNNImputer, IterativeImputer, SimpleImputer\n",
        "from sklearn.experimental import enable_iterative_imputer\n",
        "from sklearn.ensemble import RandomForestClassifier, GradientBoostingClassifier, VotingClassifier\n",
        "from sklearn.linear_model import LogisticRegression\n",
        "from sklearn.svm import SVC\n",
        "from sklearn.neighbors import KNeighborsClassifier\n",
        "from sklearn.model_selection import (\n",
        "    train_test_split, StratifiedShuffleSplit, StratifiedKFold,\n",
        "    GridSearchCV, RandomizedSearchCV\n",
        ")\n",
        "from sklearn.metrics import (\n",
        "    accuracy_score, f1_score, precision_score, recall_score, confusion_matrix,\n",
        "    classification_report, roc_auc_score, fbeta_score,\n",
        "    precision_recall_curve, roc_curve, auc\n",
        ")\n",
        "\n",
        "from imblearn.ensemble import BalancedRandomForestClassifier\n",
        "from imblearn.over_sampling import SMOTE\n",
        "from imblearn.pipeline import Pipeline\n",
        "\n",
        "import joblib\n",
        "import optuna\n",
        "from lightgbm import LGBMClassifier\n",
        "from lightgbm import early_stopping as lgb_early_stopping\n",
        "from xgboost import XGBClassifier\n",
        "\n",
        "warnings.filterwarnings('ignore')\n"
      ],
      "metadata": {
        "id": "YiSdn77bL5dG"
      },
      "id": "YiSdn77bL5dG",
      "execution_count": 2,
      "outputs": []
    },
    {
      "cell_type": "markdown",
      "source": [
        "## 1. Import and prepare data for training"
      ],
      "metadata": {
        "id": "P-HrE9iMP8Na"
      },
      "id": "P-HrE9iMP8Na"
    },
    {
      "cell_type": "code",
      "source": [
        "from google.colab import drive\n",
        "drive.mount('/content/drive')"
      ],
      "metadata": {
        "id": "KzZSPZoDLDBB",
        "colab": {
          "base_uri": "https://localhost:8080/"
        },
        "outputId": "274184e0-f613-4a8e-85b0-631e45db0433"
      },
      "id": "KzZSPZoDLDBB",
      "execution_count": 3,
      "outputs": [
        {
          "output_type": "stream",
          "name": "stdout",
          "text": [
            "Mounted at /content/drive\n"
          ]
        }
      ]
    },
    {
      "cell_type": "markdown",
      "source": [
        "The database prepared earlier in another notebook is imported."
      ],
      "metadata": {
        "id": "D1AaexwnxhQ0"
      },
      "id": "D1AaexwnxhQ0"
    },
    {
      "cell_type": "code",
      "source": [
        "db_path = '/content/drive/My Drive/Turing/ML Capstone project/home_credit.db'"
      ],
      "metadata": {
        "id": "PfhSdvPmLEAc"
      },
      "id": "PfhSdvPmLEAc",
      "execution_count": 4,
      "outputs": []
    },
    {
      "cell_type": "markdown",
      "source": [
        "I am using DuckDB again to run queries."
      ],
      "metadata": {
        "id": "qMwS1ReDxneE"
      },
      "id": "qMwS1ReDxneE"
    },
    {
      "cell_type": "code",
      "source": [
        "con = db.connect(db_path)"
      ],
      "metadata": {
        "id": "qyMIwl3kLsEE"
      },
      "id": "qyMIwl3kLsEE",
      "execution_count": 5,
      "outputs": []
    },
    {
      "cell_type": "code",
      "source": [
        "con.execute('SHOW TABLES').fetchall()"
      ],
      "metadata": {
        "id": "8qrCg2QTMDzh",
        "colab": {
          "base_uri": "https://localhost:8080/"
        },
        "outputId": "3e764293-d4d7-4d33-f8cd-9c4a1bc7b0f4"
      },
      "id": "8qrCg2QTMDzh",
      "execution_count": 6,
      "outputs": [
        {
          "output_type": "execute_result",
          "data": {
            "text/plain": [
              "[('application_test',),\n",
              " ('application_train',),\n",
              " ('bureau',),\n",
              " ('bureau_balance',),\n",
              " ('bureau_merged_agg',),\n",
              " ('bureau_middle',),\n",
              " ('card_merged_agg',),\n",
              " ('credit_card_balance',),\n",
              " ('inst_merged_agg',),\n",
              " ('installments_payments',),\n",
              " ('pos_cash_balance',),\n",
              " ('pos_merged_agg',),\n",
              " ('prep_app_merged_history',),\n",
              " ('prep_app_merged_history_TEST',),\n",
              " ('prep_data',),\n",
              " ('prev_app_agg',),\n",
              " ('previous_application',)]"
            ]
          },
          "metadata": {},
          "execution_count": 6
        }
      ]
    },
    {
      "cell_type": "markdown",
      "source": [
        "Separate the ids from the set for later restoring."
      ],
      "metadata": {
        "id": "YTbVE9nonl1v"
      },
      "id": "YTbVE9nonl1v"
    },
    {
      "cell_type": "code",
      "source": [
        "train_ids = con.execute('SELECT SK_ID_CURR FROM prep_app_merged_history').fetchdf()['SK_ID_CURR']"
      ],
      "metadata": {
        "id": "33Qb74siQzGX"
      },
      "id": "33Qb74siQzGX",
      "execution_count": 7,
      "outputs": []
    },
    {
      "cell_type": "markdown",
      "source": [
        "Separate the target values to use later."
      ],
      "metadata": {
        "id": "fyhftCgQnpiq"
      },
      "id": "fyhftCgQnpiq"
    },
    {
      "cell_type": "code",
      "source": [
        "train_target = con.execute('SELECT TARGET FROM prep_app_merged_history').fetchdf()['TARGET']"
      ],
      "metadata": {
        "id": "6cxO-cHISOCw"
      },
      "id": "6cxO-cHISOCw",
      "execution_count": 8,
      "outputs": []
    },
    {
      "cell_type": "markdown",
      "source": [
        "Import training and testing sets."
      ],
      "metadata": {
        "id": "uNoXuERsQBG6"
      },
      "id": "uNoXuERsQBG6"
    },
    {
      "cell_type": "code",
      "source": [
        "training_data = con.execute('SELECT * FROM prep_app_merged_history').fetchdf()\n",
        "testing_data = con.execute('SELECT * FROM prep_app_merged_history_TEST').fetchdf()"
      ],
      "metadata": {
        "id": "s7bWdE1oMHrA"
      },
      "id": "s7bWdE1oMHrA",
      "execution_count": 9,
      "outputs": []
    },
    {
      "cell_type": "markdown",
      "source": [
        "Doing double checks as the saved data proved to be still not completely as desired earlier."
      ],
      "metadata": {
        "id": "DXsxfc_0MTd4"
      },
      "id": "DXsxfc_0MTd4"
    },
    {
      "cell_type": "code",
      "source": [
        "training_data.isna().sum()[training_data.isna().sum()>0]"
      ],
      "metadata": {
        "id": "47f5sxF7MRKX",
        "colab": {
          "base_uri": "https://localhost:8080/",
          "height": 458
        },
        "outputId": "925389b0-076c-41f3-c573-3ebff1e9cd5a"
      },
      "id": "47f5sxF7MRKX",
      "execution_count": 10,
      "outputs": [
        {
          "output_type": "execute_result",
          "data": {
            "text/plain": [
              "EMERGENCYSTATE_MODE             145755\n",
              "bureau_earlier_credits_count     44020\n",
              "bureau_pct_Active                44020\n",
              "bureau_pct_Closed                44020\n",
              "bureau_pct_Sold                  44020\n",
              "                                 ...  \n",
              "NAME_PORTFOLIO_POS               16455\n",
              "NAME_PRODUCT_TYPE_x-sell         16455\n",
              "NAME_YIELD_GROUP_low_action      16455\n",
              "NAME_YIELD_GROUP_low_normal      16455\n",
              "NAME_YIELD_GROUP_middle          16455\n",
              "Length: 204, dtype: int64"
            ],
            "text/html": [
              "<div>\n",
              "<style scoped>\n",
              "    .dataframe tbody tr th:only-of-type {\n",
              "        vertical-align: middle;\n",
              "    }\n",
              "\n",
              "    .dataframe tbody tr th {\n",
              "        vertical-align: top;\n",
              "    }\n",
              "\n",
              "    .dataframe thead th {\n",
              "        text-align: right;\n",
              "    }\n",
              "</style>\n",
              "<table border=\"1\" class=\"dataframe\">\n",
              "  <thead>\n",
              "    <tr style=\"text-align: right;\">\n",
              "      <th></th>\n",
              "      <th>0</th>\n",
              "    </tr>\n",
              "  </thead>\n",
              "  <tbody>\n",
              "    <tr>\n",
              "      <th>EMERGENCYSTATE_MODE</th>\n",
              "      <td>145755</td>\n",
              "    </tr>\n",
              "    <tr>\n",
              "      <th>bureau_earlier_credits_count</th>\n",
              "      <td>44020</td>\n",
              "    </tr>\n",
              "    <tr>\n",
              "      <th>bureau_pct_Active</th>\n",
              "      <td>44020</td>\n",
              "    </tr>\n",
              "    <tr>\n",
              "      <th>bureau_pct_Closed</th>\n",
              "      <td>44020</td>\n",
              "    </tr>\n",
              "    <tr>\n",
              "      <th>bureau_pct_Sold</th>\n",
              "      <td>44020</td>\n",
              "    </tr>\n",
              "    <tr>\n",
              "      <th>...</th>\n",
              "      <td>...</td>\n",
              "    </tr>\n",
              "    <tr>\n",
              "      <th>NAME_PORTFOLIO_POS</th>\n",
              "      <td>16455</td>\n",
              "    </tr>\n",
              "    <tr>\n",
              "      <th>NAME_PRODUCT_TYPE_x-sell</th>\n",
              "      <td>16455</td>\n",
              "    </tr>\n",
              "    <tr>\n",
              "      <th>NAME_YIELD_GROUP_low_action</th>\n",
              "      <td>16455</td>\n",
              "    </tr>\n",
              "    <tr>\n",
              "      <th>NAME_YIELD_GROUP_low_normal</th>\n",
              "      <td>16455</td>\n",
              "    </tr>\n",
              "    <tr>\n",
              "      <th>NAME_YIELD_GROUP_middle</th>\n",
              "      <td>16455</td>\n",
              "    </tr>\n",
              "  </tbody>\n",
              "</table>\n",
              "<p>204 rows × 1 columns</p>\n",
              "</div><br><label><b>dtype:</b> int64</label>"
            ]
          },
          "metadata": {},
          "execution_count": 10
        }
      ]
    },
    {
      "cell_type": "markdown",
      "source": [
        "The high amount of missing values can be explained by the current ID not being present in lower-level tables, thus not having a relevant value.\n",
        "\n",
        "To correct this error I will impute the missing values or occasionally drop columns with an unreasonably high percventage of missing values."
      ],
      "metadata": {
        "id": "XvnAuXMfNqF3"
      },
      "id": "XvnAuXMfNqF3"
    },
    {
      "cell_type": "markdown",
      "source": [
        "Drop a mistakenly kept str feature that has already been one-hot encoded."
      ],
      "metadata": {
        "id": "EFsahDRpOq8e"
      },
      "id": "EFsahDRpOq8e"
    },
    {
      "cell_type": "code",
      "source": [
        "training_data.drop(columns = 'NAME_CONTRACT_STATUS', inplace= True )"
      ],
      "metadata": {
        "id": "d5FTEj5yOKUA"
      },
      "id": "d5FTEj5yOKUA",
      "execution_count": 11,
      "outputs": []
    },
    {
      "cell_type": "code",
      "source": [
        "testing_data.drop(columns = 'NAME_CONTRACT_STATUS', inplace= True )"
      ],
      "metadata": {
        "id": "iUN-KC3zOIuE"
      },
      "id": "iUN-KC3zOIuE",
      "execution_count": 12,
      "outputs": []
    },
    {
      "cell_type": "markdown",
      "source": [
        "Fill the missing values in the only boolean feature."
      ],
      "metadata": {
        "id": "hOh8wlYyOv8T"
      },
      "id": "hOh8wlYyOv8T"
    },
    {
      "cell_type": "code",
      "source": [
        "training_data.dtypes[training_data.dtypes == 'boolean']"
      ],
      "metadata": {
        "id": "N5eu0GAmNPdY",
        "colab": {
          "base_uri": "https://localhost:8080/",
          "height": 115
        },
        "outputId": "18dcecb2-45ca-49d3-8023-eb71d2789ada"
      },
      "id": "N5eu0GAmNPdY",
      "execution_count": 13,
      "outputs": [
        {
          "output_type": "execute_result",
          "data": {
            "text/plain": [
              "EMERGENCYSTATE_MODE    boolean\n",
              "dtype: object"
            ],
            "text/html": [
              "<div>\n",
              "<style scoped>\n",
              "    .dataframe tbody tr th:only-of-type {\n",
              "        vertical-align: middle;\n",
              "    }\n",
              "\n",
              "    .dataframe tbody tr th {\n",
              "        vertical-align: top;\n",
              "    }\n",
              "\n",
              "    .dataframe thead th {\n",
              "        text-align: right;\n",
              "    }\n",
              "</style>\n",
              "<table border=\"1\" class=\"dataframe\">\n",
              "  <thead>\n",
              "    <tr style=\"text-align: right;\">\n",
              "      <th></th>\n",
              "      <th>0</th>\n",
              "    </tr>\n",
              "  </thead>\n",
              "  <tbody>\n",
              "    <tr>\n",
              "      <th>EMERGENCYSTATE_MODE</th>\n",
              "      <td>boolean</td>\n",
              "    </tr>\n",
              "  </tbody>\n",
              "</table>\n",
              "</div><br><label><b>dtype:</b> object</label>"
            ]
          },
          "metadata": {},
          "execution_count": 13
        }
      ]
    },
    {
      "cell_type": "code",
      "source": [
        "training_data['EMERGENCYSTATE_MODE'] = training_data['EMERGENCYSTATE_MODE'].fillna(False)\n",
        "testing_data['EMERGENCYSTATE_MODE'] = testing_data['EMERGENCYSTATE_MODE'].fillna(False)"
      ],
      "metadata": {
        "id": "igM3N0V6OZIF"
      },
      "id": "igM3N0V6OZIF",
      "execution_count": 14,
      "outputs": []
    },
    {
      "cell_type": "markdown",
      "source": [
        "## 2. Baseline model"
      ],
      "metadata": {
        "id": "N99JMuShyWT4"
      },
      "id": "N99JMuShyWT4"
    },
    {
      "cell_type": "markdown",
      "source": [
        "I am using a RandomForestClassifier to determine the most impactful features to avoid wasteful usage of computation capacity.\n",
        "\n",
        "I decided to train tree forests on random samples for more credible results."
      ],
      "metadata": {
        "id": "7BfvdBP2nE3b"
      },
      "id": "7BfvdBP2nE3b"
    },
    {
      "cell_type": "code",
      "source": [
        "rf_classifier_1 = BalancedRandomForestClassifier(random_state=42)\n",
        "rf_classifier_2 = BalancedRandomForestClassifier(random_state=1)\n",
        "rf_classifier_3 = BalancedRandomForestClassifier(random_state=999)\n",
        "\n",
        "rf_classifiers = [rf_classifier_1, rf_classifier_2, rf_classifier_3]"
      ],
      "metadata": {
        "id": "7Favm69KnQbD"
      },
      "id": "7Favm69KnQbD",
      "execution_count": 15,
      "outputs": []
    },
    {
      "cell_type": "code",
      "source": [
        "X, y = training_data.drop(columns='TARGET'), training_data['TARGET']\n",
        "X_train, X_test, y_train, y_test = train_test_split(X, y, test_size=0.2, random_state=42)"
      ],
      "metadata": {
        "id": "DWaOg4MQoFg_"
      },
      "id": "DWaOg4MQoFg_",
      "execution_count": 16,
      "outputs": []
    },
    {
      "cell_type": "code",
      "source": [
        "def create_random_samples(X_train, y_train, X_test, y_test, num_samples, initial_random_state=None, sample_fraction=0.1):\n",
        "    \"\"\"\n",
        "    Generates multiple random samples (subsets) from the training and testing data, stratified by the target variable.\n",
        "\n",
        "    Args:\n",
        "        X_train (pd.DataFrame): Training features.\n",
        "        y_train (pd.Series): Training target.\n",
        "        X_test (pd.DataFrame): Testing features.\n",
        "        y_test (pd.Series): Testing target.\n",
        "        num_samples (int): The number of random samples to generate.\n",
        "        initial_random_state (int, optional): Random state for the first sample, defaults to None.\n",
        "        sample_fraction (float, optional): The fraction of data to include in each sample, defaults to 0.1.\n",
        "\n",
        "    Returns:\n",
        "        tuple: A tuple containing four lists:\n",
        "               - list of sampled X_train DataFrames\n",
        "               - list of sampled y_train Series\n",
        "               - list of sampled X_test DataFrames\n",
        "               - list of sampled y_test Series\n",
        "    \"\"\"\n",
        "\n",
        "\n",
        "    X_train_samples = []\n",
        "    y_train_samples = []\n",
        "    X_test_samples = []\n",
        "    y_test_samples = []\n",
        "\n",
        "    train_data = pd.concat([X_train, y_train], axis=1)\n",
        "    test_data = pd.concat([X_test, y_test], axis=1)\n",
        "\n",
        "\n",
        "    for i in range(num_samples):\n",
        "        random_state = initial_random_state if i == 0 else None\n",
        "        splitter = StratifiedShuffleSplit(n_splits=1, test_size=1 - sample_fraction, random_state=random_state)\n",
        "\n",
        "        for train_index, _ in splitter.split(train_data, train_data['TARGET']):\n",
        "            train_sample = train_data.iloc[train_index]\n",
        "            X_train_samples.append(train_sample.drop(columns=['TARGET']))\n",
        "            y_train_samples.append(train_sample['TARGET'])\n",
        "\n",
        "        for test_index, _ in splitter.split(test_data, test_data['TARGET']):\n",
        "            test_sample = test_data.iloc[test_index]\n",
        "            X_test_samples.append(test_sample.drop(columns=['TARGET']))\n",
        "            y_test_samples.append(test_sample['TARGET'])\n",
        "\n",
        "    return X_train_samples, y_train_samples, X_test_samples, y_test_samples"
      ],
      "metadata": {
        "id": "qoqWdScAqZhG"
      },
      "id": "qoqWdScAqZhG",
      "execution_count": 17,
      "outputs": []
    },
    {
      "cell_type": "code",
      "source": [
        "num_samples_to_create = 3\n",
        "X_train_samples_list, y_train_samples_list, X_test_samples_list, y_test_samples_list = create_random_samples(\n",
        "    X_train, y_train, X_test, y_test, num_samples=num_samples_to_create, initial_random_state=1\n",
        ")\n",
        "\n",
        "print(f\"Generated {len(X_train_samples_list)} sets of training and testing samples.\")"
      ],
      "metadata": {
        "id": "rT_eCfaVsYY0",
        "colab": {
          "base_uri": "https://localhost:8080/"
        },
        "outputId": "a946c10e-4e10-4615-c7ab-ba0bc5416d48"
      },
      "id": "rT_eCfaVsYY0",
      "execution_count": 18,
      "outputs": [
        {
          "output_type": "stream",
          "name": "stdout",
          "text": [
            "Generated 3 sets of training and testing samples.\n"
          ]
        }
      ]
    },
    {
      "cell_type": "markdown",
      "source": [
        "Train the initialized models with the random samples.\n",
        "Store the feature importances in a new dataframe to determine the relevant features."
      ],
      "metadata": {
        "id": "BIqM8gcztZ0o"
      },
      "id": "BIqM8gcztZ0o"
    },
    {
      "cell_type": "code",
      "source": [
        "feature_importances = pd.DataFrame(columns=['Feature'])\n",
        "\n",
        "for i in range(num_samples_to_create):\n",
        "    rf_classifiers[i].fit(X_train_samples_list[i], y_train_samples_list[i])\n",
        "    y_pred = rf_classifiers[i].predict(X_test_samples_list[i])\n",
        "\n",
        "    conf_matrix = confusion_matrix(y_test_samples_list[i], y_pred)\n",
        "    sns.heatmap(conf_matrix, annot=True, fmt='d', cmap='Blues')\n",
        "    plt.title(f'Confusion Matrix for Sample {i + 1}')\n",
        "    plt.xlabel('Predicted')\n",
        "    plt.ylabel('Actual')\n",
        "    plt.show()\n",
        "\n",
        "    print(f\"Classification Report for Sample {i + 1}:\\n{classification_report(y_test_samples_list[i], y_pred)}\")\n",
        "\n",
        "    f1 = f1_score(y_test_samples_list[i], y_pred, pos_label=1)\n",
        "    print(f\"F1 Score (Positive Class) for Sample {i + 1}: {f1}\")\n",
        "\n",
        "    feature_importances[f'Sample_{i + 1}'] = rf_classifiers[i].feature_importances_\n",
        "\n",
        "feature_importances['Feature'] = X_train_samples_list[0].columns\n",
        "\n"
      ],
      "metadata": {
        "id": "6dAl1T8B315T",
        "colab": {
          "base_uri": "https://localhost:8080/",
          "height": 1000
        },
        "outputId": "739dc76d-66f7-422e-b082-19db171256da"
      },
      "id": "6dAl1T8B315T",
      "execution_count": 19,
      "outputs": [
        {
          "output_type": "display_data",
          "data": {
            "text/plain": [
              "<Figure size 640x480 with 2 Axes>"
            ],
            "image/png": "[encoded data removed]"
          },
          "metadata": {}
        },
        {
          "output_type": "stream",
          "name": "stdout",
          "text": [
            "Classification Report for Sample 1:\n",
            "              precision    recall  f1-score   support\n",
            "\n",
            "           0       0.95      0.87      0.91      5659\n",
            "           1       0.23      0.43      0.30       491\n",
            "\n",
            "    accuracy                           0.84      6150\n",
            "   macro avg       0.59      0.65      0.60      6150\n",
            "weighted avg       0.89      0.84      0.86      6150\n",
            "\n",
            "F1 Score (Positive Class) for Sample 1: 0.2951510892480675\n"
          ]
        },
        {
          "output_type": "display_data",
          "data": {
            "text/plain": [
              "<Figure size 640x480 with 2 Axes>"
            ],
            "image/png": "[encoded data removed]"
          },
          "metadata": {}
        },
        {
          "output_type": "stream",
          "name": "stdout",
          "text": [
            "Classification Report for Sample 2:\n",
            "              precision    recall  f1-score   support\n",
            "\n",
            "           0       0.94      0.88      0.91      5659\n",
            "           1       0.22      0.40      0.29       491\n",
            "\n",
            "    accuracy                           0.84      6150\n",
            "   macro avg       0.58      0.64      0.60      6150\n",
            "weighted avg       0.89      0.84      0.86      6150\n",
            "\n",
            "F1 Score (Positive Class) for Sample 2: 0.2857142857142857\n"
          ]
        },
        {
          "output_type": "display_data",
          "data": {
            "text/plain": [
              "<Figure size 640x480 with 2 Axes>"
            ],
            "image/png": "[encoded data removed]"
          },
          "metadata": {}
        },
        {
          "output_type": "stream",
          "name": "stdout",
          "text": [
            "Classification Report for Sample 3:\n",
            "              precision    recall  f1-score   support\n",
            "\n",
            "           0       0.94      0.86      0.90      5659\n",
            "           1       0.20      0.40      0.27       491\n",
            "\n",
            "    accuracy                           0.82      6150\n",
            "   macro avg       0.57      0.63      0.58      6150\n",
            "weighted avg       0.88      0.82      0.85      6150\n",
            "\n",
            "F1 Score (Positive Class) for Sample 3: 0.2664853840924541\n"
          ]
        }
      ]
    },
    {
      "cell_type": "markdown",
      "source": [
        "As we got very poor F1-scores: around 0.3, I will have to do modifications, as the current models do not capture important patterns, so I will not filter features based on these results.\n",
        "\n",
        "I did not use the feature importances resulting from this run."
      ],
      "metadata": {
        "id": "7ewOhOPoqDT-"
      },
      "id": "7ewOhOPoqDT-"
    },
    {
      "cell_type": "markdown",
      "source": [
        "## 3. Possible improvements to data quality"
      ],
      "metadata": {
        "id": "q6XklDfyyuDG"
      },
      "id": "q6XklDfyyuDG"
    },
    {
      "cell_type": "markdown",
      "source": [
        "### 3.1. Missing values"
      ],
      "metadata": {
        "id": "7kUsIYxTy2In"
      },
      "id": "7kUsIYxTy2In"
    },
    {
      "cell_type": "markdown",
      "source": [
        "Discovering the missing values in the dataset."
      ],
      "metadata": {
        "id": "cRKLJ_BuFL6D"
      },
      "id": "cRKLJ_BuFL6D"
    },
    {
      "cell_type": "code",
      "source": [
        "training_data.isna().sum()[training_data.isna().sum()>0]"
      ],
      "metadata": {
        "id": "WFPu9yd-xuqj",
        "colab": {
          "base_uri": "https://localhost:8080/",
          "height": 458
        },
        "outputId": "150fd67b-07b9-4396-859c-4718c01b3f3e"
      },
      "id": "WFPu9yd-xuqj",
      "execution_count": 20,
      "outputs": [
        {
          "output_type": "execute_result",
          "data": {
            "text/plain": [
              "bureau_earlier_credits_count    44020\n",
              "bureau_pct_Active               44020\n",
              "bureau_pct_Closed               44020\n",
              "bureau_pct_Sold                 44020\n",
              "bureau_pct_other                44020\n",
              "                                ...  \n",
              "NAME_PORTFOLIO_POS              16455\n",
              "NAME_PRODUCT_TYPE_x-sell        16455\n",
              "NAME_YIELD_GROUP_low_action     16455\n",
              "NAME_YIELD_GROUP_low_normal     16455\n",
              "NAME_YIELD_GROUP_middle         16455\n",
              "Length: 202, dtype: int64"
            ],
            "text/html": [
              "<div>\n",
              "<style scoped>\n",
              "    .dataframe tbody tr th:only-of-type {\n",
              "        vertical-align: middle;\n",
              "    }\n",
              "\n",
              "    .dataframe tbody tr th {\n",
              "        vertical-align: top;\n",
              "    }\n",
              "\n",
              "    .dataframe thead th {\n",
              "        text-align: right;\n",
              "    }\n",
              "</style>\n",
              "<table border=\"1\" class=\"dataframe\">\n",
              "  <thead>\n",
              "    <tr style=\"text-align: right;\">\n",
              "      <th></th>\n",
              "      <th>0</th>\n",
              "    </tr>\n",
              "  </thead>\n",
              "  <tbody>\n",
              "    <tr>\n",
              "      <th>bureau_earlier_credits_count</th>\n",
              "      <td>44020</td>\n",
              "    </tr>\n",
              "    <tr>\n",
              "      <th>bureau_pct_Active</th>\n",
              "      <td>44020</td>\n",
              "    </tr>\n",
              "    <tr>\n",
              "      <th>bureau_pct_Closed</th>\n",
              "      <td>44020</td>\n",
              "    </tr>\n",
              "    <tr>\n",
              "      <th>bureau_pct_Sold</th>\n",
              "      <td>44020</td>\n",
              "    </tr>\n",
              "    <tr>\n",
              "      <th>bureau_pct_other</th>\n",
              "      <td>44020</td>\n",
              "    </tr>\n",
              "    <tr>\n",
              "      <th>...</th>\n",
              "      <td>...</td>\n",
              "    </tr>\n",
              "    <tr>\n",
              "      <th>NAME_PORTFOLIO_POS</th>\n",
              "      <td>16455</td>\n",
              "    </tr>\n",
              "    <tr>\n",
              "      <th>NAME_PRODUCT_TYPE_x-sell</th>\n",
              "      <td>16455</td>\n",
              "    </tr>\n",
              "    <tr>\n",
              "      <th>NAME_YIELD_GROUP_low_action</th>\n",
              "      <td>16455</td>\n",
              "    </tr>\n",
              "    <tr>\n",
              "      <th>NAME_YIELD_GROUP_low_normal</th>\n",
              "      <td>16455</td>\n",
              "    </tr>\n",
              "    <tr>\n",
              "      <th>NAME_YIELD_GROUP_middle</th>\n",
              "      <td>16455</td>\n",
              "    </tr>\n",
              "  </tbody>\n",
              "</table>\n",
              "<p>202 rows × 1 columns</p>\n",
              "</div><br><label><b>dtype:</b> int64</label>"
            ]
          },
          "metadata": {},
          "execution_count": 20
        }
      ]
    },
    {
      "cell_type": "markdown",
      "source": [
        "Impute the missing values and indicate them with a flag for predictive power."
      ],
      "metadata": {
        "id": "tZyq09sX7g8u"
      },
      "id": "tZyq09sX7g8u"
    },
    {
      "cell_type": "code",
      "source": [
        "cols_with_missing = training_data.columns[training_data.isnull().any()]\n",
        "\n",
        "missing_indicators = pd.concat(\n",
        "    [training_data[col].isnull().astype('int8').rename(f'{col}_was_missing') for col in cols_with_missing],\n",
        "    axis=1\n",
        ")\n",
        "\n",
        "training_data = pd.concat([training_data, missing_indicators], axis=1)\n",
        "\n",
        "imputer = SimpleImputer(strategy='median')\n",
        "training_data[cols_with_missing] = imputer.fit_transform(training_data[cols_with_missing])\n",
        "\n",
        "missing_indicators_test = pd.concat(\n",
        "    [testing_data[col].isnull().astype('int8').rename(f'{col}_was_missing') for col in cols_with_missing],\n",
        "    axis=1\n",
        ")\n",
        "testing_data = pd.concat([testing_data, missing_indicators_test], axis=1)\n",
        "\n",
        "testing_data[cols_with_missing] = imputer.transform(testing_data[cols_with_missing])\n"
      ],
      "metadata": {
        "id": "XvXTmNcZ0Y_y"
      },
      "id": "XvXTmNcZ0Y_y",
      "execution_count": 24,
      "outputs": []
    },
    {
      "cell_type": "markdown",
      "source": [
        "### 3.2. Downcasting for better performance"
      ],
      "metadata": {
        "id": "gY7Ue-DWy6t1"
      },
      "id": "gY7Ue-DWy6t1"
    },
    {
      "cell_type": "markdown",
      "source": [
        "Downcast numeric types to save memory, which is critical given the amount of data."
      ],
      "metadata": {
        "id": "lmL9fhXx8rcc"
      },
      "id": "lmL9fhXx8rcc"
    },
    {
      "cell_type": "code",
      "source": [
        "training_data = training_data.apply(pd.to_numeric, downcast='float')\n",
        "training_data = training_data.apply(pd.to_numeric, downcast='integer')\n",
        "\n",
        "training_data['EMERGENCYSTATE_MODE'] = training_data['EMERGENCYSTATE_MODE'].apply(lambda x: 1 if x is True else (0 if x is False else x))\n",
        "\n",
        "training_data.dtypes.unique()\n"
      ],
      "metadata": {
        "id": "ybx52l-ayj5K",
        "colab": {
          "base_uri": "https://localhost:8080/"
        },
        "outputId": "f79a9d4e-022d-476d-8658-601091dc8b10"
      },
      "id": "ybx52l-ayj5K",
      "execution_count": 21,
      "outputs": [
        {
          "output_type": "execute_result",
          "data": {
            "text/plain": [
              "array([dtype('int8'), dtype('int16'), dtype('float32'), dtype('int32'),\n",
              "       dtype('int64'), Int8Dtype(), Int16Dtype(), Int32Dtype()],\n",
              "      dtype=object)"
            ]
          },
          "metadata": {},
          "execution_count": 21
        }
      ]
    },
    {
      "cell_type": "code",
      "source": [
        "testing_data = testing_data.apply(pd.to_numeric, downcast='float')\n",
        "testing_data = testing_data.apply(pd.to_numeric, downcast='integer')\n",
        "\n",
        "testing_data['EMERGENCYSTATE_MODE'] = testing_data['EMERGENCYSTATE_MODE'].apply(lambda x: 1 if x is True else (0 if x is False else x))"
      ],
      "metadata": {
        "id": "gNO1Mr1JOSO7"
      },
      "id": "gNO1Mr1JOSO7",
      "execution_count": 22,
      "outputs": []
    },
    {
      "cell_type": "markdown",
      "source": [
        "### 3.3. Clean column names"
      ],
      "metadata": {
        "id": "gylVpG24zGJx"
      },
      "id": "gylVpG24zGJx"
    },
    {
      "cell_type": "markdown",
      "source": [
        "Clean column names from confusing characters - LGBM is sensitive."
      ],
      "metadata": {
        "id": "UbnP_zYx8lRF"
      },
      "id": "UbnP_zYx8lRF"
    },
    {
      "cell_type": "code",
      "source": [
        "def clean_column_names(df):\n",
        "    df.columns = df.columns.str.replace(r'[\\\"\\'{}\\[\\]:, ]', '', regex=True)\n",
        "    return df\n",
        "\n",
        "training_data = clean_column_names(training_data)\n",
        "testing_data = clean_column_names(testing_data)"
      ],
      "metadata": {
        "id": "UJej99Zc8e4B"
      },
      "id": "UJej99Zc8e4B",
      "execution_count": 23,
      "outputs": []
    },
    {
      "cell_type": "markdown",
      "source": [
        "### 3.4. Creating new baseline after improvements"
      ],
      "metadata": {
        "id": "MC7Tn4W6zUwg"
      },
      "id": "MC7Tn4W6zUwg"
    },
    {
      "cell_type": "markdown",
      "source": [
        "Create baseline model using the imputed dataset."
      ],
      "metadata": {
        "id": "wJkAvNdF7oGJ"
      },
      "id": "wJkAvNdF7oGJ"
    },
    {
      "cell_type": "code",
      "source": [
        "X = training_data.drop(columns=['TARGET', 'SK_ID_CURR'])\n",
        "y = training_data['TARGET']\n",
        "\n",
        "X_train, X_test, y_train, y_test = train_test_split(\n",
        "    X, y, stratify=y, test_size=0.2, random_state=42\n",
        ")\n",
        "\n",
        "clf = BalancedRandomForestClassifier(n_estimators=100, random_state=42, n_jobs=-1)\n",
        "\n",
        "clf.fit(X_train, y_train)\n",
        "\n",
        "y_pred = clf.predict(X_test)\n",
        "\n",
        "print(\"Classification Report:\")\n",
        "print(classification_report(y_test, y_pred))\n",
        "print(\"F1-score (macro):\", f1_score(y_test, y_pred, average='macro'))\n",
        "print(\"F1-score (pos class):\", f1_score(y_test, y_pred, pos_label=1))\n",
        "\n",
        "sns.heatmap(confusion_matrix(y_test, y_pred), annot=True, fmt='d', cmap='Blues')\n",
        "plt.title('Confusion Matrix')\n",
        "plt.xlabel('Predicted')\n",
        "plt.ylabel('Actual')\n",
        "plt.show()\n"
      ],
      "metadata": {
        "id": "IoVBCyJY6eud",
        "colab": {
          "base_uri": "https://localhost:8080/",
          "height": 680
        },
        "outputId": "155895ef-680a-470d-f140-06a88a0bee7c"
      },
      "id": "IoVBCyJY6eud",
      "execution_count": 26,
      "outputs": [
        {
          "output_type": "stream",
          "name": "stdout",
          "text": [
            "Classification Report:\n",
            "              precision    recall  f1-score   support\n",
            "\n",
            "           0       0.95      0.87      0.91     56538\n",
            "           1       0.23      0.43      0.30      4965\n",
            "\n",
            "    accuracy                           0.84     61503\n",
            "   macro avg       0.59      0.65      0.60     61503\n",
            "weighted avg       0.89      0.84      0.86     61503\n",
            "\n",
            "F1-score (macro): 0.6043836565651519\n",
            "F1-score (pos class): 0.30070663961379696\n"
          ]
        },
        {
          "output_type": "display_data",
          "data": {
            "text/plain": [
              "<Figure size 640x480 with 2 Axes>"
            ],
            "image/png": "[encoded data removed]"
          },
          "metadata": {}
        }
      ]
    },
    {
      "cell_type": "markdown",
      "source": [
        "The performance is still really poor after imputing the missing values.\n",
        "\n",
        "Other measures will be necessary."
      ],
      "metadata": {
        "id": "l4ZKnDGgFcuY"
      },
      "id": "l4ZKnDGgFcuY"
    },
    {
      "cell_type": "markdown",
      "source": [
        "### 3.5. Compensating imbalance using SMOTE"
      ],
      "metadata": {
        "id": "gjDZdnKEzerm"
      },
      "id": "gjDZdnKEzerm"
    },
    {
      "cell_type": "code",
      "source": [
        "smote = SMOTE(random_state=42)\n",
        "X_res, y_res = smote.fit_resample(X_train, y_train)"
      ],
      "metadata": {
        "id": "cR3ET9_a8vf4"
      },
      "id": "cR3ET9_a8vf4",
      "execution_count": 28,
      "outputs": []
    },
    {
      "cell_type": "markdown",
      "source": [
        "## 4. Model selection"
      ],
      "metadata": {
        "id": "V_xiguwr1wpw"
      },
      "id": "V_xiguwr1wpw"
    },
    {
      "cell_type": "markdown",
      "source": [
        "Subsample from the training set, so we can deetrmine faster which models show potential for actual training and CV."
      ],
      "metadata": {
        "id": "CehPHksgGMwg"
      },
      "id": "CehPHksgGMwg"
    },
    {
      "cell_type": "code",
      "source": [
        "X_train_sample, X_test_sample, y_train_sample, y_test_sample = train_test_split(X_res, y_res, test_size=0.85, stratify=y_res, random_state=42)"
      ],
      "metadata": {
        "id": "ZZSqMCLHGFJ0"
      },
      "id": "ZZSqMCLHGFJ0",
      "execution_count": 30,
      "outputs": []
    },
    {
      "cell_type": "markdown",
      "source": [
        "Create a tracker table for the results of the training."
      ],
      "metadata": {
        "id": "siC8AOwTGQuS"
      },
      "id": "siC8AOwTGQuS"
    },
    {
      "cell_type": "code",
      "source": [
        "sample_train_results = pd.DataFrame()"
      ],
      "metadata": {
        "id": "y0MidjQgFOJv"
      },
      "id": "y0MidjQgFOJv",
      "execution_count": 31,
      "outputs": []
    },
    {
      "cell_type": "markdown",
      "source": [
        "Save the trained models for later loading to save time on reruns."
      ],
      "metadata": {
        "id": "kxmq7cuJ_k4T"
      },
      "id": "kxmq7cuJ_k4T"
    },
    {
      "cell_type": "code",
      "source": [
        "model_save_path = '/content/drive/My Drive/Turing/ML Capstone project/trained_models'\n",
        "\n",
        "os.makedirs(model_save_path, exist_ok=True)"
      ],
      "metadata": {
        "id": "CoLmiWHJ_hSh"
      },
      "id": "CoLmiWHJ_hSh",
      "execution_count": 32,
      "outputs": []
    },
    {
      "cell_type": "code",
      "source": [
        "def train_or_load_model(model, save_name: str, X_train, y_train, model_save_path: str):\n",
        "    save_path = os.path.join(model_save_path, save_name)\n",
        "\n",
        "    if not os.path.exists(save_path):\n",
        "        model.fit(X_train, y_train)\n",
        "        joblib.dump(model, save_path)\n",
        "    else:\n",
        "        model = joblib.load(save_path)\n",
        "\n",
        "    return model"
      ],
      "metadata": {
        "id": "cRinswu5z5vo"
      },
      "id": "cRinswu5z5vo",
      "execution_count": null,
      "outputs": []
    },
    {
      "cell_type": "code",
      "source": [
        "def evaluate_and_add_result(df, model, model_name, X_test, y_test, pos_label=1):\n",
        "    y_pred = model.predict(X_test)\n",
        "    f1 = round(f1_score(y_test, y_pred, pos_label=pos_label), 4)\n",
        "    new_row = pd.DataFrame({'model': [model_name], 'F1-score': [f1]})\n",
        "    return pd.concat([df, new_row], ignore_index=True)"
      ],
      "metadata": {
        "id": "fmu75uNU0rfP"
      },
      "id": "fmu75uNU0rfP",
      "execution_count": null,
      "outputs": []
    },
    {
      "cell_type": "markdown",
      "source": [
        "### 4.1. Logistic Regression"
      ],
      "metadata": {
        "id": "wzqTItgV11ks"
      },
      "id": "wzqTItgV11ks"
    },
    {
      "cell_type": "code",
      "source": [
        "logreg_model = train_or_load_model(\n",
        "    model=LogisticRegression(max_iter=1000, solver='saga'),\n",
        "    save_name='logreg_model.pkl',\n",
        "    X_train=X_train_sample,\n",
        "    y_train=y_train_sample,\n",
        "    model_save_path=model_save_path\n",
        ")"
      ],
      "metadata": {
        "id": "mkISA4_z6YaL"
      },
      "id": "mkISA4_z6YaL",
      "execution_count": 33,
      "outputs": []
    },
    {
      "cell_type": "code",
      "source": [
        "sample_train_results = evaluate_and_add_result(\n",
        "    df=sample_train_results,\n",
        "    model=logreg_model,\n",
        "    model_name='Logistic Regression',\n",
        "    X_test=X_test_sample,\n",
        "    y_test=y_test_sample\n",
        ")"
      ],
      "metadata": {
        "id": "BEhxJAAe0uyP"
      },
      "id": "BEhxJAAe0uyP",
      "execution_count": null,
      "outputs": []
    },
    {
      "cell_type": "markdown",
      "source": [
        "## 4.2. Balanced Random Forest"
      ],
      "metadata": {
        "id": "A93wwIe914fl"
      },
      "id": "A93wwIe914fl"
    },
    {
      "cell_type": "code",
      "source": [
        "balanced_forest = train_or_load_model(\n",
        "    model=BalancedRandomForestClassifier(random_state=42, n_jobs=-1),\n",
        "    save_name='balanced_forest.pkl',\n",
        "    X_train=X_train_sample,\n",
        "    y_train=y_train_sample,\n",
        "    model_save_path=model_save_path\n",
        ")"
      ],
      "metadata": {
        "id": "AOmtdgtXGf6s"
      },
      "id": "AOmtdgtXGf6s",
      "execution_count": 38,
      "outputs": []
    },
    {
      "cell_type": "code",
      "source": [
        "sample_train_results = evaluate_and_add_result(\n",
        "    df=sample_train_results,\n",
        "    model=balanced_forest,\n",
        "    model_name='Balanced Random Forest',\n",
        "    X_test=X_test_sample,\n",
        "    y_test=y_test_sample\n",
        ")"
      ],
      "metadata": {
        "id": "myAc6qXAGjLY"
      },
      "id": "myAc6qXAGjLY",
      "execution_count": 39,
      "outputs": []
    },
    {
      "cell_type": "markdown",
      "source": [
        "## 4.3. XGBoost"
      ],
      "metadata": {
        "id": "8W7yZl5o19ih"
      },
      "id": "8W7yZl5o19ih"
    },
    {
      "cell_type": "code",
      "source": [
        "xgb = train_or_load_model(\n",
        "    model=XGBClassifier(use_label_encoder=False, eval_metric='f1', random_state=42, n_jobs=-1),\n",
        "    save_name='xgb.pkl',\n",
        "    X_train=X_train_sample,\n",
        "    y_train=y_train_sample,\n",
        "    model_save_path=model_save_path\n",
        ")"
      ],
      "metadata": {
        "id": "Rgwt8AINHW-O"
      },
      "id": "Rgwt8AINHW-O",
      "execution_count": 40,
      "outputs": []
    },
    {
      "cell_type": "code",
      "source": [
        "sample_train_results = evaluate_and_add_result(\n",
        "    df=sample_train_results,\n",
        "    model=xgb,\n",
        "    model_name='XGBoost',\n",
        "    X_test=X_test_sample,\n",
        "    y_test=y_test_sample\n",
        ")"
      ],
      "metadata": {
        "id": "MB9YJMPAHiBr"
      },
      "id": "MB9YJMPAHiBr",
      "execution_count": 41,
      "outputs": []
    },
    {
      "cell_type": "markdown",
      "source": [
        "## 4.4. LightGBM"
      ],
      "metadata": {
        "id": "rW4lewtN2AGv"
      },
      "id": "rW4lewtN2AGv"
    },
    {
      "cell_type": "code",
      "source": [
        "lgbm = train_or_load_model(\n",
        "    model=LGBMClassifier(objective='binary', metric='f1', random_state=42, n_jobs=-1),\n",
        "    save_name='lgbm.pkl',\n",
        "    X_train=X_train_sample,\n",
        "    y_train=y_train_sample,\n",
        "    model_save_path=model_save_path\n",
        ")"
      ],
      "metadata": {
        "id": "VamhP8y3XoHg"
      },
      "id": "VamhP8y3XoHg",
      "execution_count": 42,
      "outputs": []
    },
    {
      "cell_type": "code",
      "source": [
        "sample_train_results = evaluate_and_add_result(\n",
        "    df=sample_train_results,\n",
        "    model=lgbm,\n",
        "    model_name='LGBM',\n",
        "    X_test=X_test_sample,\n",
        "    y_test=y_test_sample\n",
        ")"
      ],
      "metadata": {
        "id": "UYWZg1jXXrEZ"
      },
      "id": "UYWZg1jXXrEZ",
      "execution_count": 43,
      "outputs": []
    },
    {
      "cell_type": "markdown",
      "source": [
        "## 4.5. K-nearest Neighbors"
      ],
      "metadata": {
        "id": "ygtV7GAr2DJ7"
      },
      "id": "ygtV7GAr2DJ7"
    },
    {
      "cell_type": "code",
      "source": [
        "knn = train_or_load_model(\n",
        "    model=KNeighborsClassifier(),\n",
        "    save_name='knn.pkl',\n",
        "    X_train=X_train_sample,\n",
        "    y_train=y_train_sample,\n",
        "    model_save_path=model_save_path\n",
        ")"
      ],
      "metadata": {
        "id": "LzORkDRsYsY2"
      },
      "id": "LzORkDRsYsY2",
      "execution_count": 44,
      "outputs": []
    },
    {
      "cell_type": "code",
      "source": [
        "sample_train_results = evaluate_and_add_result(\n",
        "    df=sample_train_results,\n",
        "    model=knn,\n",
        "    model_name='KNN',\n",
        "    X_test=X_test_sample,\n",
        "    y_test=y_test_sample\n",
        ")"
      ],
      "metadata": {
        "id": "zv83D2nrZ0Hd"
      },
      "id": "zv83D2nrZ0Hd",
      "execution_count": 45,
      "outputs": []
    },
    {
      "cell_type": "markdown",
      "source": [
        "Select the best models based on the F1-score for further training on the complete dataset including cross validation and tuning.\n",
        "\n",
        "Due to the banking setting I prioritized the F1-score, even though the Kaggle competition rewards ROC, because:\n",
        "- Rewards models that don’t miss many actual positives (high recall),\n",
        "- While also avoiding too many false alarms (high precision)."
      ],
      "metadata": {
        "id": "_AGh6RbveACA"
      },
      "id": "_AGh6RbveACA"
    },
    {
      "cell_type": "code",
      "source": [
        "sample_train_results.sort_values(by='F1-score', ascending=False)"
      ],
      "metadata": {
        "id": "ov3b6Mnyd8F4",
        "colab": {
          "base_uri": "https://localhost:8080/",
          "height": 206
        },
        "outputId": "a5b6eeef-5c7c-4813-8c2d-4af09d6efaf6"
      },
      "id": "ov3b6Mnyd8F4",
      "execution_count": 46,
      "outputs": [
        {
          "output_type": "execute_result",
          "data": {
            "text/plain": [
              "  (model,) (F1-score,)                   model  F1-score\n",
              "3      NaN         NaN                    LGBM  0.953100\n",
              "2      NaN         NaN                 XGBoost  0.952100\n",
              "1      NaN         NaN  Balanced Random Forest  0.945800\n",
              "4      NaN         NaN     K-Nearest Neighbors  0.749900\n",
              "0      NaN         NaN     Logistic Regression  0.595712"
            ],
            "text/html": [
              "\n",
              "  <div id=\"df-fddb828b-c7ab-433e-8f19-62e2faa12817\" class=\"colab-df-container\">\n",
              "    <div>\n",
              "<style scoped>\n",
              "    .dataframe tbody tr th:only-of-type {\n",
              "        vertical-align: middle;\n",
              "    }\n",
              "\n",
              "    .dataframe tbody tr th {\n",
              "        vertical-align: top;\n",
              "    }\n",
              "\n",
              "    .dataframe thead th {\n",
              "        text-align: right;\n",
              "    }\n",
              "</style>\n",
              "<table border=\"1\" class=\"dataframe\">\n",
              "  <thead>\n",
              "    <tr style=\"text-align: right;\">\n",
              "      <th></th>\n",
              "      <th>(model,)</th>\n",
              "      <th>(F1-score,)</th>\n",
              "      <th>model</th>\n",
              "      <th>F1-score</th>\n",
              "    </tr>\n",
              "  </thead>\n",
              "  <tbody>\n",
              "    <tr>\n",
              "      <th>3</th>\n",
              "      <td>NaN</td>\n",
              "      <td>NaN</td>\n",
              "      <td>LGBM</td>\n",
              "      <td>0.953100</td>\n",
              "    </tr>\n",
              "    <tr>\n",
              "      <th>2</th>\n",
              "      <td>NaN</td>\n",
              "      <td>NaN</td>\n",
              "      <td>XGBoost</td>\n",
              "      <td>0.952100</td>\n",
              "    </tr>\n",
              "    <tr>\n",
              "      <th>1</th>\n",
              "      <td>NaN</td>\n",
              "      <td>NaN</td>\n",
              "      <td>Balanced Random Forest</td>\n",
              "      <td>0.945800</td>\n",
              "    </tr>\n",
              "    <tr>\n",
              "      <th>4</th>\n",
              "      <td>NaN</td>\n",
              "      <td>NaN</td>\n",
              "      <td>K-Nearest Neighbors</td>\n",
              "      <td>0.749900</td>\n",
              "    </tr>\n",
              "    <tr>\n",
              "      <th>0</th>\n",
              "      <td>NaN</td>\n",
              "      <td>NaN</td>\n",
              "      <td>Logistic Regression</td>\n",
              "      <td>0.595712</td>\n",
              "    </tr>\n",
              "  </tbody>\n",
              "</table>\n",
              "</div>\n",
              "    <div class=\"colab-df-buttons\">\n",
              "\n",
              "  <div class=\"colab-df-container\">\n",
              "    <button class=\"colab-df-convert\" onclick=\"convertToInteractive('df-fddb828b-c7ab-433e-8f19-62e2faa12817')\"\n",
              "            title=\"Convert this dataframe to an interactive table.\"\n",
              "            style=\"display:none;\">\n",
              "\n",
              "  <svg xmlns=\"http://www.w3.org/2000/svg\" height=\"24px\" viewBox=\"0 -960 960 960\">\n",
              "    <path d=\"M120-120v-720h720v720H120Zm60-500h600v-160H180v160Zm220 220h160v-160H400v160Zm0 220h160v-160H400v160ZM180-400h160v-160H180v160Zm440 0h160v-160H620v160ZM180-180h160v-160H180v160Zm440 0h160v-160H620v160Z\"/>\n",
              "  </svg>\n",
              "    </button>\n",
              "\n",
              "  <style>\n",
              "    .colab-df-container {\n",
              "      display:flex;\n",
              "      gap: 12px;\n",
              "    }\n",
              "\n",
              "    .colab-df-convert {\n",
              "      background-color: #E8F0FE;\n",
              "      border: none;\n",
              "      border-radius: 50%;\n",
              "      cursor: pointer;\n",
              "      display: none;\n",
              "      fill: #1967D2;\n",
              "      height: 32px;\n",
              "      padding: 0 0 0 0;\n",
              "      width: 32px;\n",
              "    }\n",
              "\n",
              "    .colab-df-convert:hover {\n",
              "      background-color: #E2EBFA;\n",
              "      box-shadow: 0px 1px 2px rgba(60, 64, 67, 0.3), 0px 1px 3px 1px rgba(60, 64, 67, 0.15);\n",
              "      fill: #174EA6;\n",
              "    }\n",
              "\n",
              "    .colab-df-buttons div {\n",
              "      margin-bottom: 4px;\n",
              "    }\n",
              "\n",
              "    [theme=dark] .colab-df-convert {\n",
              "      background-color: #3B4455;\n",
              "      fill: #D2E3FC;\n",
              "    }\n",
              "\n",
              "    [theme=dark] .colab-df-convert:hover {\n",
              "      background-color: #434B5C;\n",
              "      box-shadow: 0px 1px 3px 1px rgba(0, 0, 0, 0.15);\n",
              "      filter: drop-shadow(0px 1px 2px rgba(0, 0, 0, 0.3));\n",
              "      fill: #FFFFFF;\n",
              "    }\n",
              "  </style>\n",
              "\n",
              "    <script>\n",
              "      const buttonEl =\n",
              "        document.querySelector('#df-fddb828b-c7ab-433e-8f19-62e2faa12817 button.colab-df-convert');\n",
              "      buttonEl.style.display =\n",
              "        google.colab.kernel.accessAllowed ? 'block' : 'none';\n",
              "\n",
              "      async function convertToInteractive(key) {\n",
              "        const element = document.querySelector('#df-fddb828b-c7ab-433e-8f19-62e2faa12817');\n",
              "        const dataTable =\n",
              "          await google.colab.kernel.invokeFunction('convertToInteractive',\n",
              "                                                    [key], {});\n",
              "        if (!dataTable) return;\n",
              "\n",
              "        const docLinkHtml = 'Like what you see? Visit the ' +\n",
              "          '<a target=\"_blank\" href=https://colab.research.google.com/notebooks/data_table.ipynb>data table notebook</a>'\n",
              "          + ' to learn more about interactive tables.';\n",
              "        element.innerHTML = '';\n",
              "        dataTable['output_type'] = 'display_data';\n",
              "        await google.colab.output.renderOutput(dataTable, element);\n",
              "        const docLink = document.createElement('div');\n",
              "        docLink.innerHTML = docLinkHtml;\n",
              "        element.appendChild(docLink);\n",
              "      }\n",
              "    </script>\n",
              "  </div>\n",
              "\n",
              "\n",
              "    <div id=\"df-475eb91d-fdd7-4033-8aa0-a89342ed0375\">\n",
              "      <button class=\"colab-df-quickchart\" onclick=\"quickchart('df-475eb91d-fdd7-4033-8aa0-a89342ed0375')\"\n",
              "                title=\"Suggest charts\"\n",
              "                style=\"display:none;\">\n",
              "\n",
              "<svg xmlns=\"http://www.w3.org/2000/svg\" height=\"24px\"viewBox=\"0 0 24 24\"\n",
              "     width=\"24px\">\n",
              "    <g>\n",
              "        <path d=\"M19 3H5c-1.1 0-2 .9-2 2v14c0 1.1.9 2 2 2h14c1.1 0 2-.9 2-2V5c0-1.1-.9-2-2-2zM9 17H7v-7h2v7zm4 0h-2V7h2v10zm4 0h-2v-4h2v4z\"/>\n",
              "    </g>\n",
              "</svg>\n",
              "      </button>\n",
              "\n",
              "<style>\n",
              "  .colab-df-quickchart {\n",
              "      --bg-color: #E8F0FE;\n",
              "      --fill-color: #1967D2;\n",
              "      --hover-bg-color: #E2EBFA;\n",
              "      --hover-fill-color: #174EA6;\n",
              "      --disabled-fill-color: #AAA;\n",
              "      --disabled-bg-color: #DDD;\n",
              "  }\n",
              "\n",
              "  [theme=dark] .colab-df-quickchart {\n",
              "      --bg-color: #3B4455;\n",
              "      --fill-color: #D2E3FC;\n",
              "      --hover-bg-color: #434B5C;\n",
              "      --hover-fill-color: #FFFFFF;\n",
              "      --disabled-bg-color: #3B4455;\n",
              "      --disabled-fill-color: #666;\n",
              "  }\n",
              "\n",
              "  .colab-df-quickchart {\n",
              "    background-color: var(--bg-color);\n",
              "    border: none;\n",
              "    border-radius: 50%;\n",
              "    cursor: pointer;\n",
              "    display: none;\n",
              "    fill: var(--fill-color);\n",
              "    height: 32px;\n",
              "    padding: 0;\n",
              "    width: 32px;\n",
              "  }\n",
              "\n",
              "  .colab-df-quickchart:hover {\n",
              "    background-color: var(--hover-bg-color);\n",
              "    box-shadow: 0 1px 2px rgba(60, 64, 67, 0.3), 0 1px 3px 1px rgba(60, 64, 67, 0.15);\n",
              "    fill: var(--button-hover-fill-color);\n",
              "  }\n",
              "\n",
              "  .colab-df-quickchart-complete:disabled,\n",
              "  .colab-df-quickchart-complete:disabled:hover {\n",
              "    background-color: var(--disabled-bg-color);\n",
              "    fill: var(--disabled-fill-color);\n",
              "    box-shadow: none;\n",
              "  }\n",
              "\n",
              "  .colab-df-spinner {\n",
              "    border: 2px solid var(--fill-color);\n",
              "    border-color: transparent;\n",
              "    border-bottom-color: var(--fill-color);\n",
              "    animation:\n",
              "      spin 1s steps(1) infinite;\n",
              "  }\n",
              "\n",
              "  @keyframes spin {\n",
              "    0% {\n",
              "      border-color: transparent;\n",
              "      border-bottom-color: var(--fill-color);\n",
              "      border-left-color: var(--fill-color);\n",
              "    }\n",
              "    20% {\n",
              "      border-color: transparent;\n",
              "      border-left-color: var(--fill-color);\n",
              "      border-top-color: var(--fill-color);\n",
              "    }\n",
              "    30% {\n",
              "      border-color: transparent;\n",
              "      border-left-color: var(--fill-color);\n",
              "      border-top-color: var(--fill-color);\n",
              "      border-right-color: var(--fill-color);\n",
              "    }\n",
              "    40% {\n",
              "      border-color: transparent;\n",
              "      border-right-color: var(--fill-color);\n",
              "      border-top-color: var(--fill-color);\n",
              "    }\n",
              "    60% {\n",
              "      border-color: transparent;\n",
              "      border-right-color: var(--fill-color);\n",
              "    }\n",
              "    80% {\n",
              "      border-color: transparent;\n",
              "      border-right-color: var(--fill-color);\n",
              "      border-bottom-color: var(--fill-color);\n",
              "    }\n",
              "    90% {\n",
              "      border-color: transparent;\n",
              "      border-bottom-color: var(--fill-color);\n",
              "    }\n",
              "  }\n",
              "</style>\n",
              "\n",
              "      <script>\n",
              "        async function quickchart(key) {\n",
              "          const quickchartButtonEl =\n",
              "            document.querySelector('#' + key + ' button');\n",
              "          quickchartButtonEl.disabled = true;  // To prevent multiple clicks.\n",
              "          quickchartButtonEl.classList.add('colab-df-spinner');\n",
              "          try {\n",
              "            const charts = await google.colab.kernel.invokeFunction(\n",
              "                'suggestCharts', [key], {});\n",
              "          } catch (error) {\n",
              "            console.error('Error during call to suggestCharts:', error);\n",
              "          }\n",
              "          quickchartButtonEl.classList.remove('colab-df-spinner');\n",
              "          quickchartButtonEl.classList.add('colab-df-quickchart-complete');\n",
              "        }\n",
              "        (() => {\n",
              "          let quickchartButtonEl =\n",
              "            document.querySelector('#df-475eb91d-fdd7-4033-8aa0-a89342ed0375 button');\n",
              "          quickchartButtonEl.style.display =\n",
              "            google.colab.kernel.accessAllowed ? 'block' : 'none';\n",
              "        })();\n",
              "      </script>\n",
              "    </div>\n",
              "\n",
              "    </div>\n",
              "  </div>\n"
            ],
            "application/vnd.google.colaboratory.intrinsic+json": {
              "type": "dataframe",
              "repr_error": "Out of range float values are not JSON compliant: nan"
            }
          },
          "metadata": {},
          "execution_count": 46
        }
      ]
    },
    {
      "cell_type": "markdown",
      "source": [
        "The best performing models were:\n",
        "- Balanced Random Forest\n",
        "- XGBoost\n",
        "- LGBM\n",
        "\n",
        "I will use these type of models for Hyperparameter Tuning using Optuna trials."
      ],
      "metadata": {
        "id": "xVwgtZEBeK-D"
      },
      "id": "xVwgtZEBeK-D"
    },
    {
      "cell_type": "markdown",
      "source": [
        "# 5. Hyperparameter Tuning"
      ],
      "metadata": {
        "id": "oq_wMxVP2oVr"
      },
      "id": "oq_wMxVP2oVr"
    },
    {
      "cell_type": "markdown",
      "source": [
        "Define the chosen models and their parameter grids."
      ],
      "metadata": {
        "id": "AyazgXNq2rla"
      },
      "id": "AyazgXNq2rla"
    },
    {
      "cell_type": "code",
      "source": [
        "models = {\n",
        "    'Balanced Random Forest': BalancedRandomForestClassifier(random_state=42, n_jobs=-1),\n",
        "    'XGBoost': XGBClassifier(use_label_encoder=False, eval_metric='f1', random_state=42, n_jobs=-1),\n",
        "    'LGBM': LGBMClassifier(objective='binary', metric='f1', random_state=42, n_jobs=-1),\n",
        "}\n",
        "\n",
        "param_grids = {\n",
        "    'Balanced Random Forest': {\n",
        "        'n_estimators': [100, 200],\n",
        "        'max_depth': [None, 10, 20],\n",
        "        'min_samples_split': [2, 5],\n",
        "        'min_samples_leaf': [1, 2]\n",
        "    },\n",
        "    'XGBoost': {\n",
        "        'n_estimators': [100, 200],\n",
        "        'max_depth': [3, 6, 10],\n",
        "        'learning_rate': [0.01, 0.1, 0.2],\n",
        "        'subsample': [0.8, 1.0],\n",
        "        'colsample_bytree': [0.8, 1.0]\n",
        "    },\n",
        "    'LGBM': {\n",
        "        'n_estimators': [100, 200],\n",
        "        'max_depth': [-1, 10, 20],\n",
        "        'learning_rate': [0.01, 0.1, 0.2],\n",
        "        'num_leaves': [31, 50, 100],\n",
        "        'subsample': [0.8, 1.0]\n",
        "    },\n",
        "}\n",
        "\n"
      ],
      "metadata": {
        "id": "-MVHhU1Ad8va"
      },
      "id": "-MVHhU1Ad8va",
      "execution_count": 47,
      "outputs": []
    },
    {
      "cell_type": "code",
      "source": [
        "def tune_and_evaluate_models(models, param_grids, X_train, y_train, X_test, y_test, model_save_path, scoring='recall', n_trials=15, threshold=0.3):\n",
        "    best_models = {}\n",
        "    results = []\n",
        "\n",
        "    X_train_sub, X_val, y_train_sub, y_val = train_test_split(\n",
        "        X_train, y_train, test_size=0.2, stratify=y_train, random_state=42\n",
        "    )\n",
        "\n",
        "    smote = SMOTE(random_state=42)\n",
        "    X_train_sub_res, y_train_sub_res = smote.fit_resample(X_train_sub, y_train_sub)\n",
        "\n",
        "    for name, base_model in models.items():\n",
        "        file_name = f'{name.replace(\" \", \"_\").lower()}_model_optuned.pkl'\n",
        "        full_path = os.path.join(model_save_path, file_name)\n",
        "\n",
        "        if os.path.exists(full_path):\n",
        "            print(f\"📦 Loading {name} from saved model at {full_path}\")\n",
        "            with open(full_path, 'rb') as f:\n",
        "                best_model = pickle.load(f)\n",
        "        else:\n",
        "            print(f\"🔍 Tuning {name}...\")\n",
        "\n",
        "            if name == 'Gradient Boosting':\n",
        "                grid = RandomizedSearchCV(\n",
        "                    base_model,\n",
        "                    param_distributions=param_grids[name],\n",
        "                    n_iter=10,\n",
        "                    scoring=scoring,\n",
        "                    cv=3,\n",
        "                    n_jobs=-1,\n",
        "                    random_state=42\n",
        "                )\n",
        "                grid.fit(X_train, y_train)\n",
        "                best_model = grid.best_estimator_\n",
        "                print(f\"✅ GridSearch best params for {name}: {grid.best_params_}\")\n",
        "            else:\n",
        "                def objective(trial):\n",
        "                    params = {\n",
        "                        key: trial.suggest_categorical(key, values)\n",
        "                        for key, values in param_grids[name].items()\n",
        "                    }\n",
        "                    model = base_model.__class__(**params)\n",
        "                    model.set_params(random_state=42)\n",
        "                    if hasattr(model, 'n_jobs'):\n",
        "                        model.set_params(n_jobs=-1)\n",
        "\n",
        "                    if name == 'LGBM':\n",
        "                        model.set_params(objective='binary')\n",
        "                        model.fit(\n",
        "                            X_train_sub_res,\n",
        "                            y_train_sub_res,\n",
        "                            eval_set=[(X_val, y_val)],\n",
        "                            eval_metric='binary_error',\n",
        "                            callbacks=[lgb_early_stopping(stopping_rounds=30, verbose=False)]\n",
        "                        )\n",
        "                        y_prob = model.predict_proba(X_val)[:, 1]\n",
        "                    else:\n",
        "                        model.fit(X_train_sub_res, y_train_sub_res)\n",
        "                        y_prob = model.predict_proba(X_val)[:, 1]\n",
        "\n",
        "                    y_pred = (y_prob >= threshold).astype(int)\n",
        "                    return recall_score(y_val, y_pred)\n",
        "\n",
        "                study = optuna.create_study(direction='maximize')\n",
        "                study.optimize(objective, n_trials=n_trials)\n",
        "\n",
        "                best_params = study.best_params\n",
        "                print(f\"✅ Optuna best params for {name}: {best_params}\")\n",
        "\n",
        "                best_model = base_model.__class__(**best_params)\n",
        "                best_model.set_params(random_state=42)\n",
        "                if hasattr(best_model, 'n_jobs'):\n",
        "                    best_model.set_params(n_jobs=-1)\n",
        "\n",
        "                if name == 'LGBM':\n",
        "                    best_model.set_params(objective='binary')\n",
        "                    best_model.fit(\n",
        "                        X_train_sub_res,\n",
        "                        y_train_sub_res,\n",
        "                        eval_set=[(X_val, y_val)],\n",
        "                        eval_metric='binary_error',\n",
        "                        callbacks=[lgb_early_stopping(stopping_rounds=30, verbose=False)]\n",
        "                    )\n",
        "                else:\n",
        "                    best_model.fit(X_train_sub_res, y_train_sub_res)\n",
        "\n",
        "            with open(full_path, 'wb') as f:\n",
        "                pickle.dump(best_model, f)\n",
        "            print(f\"💾 Saved {name} model to {full_path}\")\n",
        "\n",
        "        best_models[name] = best_model\n",
        "        y_scores = best_model.predict_proba(X_test)[:, 1]\n",
        "        y_pred = (y_scores >= threshold).astype(int)\n",
        "\n",
        "        f1 = f1_score(y_test, y_pred)\n",
        "        precision = precision_score(y_test, y_pred)\n",
        "        recall = recall_score(y_test, y_pred)\n",
        "        roc_auc = roc_auc_score(y_test, y_scores)\n",
        "\n",
        "        results.append({\n",
        "            'Model': name,\n",
        "            'F1 Score': round(f1, 4),\n",
        "            'Precision': round(precision, 4),\n",
        "            'Recall': round(recall, 4),\n",
        "            'ROC AUC': round(roc_auc, 4),\n",
        "            'Threshold': threshold\n",
        "        })\n",
        "\n",
        "        cm = confusion_matrix(y_test, y_pred)\n",
        "        plt.figure(figsize=(4, 3))\n",
        "        sns.heatmap(cm, annot=True, fmt='d', cmap='Blues')\n",
        "        plt.title(f'{name} - Confusion Matrix')\n",
        "        plt.xlabel('Predicted')\n",
        "        plt.ylabel('Actual')\n",
        "        plt.tight_layout()\n",
        "        plt.show()\n",
        "\n",
        "        fpr, tpr, _ = roc_curve(y_test, y_scores)\n",
        "        roc_auc = auc(fpr, tpr)\n",
        "\n",
        "        plt.figure(figsize=(5, 4))\n",
        "        plt.plot(fpr, tpr, label=f'AUC = {roc_auc:.4f}')\n",
        "        plt.plot([0, 1], [0, 1], linestyle='--', color='gray', label='Random')\n",
        "        plt.title(f'{name} - ROC Curve')\n",
        "        plt.xlabel('False Positive Rate')\n",
        "        plt.ylabel('True Positive Rate')\n",
        "        plt.legend()\n",
        "        plt.tight_layout()\n",
        "        plt.show()\n",
        "\n",
        "        precision_vals, recall_vals, _ = precision_recall_curve(y_test, y_scores)\n",
        "        pr_auc = auc(recall_vals, precision_vals)\n",
        "\n",
        "        plt.figure(figsize=(5, 4))\n",
        "        plt.plot(recall_vals, precision_vals, label=f'AUC = {pr_auc:.4f}')\n",
        "        plt.title(f'{name} - Precision-Recall Curve')\n",
        "        plt.xlabel('Recall')\n",
        "        plt.ylabel('Precision')\n",
        "        plt.legend()\n",
        "        plt.tight_layout()\n",
        "        plt.show()\n",
        "\n",
        "    results_df = pd.DataFrame(results).sort_values(by='Recall', ascending=False).reset_index(drop=True)\n",
        "    return best_models, results_df\n"
      ],
      "metadata": {
        "id": "GmftR1zGew7t"
      },
      "id": "GmftR1zGew7t",
      "execution_count": 48,
      "outputs": []
    },
    {
      "cell_type": "code",
      "source": [
        "best_models, results_df = tune_and_evaluate_models(models, param_grids, X_train, y_train, X_test, y_test, model_save_path)"
      ],
      "metadata": {
        "colab": {
          "base_uri": "https://localhost:8080/",
          "height": 1000
        },
        "id": "_pOA_iFVfDkZ",
        "outputId": "2996a071-a7e1-457a-dda8-56521c9fdb91"
      },
      "id": "_pOA_iFVfDkZ",
      "execution_count": 49,
      "outputs": [
        {
          "output_type": "stream",
          "name": "stdout",
          "text": [
            "📦 Loading Balanced Random Forest from saved model at /content/drive/My Drive/Turing/ML Capstone project/trained_models/balanced_random_forest_model_optuned.pkl\n"
          ]
        },
        {
          "output_type": "display_data",
          "data": {
            "text/plain": [
              "<Figure size 400x300 with 2 Axes>"
            ],
            "image/png": "[encoded data removed]"
          },
          "metadata": {}
        },
        {
          "output_type": "display_data",
          "data": {
            "text/plain": [
              "<Figure size 500x400 with 1 Axes>"
            ],
            "image/png": "[encoded data removed]"
          },
          "metadata": {}
        },
        {
          "output_type": "display_data",
          "data": {
            "text/plain": [
              "<Figure size 500x400 with 1 Axes>"
            ],
            "image/png": "[encoded data removed]"
          },
          "metadata": {}
        },
        {
          "output_type": "stream",
          "name": "stdout",
          "text": [
            "📦 Loading XGBoost from saved model at /content/drive/My Drive/Turing/ML Capstone project/trained_models/xgboost_model_optuned.pkl\n"
          ]
        },
        {
          "output_type": "display_data",
          "data": {
            "text/plain": [
              "<Figure size 400x300 with 2 Axes>"
            ],
            "image/png": "[encoded data removed]"
          },
          "metadata": {}
        },
        {
          "output_type": "display_data",
          "data": {
            "text/plain": [
              "<Figure size 500x400 with 1 Axes>"
            ],
            "image/png": "[encoded data removed]"
          },
          "metadata": {}
        },
        {
          "output_type": "display_data",
          "data": {
            "text/plain": [
              "<Figure size 500x400 with 1 Axes>"
            ],
            "image/png": "[encoded data removed]"
          },
          "metadata": {}
        },
        {
          "output_type": "stream",
          "name": "stdout",
          "text": [
            "📦 Loading LGBM from saved model at /content/drive/My Drive/Turing/ML Capstone project/trained_models/lgbm_model_optuned.pkl\n"
          ]
        },
        {
          "output_type": "display_data",
          "data": {
            "text/plain": [
              "<Figure size 400x300 with 2 Axes>"
            ],
            "image/png": "[encoded data removed]"
          },
          "metadata": {}
        },
        {
          "output_type": "display_data",
          "data": {
            "text/plain": [
              "<Figure size 500x400 with 1 Axes>"
            ],
            "image/png": "[encoded data removed]"
          },
          "metadata": {}
        },
        {
          "output_type": "display_data",
          "data": {
            "text/plain": [
              "<Figure size 500x400 with 1 Axes>"
            ],
            "image/png": "[encoded data removed]"
          },
          "metadata": {}
        }
      ]
    },
    {
      "cell_type": "markdown",
      "source": [
        "# 6. Ensembling"
      ],
      "metadata": {
        "id": "Wl1n19kD27BU"
      },
      "id": "Wl1n19kD27BU"
    },
    {
      "cell_type": "markdown",
      "source": [
        "I used a soft voting ensemble to get the results as the probability of defaulting."
      ],
      "metadata": {
        "id": "K0Iz8m4J29Ws"
      },
      "id": "K0Iz8m4J29Ws"
    },
    {
      "cell_type": "code",
      "source": [
        "estimators = [(name, model) for name, model in best_models.items()]\n",
        "voting_clf = VotingClassifier(estimators=estimators, voting='soft')\n",
        "\n",
        "voting_clf.fit(X_train, y_train)\n",
        "\n",
        "file_name = 'voting_ensemble.pkl'\n",
        "full_path = os.path.join(model_save_path, file_name)\n",
        "with open(full_path, 'wb') as f:\n",
        "    pickle.dump(voting_clf, f)\n",
        "print(f\"💾 Saved voting_ensemble model to {full_path}\")\n",
        "\n",
        "y_pred_voting = voting_clf.predict(X_test)\n",
        "y_scores_voting = voting_clf.predict_proba(X_test)[:, 1]\n",
        "\n",
        "voting_accuracy = accuracy_score(y_test, y_pred_voting)\n",
        "voting_f1 = f1_score(y_test, y_pred_voting)\n",
        "voting_precision = precision_score(y_test, y_pred_voting)\n",
        "voting_recall = recall_score(y_test, y_pred_voting)\n",
        "voting_roc_auc = roc_auc_score(y_test, y_scores_voting)\n",
        "\n",
        "print(\"\\n🧠 Voting Classifier Performance:\")\n",
        "print(f\"Accuracy:   {voting_accuracy:.4f}\")\n",
        "print(f\"F1 Score:   {voting_f1:.4f}\")\n",
        "print(f\"Precision:  {voting_precision:.4f}\")\n",
        "print(f\"Recall:     {voting_recall:.4f}\")\n",
        "print(f\"ROC AUC:    {voting_roc_auc:.4f}\")\n",
        "\n",
        "print(\"\\n📋 Classification Report for Voting Classifier:\")\n",
        "print(classification_report(y_test, y_pred_voting))\n",
        "\n",
        "cm_voting = confusion_matrix(y_test, y_pred_voting)\n",
        "plt.figure(figsize=(4, 3))\n",
        "sns.heatmap(cm_voting, annot=True, fmt='d', cmap='Blues')\n",
        "plt.title('Voting Classifier - Confusion Matrix')\n",
        "plt.xlabel('Predicted')\n",
        "plt.ylabel('Actual')\n",
        "plt.tight_layout()\n",
        "plt.show()\n",
        "\n",
        "fpr, tpr, _ = roc_curve(y_test, y_scores_voting)\n",
        "roc_auc = auc(fpr, tpr)\n",
        "plt.figure(figsize=(5, 4))\n",
        "plt.plot(fpr, tpr, label=f'AUC = {roc_auc:.4f}')\n",
        "plt.plot([0, 1], [0, 1], linestyle='--', color='gray', label='Random')\n",
        "plt.title('Voting Classifier - ROC Curve')\n",
        "plt.xlabel('False Positive Rate')\n",
        "plt.ylabel('True Positive Rate')\n",
        "plt.legend()\n",
        "plt.tight_layout()\n",
        "plt.show()\n",
        "\n",
        "precision_vals, recall_vals, _ = precision_recall_curve(y_test, y_scores_voting)\n",
        "pr_auc = auc(recall_vals, precision_vals)\n",
        "plt.figure(figsize=(5, 4))\n",
        "plt.plot(recall_vals, precision_vals, label=f'AUC = {pr_auc:.4f}')\n",
        "plt.title('Voting Classifier - Precision-Recall Curve')\n",
        "plt.xlabel('Recall')\n",
        "plt.ylabel('Precision')\n",
        "plt.legend()\n",
        "plt.tight_layout()\n",
        "plt.show()\n",
        "\n"
      ],
      "metadata": {
        "id": "seCrQq7DfNva",
        "colab": {
          "base_uri": "https://localhost:8080/",
          "height": 1000
        },
        "outputId": "bf8fba8b-e73d-4529-a369-fb1b723367b5"
      },
      "id": "seCrQq7DfNva",
      "execution_count": 50,
      "outputs": [
        {
          "output_type": "stream",
          "name": "stdout",
          "text": [
            "[LightGBM] [Info] Number of positive: 19860, number of negative: 226148\n",
            "[LightGBM] [Info] Auto-choosing col-wise multi-threading, the overhead of testing was 0.346958 seconds.\n",
            "You can set `force_col_wise=true` to remove the overhead.\n",
            "[LightGBM] [Info] Total Bins 38185\n",
            "[LightGBM] [Info] Number of data points in the train set: 246008, number of used features: 496\n",
            "[LightGBM] [Info] [binary:BoostFromScore]: pavg=0.080729 -> initscore=-2.432482\n",
            "[LightGBM] [Info] Start training from score -2.432482\n",
            "💾 Saved voting_ensemble model to /content/drive/My Drive/Turing/ML Capstone project/trained_models/voting_ensemble.pkl\n",
            "\n",
            "🧠 Voting Classifier Performance:\n",
            "Accuracy:   0.9193\n",
            "F1 Score:   0.0000\n",
            "Precision:  0.0000\n",
            "Recall:     0.0000\n",
            "ROC AUC:    0.7572\n",
            "\n",
            "📋 Classification Report for Voting Classifier:\n",
            "              precision    recall  f1-score   support\n",
            "\n",
            "           0       0.92      1.00      0.96     56538\n",
            "           1       0.00      0.00      0.00      4965\n",
            "\n",
            "    accuracy                           0.92     61503\n",
            "   macro avg       0.46      0.50      0.48     61503\n",
            "weighted avg       0.85      0.92      0.88     61503\n",
            "\n"
          ]
        },
        {
          "output_type": "display_data",
          "data": {
            "text/plain": [
              "<Figure size 400x300 with 2 Axes>"
            ],
            "image/png": "[encoded data removed]"
          },
          "metadata": {}
        },
        {
          "output_type": "display_data",
          "data": {
            "text/plain": [
              "<Figure size 500x400 with 1 Axes>"
            ],
            "image/png": "[encoded data removed]"
          },
          "metadata": {}
        },
        {
          "output_type": "display_data",
          "data": {
            "text/plain": [
              "<Figure size 500x400 with 1 Axes>"
            ],
            "image/png": "[encoded data removed]"
          },
          "metadata": {}
        }
      ]
    },
    {
      "cell_type": "markdown",
      "source": [
        "# 7. Kaggle Competition Submission"
      ],
      "metadata": {
        "id": "5OOn7jAq3KQq"
      },
      "id": "5OOn7jAq3KQq"
    },
    {
      "cell_type": "markdown",
      "source": [
        "My final submission received a 0.747 ROC score.\n",
        "\n",
        "For more information about the competition see:\n",
        "\n",
        "https://www.kaggle.com/competitions/home-credit-default-risk/overview"
      ],
      "metadata": {
        "id": "8UQK_dWg3Oi9"
      },
      "id": "8UQK_dWg3Oi9"
    },
    {
      "cell_type": "code",
      "source": [
        "files.upload()"
      ],
      "metadata": {
        "colab": {
          "base_uri": "https://localhost:8080/",
          "height": 90
        },
        "id": "w0W7FbvmrXTS",
        "outputId": "58ea1a4d-9933-492d-d4ea-779acaf47310"
      },
      "id": "w0W7FbvmrXTS",
      "execution_count": 51,
      "outputs": [
        {
          "output_type": "display_data",
          "data": {
            "text/plain": [
              "<IPython.core.display.HTML object>"
            ],
            "text/html": [
              "\n",
              "     <input type=\"file\" id=\"files-86d07327-489d-4a04-ae77-200b81267dbb\" name=\"files[]\" multiple disabled\n",
              "        style=\"border:none\" />\n",
              "     <output id=\"result-86d07327-489d-4a04-ae77-200b81267dbb\">\n",
              "      Upload widget is only available when the cell has been executed in the\n",
              "      current browser session. Please rerun this cell to enable.\n",
              "      </output>\n",
              "      <script>// Copyright 2017 Google LLC\n",
              "//\n",
              "// Licensed under the Apache License, Version 2.0 (the \"License\");\n",
              "// you may not use this file except in compliance with the License.\n",
              "// You may obtain a copy of the License at\n",
              "//\n",
              "//      http://www.apache.org/licenses/LICENSE-2.0\n",
              "//\n",
              "// Unless required by applicable law or agreed to in writing, software\n",
              "// distributed under the License is distributed on an \"AS IS\" BASIS,\n",
              "// WITHOUT WARRANTIES OR CONDITIONS OF ANY KIND, either express or implied.\n",
              "// See the License for the specific language governing permissions and\n",
              "// limitations under the License.\n",
              "\n",
              "/**\n",
              " * @fileoverview Helpers for google.colab Python module.\n",
              " */\n",
              "(function(scope) {\n",
              "function span(text, styleAttributes = {}) {\n",
              "  const element = document.createElement('span');\n",
              "  element.textContent = text;\n",
              "  for (const key of Object.keys(styleAttributes)) {\n",
              "    element.style[key] = styleAttributes[key];\n",
              "  }\n",
              "  return element;\n",
              "}\n",
              "\n",
              "// Max number of bytes which will be uploaded at a time.\n",
              "const MAX_PAYLOAD_SIZE = 100 * 1024;\n",
              "\n",
              "function _uploadFiles(inputId, outputId) {\n",
              "  const steps = uploadFilesStep(inputId, outputId);\n",
              "  const outputElement = document.getElementById(outputId);\n",
              "  // Cache steps on the outputElement to make it available for the next call\n",
              "  // to uploadFilesContinue from Python.\n",
              "  outputElement.steps = steps;\n",
              "\n",
              "  return _uploadFilesContinue(outputId);\n",
              "}\n",
              "\n",
              "// This is roughly an async generator (not supported in the browser yet),\n",
              "// where there are multiple asynchronous steps and the Python side is going\n",
              "// to poll for completion of each step.\n",
              "// This uses a Promise to block the python side on completion of each step,\n",
              "// then passes the result of the previous step as the input to the next step.\n",
              "function _uploadFilesContinue(outputId) {\n",
              "  const outputElement = document.getElementById(outputId);\n",
              "  const steps = outputElement.steps;\n",
              "\n",
              "  const next = steps.next(outputElement.lastPromiseValue);\n",
              "  return Promise.resolve(next.value.promise).then((value) => {\n",
              "    // Cache the last promise value to make it available to the next\n",
              "    // step of the generator.\n",
              "    outputElement.lastPromiseValue = value;\n",
              "    return next.value.response;\n",
              "  });\n",
              "}\n",
              "\n",
              "/**\n",
              " * Generator function which is called between each async step of the upload\n",
              " * process.\n",
              " * @param {string} inputId Element ID of the input file picker element.\n",
              " * @param {string} outputId Element ID of the output display.\n",
              " * @return {!Iterable<!Object>} Iterable of next steps.\n",
              " */\n",
              "function* uploadFilesStep(inputId, outputId) {\n",
              "  const inputElement = document.getElementById(inputId);\n",
              "  inputElement.disabled = false;\n",
              "\n",
              "  const outputElement = document.getElementById(outputId);\n",
              "  outputElement.innerHTML = '';\n",
              "\n",
              "  const pickedPromise = new Promise((resolve) => {\n",
              "    inputElement.addEventListener('change', (e) => {\n",
              "      resolve(e.target.files);\n",
              "    });\n",
              "  });\n",
              "\n",
              "  const cancel = document.createElement('button');\n",
              "  inputElement.parentElement.appendChild(cancel);\n",
              "  cancel.textContent = 'Cancel upload';\n",
              "  const cancelPromise = new Promise((resolve) => {\n",
              "    cancel.onclick = () => {\n",
              "      resolve(null);\n",
              "    };\n",
              "  });\n",
              "\n",
              "  // Wait for the user to pick the files.\n",
              "  const files = yield {\n",
              "    promise: Promise.race([pickedPromise, cancelPromise]),\n",
              "    response: {\n",
              "      action: 'starting',\n",
              "    }\n",
              "  };\n",
              "\n",
              "  cancel.remove();\n",
              "\n",
              "  // Disable the input element since further picks are not allowed.\n",
              "  inputElement.disabled = true;\n",
              "\n",
              "  if (!files) {\n",
              "    return {\n",
              "      response: {\n",
              "        action: 'complete',\n",
              "      }\n",
              "    };\n",
              "  }\n",
              "\n",
              "  for (const file of files) {\n",
              "    const li = document.createElement('li');\n",
              "    li.append(span(file.name, {fontWeight: 'bold'}));\n",
              "    li.append(span(\n",
              "        `(${file.type || 'n/a'}) - ${file.size} bytes, ` +\n",
              "        `last modified: ${\n",
              "            file.lastModifiedDate ? file.lastModifiedDate.toLocaleDateString() :\n",
              "                                    'n/a'} - `));\n",
              "    const percent = span('0% done');\n",
              "    li.appendChild(percent);\n",
              "\n",
              "    outputElement.appendChild(li);\n",
              "\n",
              "    const fileDataPromise = new Promise((resolve) => {\n",
              "      const reader = new FileReader();\n",
              "      reader.onload = (e) => {\n",
              "        resolve(e.target.result);\n",
              "      };\n",
              "      reader.readAsArrayBuffer(file);\n",
              "    });\n",
              "    // Wait for the data to be ready.\n",
              "    let fileData = yield {\n",
              "      promise: fileDataPromise,\n",
              "      response: {\n",
              "        action: 'continue',\n",
              "      }\n",
              "    };\n",
              "\n",
              "    // Use a chunked sending to avoid message size limits. See b/62115660.\n",
              "    let position = 0;\n",
              "    do {\n",
              "      const length = Math.min(fileData.byteLength - position, MAX_PAYLOAD_SIZE);\n",
              "      const chunk = new Uint8Array(fileData, position, length);\n",
              "      position += length;\n",
              "\n",
              "      const base64 = btoa(String.fromCharCode.apply(null, chunk));\n",
              "      yield {\n",
              "        response: {\n",
              "          action: 'append',\n",
              "          file: file.name,\n",
              "          data: base64,\n",
              "        },\n",
              "      };\n",
              "\n",
              "      let percentDone = fileData.byteLength === 0 ?\n",
              "          100 :\n",
              "          Math.round((position / fileData.byteLength) * 100);\n",
              "      percent.textContent = `${percentDone}% done`;\n",
              "\n",
              "    } while (position < fileData.byteLength);\n",
              "  }\n",
              "\n",
              "  // All done.\n",
              "  yield {\n",
              "    response: {\n",
              "      action: 'complete',\n",
              "    }\n",
              "  };\n",
              "}\n",
              "\n",
              "scope.google = scope.google || {};\n",
              "scope.google.colab = scope.google.colab || {};\n",
              "scope.google.colab._files = {\n",
              "  _uploadFiles,\n",
              "  _uploadFilesContinue,\n",
              "};\n",
              "})(self);\n",
              "</script> "
            ]
          },
          "metadata": {}
        },
        {
          "output_type": "stream",
          "name": "stdout",
          "text": [
            "Saving kaggle.json to kaggle.json\n"
          ]
        },
        {
          "output_type": "execute_result",
          "data": {
            "text/plain": [
              "{'kaggle.json': b'{\"username\":\"kataherndi\",\"key\":\"fbcc30c1c4e33978061e301299c38a95\"}'}"
            ]
          },
          "metadata": {},
          "execution_count": 51
        }
      ]
    },
    {
      "cell_type": "code",
      "source": [
        "test_id = testing_data['SK_ID_CURR']"
      ],
      "metadata": {
        "id": "BLzdaItgMHhK"
      },
      "id": "BLzdaItgMHhK",
      "execution_count": 52,
      "outputs": []
    },
    {
      "cell_type": "code",
      "source": [
        "test_records = testing_data.loc[testing_data['SK_ID_CURR'].isin(test_id)].drop(columns = ['SK_ID_CURR'])"
      ],
      "metadata": {
        "id": "6GahUGcIOhcn"
      },
      "id": "6GahUGcIOhcn",
      "execution_count": 54,
      "outputs": []
    },
    {
      "cell_type": "code",
      "source": [
        "test_results = voting_clf.predict_proba(testing_data.drop(columns=['SK_ID_CURR']))[:, 1]"
      ],
      "metadata": {
        "id": "rPsSzwhDMPr4"
      },
      "id": "rPsSzwhDMPr4",
      "execution_count": 55,
      "outputs": []
    },
    {
      "cell_type": "code",
      "source": [
        "test_frame = pd.DataFrame({'SK_ID_CURR': test_id, 'TARGET': test_results})"
      ],
      "metadata": {
        "id": "ZDQkjxz0LyKS"
      },
      "id": "ZDQkjxz0LyKS",
      "execution_count": 56,
      "outputs": []
    },
    {
      "cell_type": "code",
      "source": [
        "test_frame.to_csv('submission_threshold.csv', index=False)"
      ],
      "metadata": {
        "id": "Nn_k2qQwpYKu"
      },
      "id": "Nn_k2qQwpYKu",
      "execution_count": 57,
      "outputs": []
    },
    {
      "cell_type": "code",
      "source": [
        "!kaggle competitions submit -c home-credit-default-risk -f submission_threshold.csv -m \"submission after modified threshold\""
      ],
      "metadata": {
        "colab": {
          "base_uri": "https://localhost:8080/"
        },
        "id": "_rB9Y0LxnDTV",
        "outputId": "b5153984-0523-4975-c239-621ae0d87129"
      },
      "id": "_rB9Y0LxnDTV",
      "execution_count": 58,
      "outputs": [
        {
          "output_type": "stream",
          "name": "stdout",
          "text": [
            "Traceback (most recent call last):\n",
            "  File \"/usr/local/bin/kaggle\", line 4, in <module>\n",
            "    from kaggle.cli import main\n",
            "  File \"/usr/local/lib/python3.11/dist-packages/kaggle/__init__.py\", line 6, in <module>\n",
            "    api.authenticate()\n",
            "  File \"/usr/local/lib/python3.11/dist-packages/kaggle/api/kaggle_api_extended.py\", line 434, in authenticate\n",
            "    raise IOError('Could not find {}. Make sure it\\'s located in'\n",
            "OSError: Could not find kaggle.json. Make sure it's located in /root/.config/kaggle. Or use the environment method. See setup instructions at https://github.com/Kaggle/kaggle-api/\n"
          ]
        }
      ]
    },
    {
      "cell_type": "markdown",
      "source": [
        "# 8. Deployment"
      ],
      "metadata": {
        "id": "_GVumZ2w3bu0"
      },
      "id": "_GVumZ2w3bu0"
    },
    {
      "cell_type": "markdown",
      "source": [
        "Save final model."
      ],
      "metadata": {
        "id": "qjQgqiwO3yCM"
      },
      "id": "qjQgqiwO3yCM"
    },
    {
      "cell_type": "code",
      "source": [
        "joblib.dump(voting_clf, \"model.joblib\")"
      ],
      "metadata": {
        "colab": {
          "base_uri": "https://localhost:8080/"
        },
        "id": "PWrakkG9X6y0",
        "outputId": "0df666b1-2b7a-48b1-a9b8-b89f240fe380"
      },
      "id": "PWrakkG9X6y0",
      "execution_count": 79,
      "outputs": [
        {
          "output_type": "execute_result",
          "data": {
            "text/plain": [
              "['model.joblib']"
            ]
          },
          "metadata": {},
          "execution_count": 79
        }
      ]
    },
    {
      "cell_type": "markdown",
      "source": [
        "Create code for the Flask app."
      ],
      "metadata": {
        "id": "aZI8TIA730bO"
      },
      "id": "aZI8TIA730bO"
    },
    {
      "cell_type": "code",
      "source": [
        "flask_code = '''\n",
        "from flask import Flask, request, jsonify\n",
        "import joblib\n",
        "import numpy as np\n",
        "\n",
        "app = Flask(__name__)\n",
        "model = joblib.load(\"model.joblib\")\n",
        "\n",
        "@app.route(\"/predict\", methods=[\"POST\"])\n",
        "def predict():\n",
        "    data = request.get_json()\n",
        "    if not data or \"instances\" not in data:\n",
        "        return jsonify({\"error\": \"Missing 'instances' key\"}), 400\n",
        "\n",
        "    try:\n",
        "        instances = np.array(data[\"instances\"])\n",
        "        preds = model.predict_proba(instances)[:, 1]\n",
        "        return jsonify({\"predictions\": preds.tolist()})\n",
        "    except Exception as e:\n",
        "        return jsonify({\"error\": str(e)}), 500\n",
        "\n",
        "@app.route(\"/\", methods=[\"GET\"])\n",
        "def health():\n",
        "    return \"Voting model is running!\", 200\n",
        "'''\n",
        "with open(\"app.py\", \"w\") as f:\n",
        "    f.write(flask_code.strip())\n"
      ],
      "metadata": {
        "id": "4nA9JeDvX-PK"
      },
      "id": "4nA9JeDvX-PK",
      "execution_count": 80,
      "outputs": []
    },
    {
      "cell_type": "markdown",
      "source": [
        "Save requirements."
      ],
      "metadata": {
        "id": "C3jf7pOK33YA"
      },
      "id": "C3jf7pOK33YA"
    },
    {
      "cell_type": "code",
      "source": [
        "reqs = '''\n",
        "Flask\n",
        "joblib\n",
        "scikit-learn\n",
        "xgboost\n",
        "lightgbm\n",
        "imbalanced-learn\n",
        "numpy\n",
        "'''\n",
        "with open(\"requirements.txt\", \"w\") as f:\n",
        "    f.write(reqs.strip())\n"
      ],
      "metadata": {
        "id": "N9hM9m_zYAn7"
      },
      "id": "N9hM9m_zYAn7",
      "execution_count": 81,
      "outputs": []
    },
    {
      "cell_type": "markdown",
      "source": [
        "Create docker file."
      ],
      "metadata": {
        "id": "p6kPgyJj39hh"
      },
      "id": "p6kPgyJj39hh"
    },
    {
      "cell_type": "code",
      "source": [
        "dockerfile = '''\n",
        "FROM python:3.10-slim\n",
        "\n",
        "# Install system dependencies required for LightGBM and other ML libraries\n",
        "RUN apt-get update && apt-get install -y \\\n",
        "    # Core dependencies for LightGBM\n",
        "    libgomp1 \\\n",
        "    # Build tools (needed if pip needs to compile)\n",
        "    build-essential \\\n",
        "    cmake \\\n",
        "    # Additional libraries that might be needed\n",
        "    libglib2.0-0 \\\n",
        "    libsm6 \\\n",
        "    libxext6 \\\n",
        "    libxrender-dev \\\n",
        "    libgl1-mesa-glx \\\n",
        "    # Clean up\n",
        "    && rm -rf /var/lib/apt/lists/*\n",
        "\n",
        "WORKDIR /app\n",
        "\n",
        "# Copy requirements first for better caching\n",
        "COPY requirements.txt .\n",
        "\n",
        "# Install Python dependencies\n",
        "# Use --no-binary :all: for lightgbm to ensure it compiles with the right dependencies\n",
        "RUN pip install --no-cache-dir -r requirements.txt\n",
        "\n",
        "# Copy application code\n",
        "COPY . .\n",
        "\n",
        "# Set environment variable for port\n",
        "ENV PORT 8080\n",
        "\n",
        "# Run the application\n",
        "CMD [\"python\", \"app.py\"]\n",
        "'''\n",
        "with open(\"Dockerfile\", \"w\") as f:\n",
        "    f.write(dockerfile.strip())\n"
      ],
      "metadata": {
        "id": "2WX-G-SHYDdL"
      },
      "id": "2WX-G-SHYDdL",
      "execution_count": 82,
      "outputs": []
    },
    {
      "cell_type": "markdown",
      "source": [
        "Connect to Google CLoud."
      ],
      "metadata": {
        "id": "KNuLdKGq4AYi"
      },
      "id": "KNuLdKGq4AYi"
    },
    {
      "cell_type": "code",
      "source": [
        "auth.authenticate_user()"
      ],
      "metadata": {
        "id": "82iBP7QeYIbG"
      },
      "id": "82iBP7QeYIbG",
      "execution_count": 84,
      "outputs": []
    },
    {
      "cell_type": "markdown",
      "source": [
        "Navigate to project."
      ],
      "metadata": {
        "id": "y0kGve8X4CgK"
      },
      "id": "y0kGve8X4CgK"
    },
    {
      "cell_type": "code",
      "source": [
        "PROJECT_ID = \"turing-final-461008\"\n",
        "SERVICE_NAME = \"voting-api\"\n",
        "REGION = \"us-central1\"\n",
        "IMAGE = f\"gcr.io/{PROJECT_ID}/{SERVICE_NAME}\"\n"
      ],
      "metadata": {
        "id": "hctCK02lYWcz"
      },
      "id": "hctCK02lYWcz",
      "execution_count": 85,
      "outputs": []
    },
    {
      "cell_type": "code",
      "source": [
        "!gcloud config set project {PROJECT_ID}\n",
        "!gcloud services enable run.googleapis.com\n",
        "!gcloud services enable cloudbuild.googleapis.com\n"
      ],
      "metadata": {
        "colab": {
          "base_uri": "https://localhost:8080/"
        },
        "id": "Uv-xcQzTYehz",
        "outputId": "c62298fc-fee1-4e48-e123-49fa1d138e80"
      },
      "id": "Uv-xcQzTYehz",
      "execution_count": 86,
      "outputs": [
        {
          "output_type": "stream",
          "name": "stdout",
          "text": [
            "Updated property [core/project].\n"
          ]
        }
      ]
    },
    {
      "cell_type": "markdown",
      "source": [
        "Build and deploy."
      ],
      "metadata": {
        "id": "RB-8m7f54FXT"
      },
      "id": "RB-8m7f54FXT"
    },
    {
      "cell_type": "code",
      "source": [
        "!gcloud builds submit --tag {IMAGE}\n",
        "!gcloud run deploy {SERVICE_NAME} \\\n",
        "  --image {IMAGE} \\\n",
        "  --platform managed \\\n",
        "  --region {REGION} \\\n",
        "  --allow-unauthenticated\n"
      ],
      "metadata": {
        "colab": {
          "base_uri": "https://localhost:8080/"
        },
        "id": "Im1PXI0KYgj3",
        "outputId": "3f371ba9-ab03-4464-f57d-23be03e30558"
      },
      "id": "Im1PXI0KYgj3",
      "execution_count": 88,
      "outputs": [
        {
          "output_type": "stream",
          "name": "stdout",
          "text": [
            "Creating temporary archive of 5 file(s) totalling 652.2 MiB before compression.\n",
            "Uploading tarball of [.] to [gs://turing-final-461008_cloudbuild/source/1748278037.216995-52c0886384c848e7875fcd2ddfc01fa7.tgz]\n",
            "Created [https://cloudbuild.googleapis.com/v1/projects/turing-final-461008/locations/global/builds/b7c28c83-d7d9-4537-a986-ed423d656280].\n",
            "Logs are available at [ https://console.cloud.google.com/cloud-build/builds/b7c28c83-d7d9-4537-a986-ed423d656280?project=607573225867 ].\n",
            "Waiting for build to complete. Polling interval: 1 second(s).\n",
            " REMOTE BUILD OUTPUT\n",
            "starting build \"b7c28c83-d7d9-4537-a986-ed423d656280\"\n",
            "\n",
            "FETCHSOURCE\n",
            "Fetching storage object: gs://turing-final-461008_cloudbuild/source/1748278037.216995-52c0886384c848e7875fcd2ddfc01fa7.tgz#1748278438034134\n",
            "Copying gs://turing-final-461008_cloudbuild/source/1748278037.216995-52c0886384c848e7875fcd2ddfc01fa7.tgz#1748278438034134...\n",
            "|\n",
            "Operation completed over 1 objects/245.2 MiB.\n",
            "BUILD\n",
            "Already have image (with digest): gcr.io/cloud-builders/docker\n",
            "Sending build context to Docker daemon  683.9MB\n",
            "Step 1/8 : FROM python:3.10-slim\n",
            "3.10-slim: Pulling from library/python\n",
            "61320b01ae5e: Pulling fs layer\n",
            "f7abc9c34473: Pulling fs layer\n",
            "40f0d24c02c5: Pulling fs layer\n",
            "58f8b341ff7d: Pulling fs layer\n",
            "58f8b341ff7d: Waiting\n",
            "f7abc9c34473: Verifying Checksum\n",
            "f7abc9c34473: Download complete\n",
            "40f0d24c02c5: Verifying Checksum\n",
            "40f0d24c02c5: Download complete\n",
            "61320b01ae5e: Verifying Checksum\n",
            "61320b01ae5e: Download complete\n",
            "58f8b341ff7d: Download complete\n",
            "61320b01ae5e: Pull complete\n",
            "f7abc9c34473: Pull complete\n",
            "40f0d24c02c5: Pull complete\n",
            "58f8b341ff7d: Pull complete\n",
            "Digest: sha256:49454d2bf78a48f217eb25ecbcb4b5face313fea6a6e82706465a6990303ada2\n",
            "Status: Downloaded newer image for python:3.10-slim\n",
            " ---> e6d8b768c22f\n",
            "Step 2/8 : RUN apt-get update && apt-get install -y     libgomp1     build-essential     cmake     libglib2.0-0     libsm6     libxext6     libxrender-dev     libgl1-mesa-glx     && rm -rf /var/lib/apt/lists/*\n",
            " ---> Running in 6ba2f28510ef\n",
            "Get:1 http://deb.debian.org/debian bookworm InRelease [151 kB]\n",
            "Get:2 http://deb.debian.org/debian bookworm-updates InRelease [55.4 kB]\n",
            "Get:3 http://deb.debian.org/debian-security bookworm-security InRelease [48.0 kB]\n",
            "Get:4 http://deb.debian.org/debian bookworm/main amd64 Packages [8793 kB]\n",
            "Get:5 http://deb.debian.org/debian bookworm-updates/main amd64 Packages [512 B]\n",
            "Get:6 http://deb.debian.org/debian-security bookworm-security/main amd64 Packages [261 kB]\n",
            "Fetched 9309 kB in 2s (5462 kB/s)\n",
            "Reading package lists...\n",
            "Reading package lists...\n",
            "Building dependency tree...\n",
            "Reading state information...\n",
            "The following additional packages will be installed:\n",
            "  binutils binutils-common binutils-x86-64-linux-gnu bzip2 cmake-data cpp\n",
            "  cpp-12 dirmngr dpkg-dev fakeroot fontconfig-config fonts-dejavu-core g++\n",
            "  g++-12 gcc gcc-12 gnupg gnupg-l10n gnupg-utils gpg gpg-agent gpg-wks-client\n",
            "  gpg-wks-server gpgconf gpgsm libabsl20220623 libalgorithm-diff-perl\n",
            "  libalgorithm-diff-xs-perl libalgorithm-merge-perl libaom3 libarchive13\n",
            "  libasan8 libassuan0 libatomic1 libavif15 libbinutils libbrotli1 libbsd0\n",
            "  libc-dev-bin libc-devtools libc6-dev libcc1-0 libcrypt-dev libctf-nobfd0\n",
            "  libctf0 libcurl4 libdav1d6 libde265-0 libdeflate0 libdpkg-perl\n",
            "  libdrm-amdgpu1 libdrm-common libdrm-intel1 libdrm-nouveau2 libdrm-radeon1\n",
            "  libdrm2 libedit2 libelf1 libexpat1 libfakeroot libfile-fcntllock-perl\n",
            "  libfontconfig1 libfreetype6 libgav1-1 libgcc-12-dev libgd3 libgdbm-compat4\n",
            "  libgl1 libgl1-mesa-dri libglapi-mesa libglib2.0-data libglvnd0 libglx-mesa0\n",
            "  libglx0 libgprofng0 libheif1 libice6 libicu72 libisl23 libitm1 libjansson4\n",
            "  libjbig0 libjpeg62-turbo libjsoncpp25 libksba8 libldap-2.5-0 libldap-common\n",
            "  liblerc4 libllvm15 liblocale-gettext-perl liblsan0 libmpc3 libmpfr6\n",
            "  libnghttp2-14 libnpth0 libnsl-dev libnuma1 libpciaccess0 libperl5.36\n",
            "  libpng16-16 libproc2-0 libpsl5 libpthread-stubs0-dev libquadmath0 librav1e0\n",
            "  librhash0 librtmp1 libsasl2-2 libsasl2-modules libsasl2-modules-db\n",
            "  libsensors-config libsensors5 libssh2-1 libstdc++-12-dev libsvtav1enc1\n",
            "  libtiff6 libtirpc-dev libtsan2 libubsan1 libuv1 libwebp7 libx11-6\n",
            "  libx11-data libx11-dev libx11-xcb1 libx265-199 libxau-dev libxau6\n",
            "  libxcb-dri2-0 libxcb-dri3-0 libxcb-glx0 libxcb-present0 libxcb-randr0\n",
            "  libxcb-shm0 libxcb-sync1 libxcb-xfixes0 libxcb1 libxcb1-dev libxdmcp-dev\n",
            "  libxdmcp6 libxfixes3 libxml2 libxpm4 libxrender1 libxshmfence1 libxxf86vm1\n",
            "  libyuv0 libz3-4 linux-libc-dev make manpages manpages-dev patch perl\n",
            "  perl-modules-5.36 pinentry-curses procps psmisc publicsuffix rpcsvc-proto\n",
            "  shared-mime-info x11-common x11proto-dev xdg-user-dirs xorg-sgml-doctools\n",
            "  xtrans-dev xz-utils\n",
            "Suggested packages:\n",
            "  binutils-doc bzip2-doc cmake-doc cmake-format elpa-cmake-mode ninja-build\n",
            "  cpp-doc gcc-12-locales cpp-12-doc dbus-user-session libpam-systemd\n",
            "  pinentry-gnome3 tor debian-keyring g++-multilib g++-12-multilib gcc-12-doc\n",
            "  gcc-multilib autoconf automake libtool flex bison gdb gcc-doc\n",
            "  gcc-12-multilib parcimonie xloadimage scdaemon lrzip glibc-doc\n",
            "  sensible-utils git bzr libgd-tools low-memory-monitor pciutils\n",
            "  libsasl2-modules-gssapi-mit | libsasl2-modules-gssapi-heimdal\n",
            "  libsasl2-modules-ldap libsasl2-modules-otp libsasl2-modules-sql lm-sensors\n",
            "  libstdc++-12-doc libx11-doc libxcb-doc make-doc man-browser ed diffutils-doc\n",
            "  perl-doc libterm-readline-gnu-perl | libterm-readline-perl-perl\n",
            "  libtap-harness-archive-perl pinentry-doc\n",
            "The following NEW packages will be installed:\n",
            "  binutils binutils-common binutils-x86-64-linux-gnu build-essential bzip2\n",
            "  cmake cmake-data cpp cpp-12 dirmngr dpkg-dev fakeroot fontconfig-config\n",
            "  fonts-dejavu-core g++ g++-12 gcc gcc-12 gnupg gnupg-l10n gnupg-utils gpg\n",
            "  gpg-agent gpg-wks-client gpg-wks-server gpgconf gpgsm libabsl20220623\n",
            "  libalgorithm-diff-perl libalgorithm-diff-xs-perl libalgorithm-merge-perl\n",
            "  libaom3 libarchive13 libasan8 libassuan0 libatomic1 libavif15 libbinutils\n",
            "  libbrotli1 libbsd0 libc-dev-bin libc-devtools libc6-dev libcc1-0\n",
            "  libcrypt-dev libctf-nobfd0 libctf0 libcurl4 libdav1d6 libde265-0 libdeflate0\n",
            "  libdpkg-perl libdrm-amdgpu1 libdrm-common libdrm-intel1 libdrm-nouveau2\n",
            "  libdrm-radeon1 libdrm2 libedit2 libelf1 libexpat1 libfakeroot\n",
            "  libfile-fcntllock-perl libfontconfig1 libfreetype6 libgav1-1 libgcc-12-dev\n",
            "  libgd3 libgdbm-compat4 libgl1 libgl1-mesa-dri libgl1-mesa-glx libglapi-mesa\n",
            "  libglib2.0-0 libglib2.0-data libglvnd0 libglx-mesa0 libglx0 libgomp1\n",
            "  libgprofng0 libheif1 libice6 libicu72 libisl23 libitm1 libjansson4 libjbig0\n",
            "  libjpeg62-turbo libjsoncpp25 libksba8 libldap-2.5-0 libldap-common liblerc4\n",
            "  libllvm15 liblocale-gettext-perl liblsan0 libmpc3 libmpfr6 libnghttp2-14\n",
            "  libnpth0 libnsl-dev libnuma1 libpciaccess0 libperl5.36 libpng16-16\n",
            "  libproc2-0 libpsl5 libpthread-stubs0-dev libquadmath0 librav1e0 librhash0\n",
            "  librtmp1 libsasl2-2 libsasl2-modules libsasl2-modules-db libsensors-config\n",
            "  libsensors5 libsm6 libssh2-1 libstdc++-12-dev libsvtav1enc1 libtiff6\n",
            "  libtirpc-dev libtsan2 libubsan1 libuv1 libwebp7 libx11-6 libx11-data\n",
            "  libx11-dev libx11-xcb1 libx265-199 libxau-dev libxau6 libxcb-dri2-0\n",
            "  libxcb-dri3-0 libxcb-glx0 libxcb-present0 libxcb-randr0 libxcb-shm0\n",
            "  libxcb-sync1 libxcb-xfixes0 libxcb1 libxcb1-dev libxdmcp-dev libxdmcp6\n",
            "  libxext6 libxfixes3 libxml2 libxpm4 libxrender-dev libxrender1 libxshmfence1\n",
            "  libxxf86vm1 libyuv0 libz3-4 linux-libc-dev make manpages manpages-dev patch\n",
            "  perl perl-modules-5.36 pinentry-curses procps psmisc publicsuffix\n",
            "  rpcsvc-proto shared-mime-info x11-common x11proto-dev xdg-user-dirs\n",
            "  xorg-sgml-doctools xtrans-dev xz-utils\n",
            "0 upgraded, 175 newly installed, 0 to remove and 0 not upgraded.\n",
            "Need to get 167 MB of archives.\n",
            "After this operation, 675 MB of additional disk space will be used.\n",
            "Get:1 http://deb.debian.org/debian bookworm/main amd64 perl-modules-5.36 all 5.36.0-7+deb12u2 [2815 kB]\n",
            "Get:2 http://deb.debian.org/debian bookworm/main amd64 libgdbm-compat4 amd64 1.23-3 [48.2 kB]\n",
            "Get:3 http://deb.debian.org/debian bookworm/main amd64 libperl5.36 amd64 5.36.0-7+deb12u2 [4207 kB]\n",
            "Get:4 http://deb.debian.org/debian bookworm/main amd64 perl amd64 5.36.0-7+deb12u2 [239 kB]\n",
            "Get:5 http://deb.debian.org/debian bookworm/main amd64 liblocale-gettext-perl amd64 1.07-5 [15.4 kB]\n",
            "Get:6 http://deb.debian.org/debian bookworm/main amd64 libproc2-0 amd64 2:4.0.2-3 [62.8 kB]\n",
            "Get:7 http://deb.debian.org/debian bookworm/main amd64 procps amd64 2:4.0.2-3 [709 kB]\n",
            "Get:8 http://deb.debian.org/debian bookworm/main amd64 bzip2 amd64 1.0.8-5+b1 [49.8 kB]\n",
            "Get:9 http://deb.debian.org/debian bookworm/main amd64 manpages all 6.03-2 [1332 kB]\n",
            "Get:10 http://deb.debian.org/debian bookworm/main amd64 xz-utils amd64 5.4.1-1 [471 kB]\n",
            "Get:11 http://deb.debian.org/debian bookworm/main amd64 binutils-common amd64 2.40-2 [2487 kB]\n",
            "Get:12 http://deb.debian.org/debian bookworm/main amd64 libbinutils amd64 2.40-2 [572 kB]\n",
            "Get:13 http://deb.debian.org/debian bookworm/main amd64 libctf-nobfd0 amd64 2.40-2 [153 kB]\n",
            "Get:14 http://deb.debian.org/debian bookworm/main amd64 libctf0 amd64 2.40-2 [89.8 kB]\n",
            "Get:15 http://deb.debian.org/debian bookworm/main amd64 libgprofng0 amd64 2.40-2 [812 kB]\n",
            "Get:16 http://deb.debian.org/debian bookworm/main amd64 libjansson4 amd64 2.14-2 [40.8 kB]\n",
            "Get:17 http://deb.debian.org/debian bookworm/main amd64 binutils-x86-64-linux-gnu amd64 2.40-2 [2246 kB]\n",
            "Get:18 http://deb.debian.org/debian bookworm/main amd64 binutils amd64 2.40-2 [65.0 kB]\n",
            "Get:19 http://deb.debian.org/debian bookworm/main amd64 libc-dev-bin amd64 2.36-9+deb12u10 [47.1 kB]\n",
            "Get:20 http://deb.debian.org/debian-security bookworm-security/main amd64 linux-libc-dev amd64 6.1.140-1 [2145 kB]\n",
            "Get:21 http://deb.debian.org/debian bookworm/main amd64 libcrypt-dev amd64 1:4.4.33-2 [118 kB]\n",
            "Get:22 http://deb.debian.org/debian bookworm/main amd64 libtirpc-dev amd64 1.3.3+ds-1 [191 kB]\n",
            "Get:23 http://deb.debian.org/debian bookworm/main amd64 libnsl-dev amd64 1.3.0-2 [66.4 kB]\n",
            "Get:24 http://deb.debian.org/debian bookworm/main amd64 rpcsvc-proto amd64 1.4.3-1 [63.3 kB]\n",
            "Get:25 http://deb.debian.org/debian bookworm/main amd64 libc6-dev amd64 2.36-9+deb12u10 [1903 kB]\n",
            "Get:26 http://deb.debian.org/debian bookworm/main amd64 libisl23 amd64 0.25-1.1 [683 kB]\n",
            "Get:27 http://deb.debian.org/debian bookworm/main amd64 libmpfr6 amd64 4.2.0-1 [701 kB]\n",
            "Get:28 http://deb.debian.org/debian bookworm/main amd64 libmpc3 amd64 1.3.1-1 [51.5 kB]\n",
            "Get:29 http://deb.debian.org/debian bookworm/main amd64 cpp-12 amd64 12.2.0-14+deb12u1 [9768 kB]\n",
            "Get:30 http://deb.debian.org/debian bookworm/main amd64 cpp amd64 4:12.2.0-3 [6836 B]\n",
            "Get:31 http://deb.debian.org/debian bookworm/main amd64 libcc1-0 amd64 12.2.0-14+deb12u1 [41.7 kB]\n",
            "Get:32 http://deb.debian.org/debian bookworm/main amd64 libgomp1 amd64 12.2.0-14+deb12u1 [116 kB]\n",
            "Get:33 http://deb.debian.org/debian bookworm/main amd64 libitm1 amd64 12.2.0-14+deb12u1 [26.1 kB]\n",
            "Get:34 http://deb.debian.org/debian bookworm/main amd64 libatomic1 amd64 12.2.0-14+deb12u1 [9376 B]\n",
            "Get:35 http://deb.debian.org/debian bookworm/main amd64 libasan8 amd64 12.2.0-14+deb12u1 [2193 kB]\n",
            "Get:36 http://deb.debian.org/debian bookworm/main amd64 liblsan0 amd64 12.2.0-14+deb12u1 [969 kB]\n",
            "Get:37 http://deb.debian.org/debian bookworm/main amd64 libtsan2 amd64 12.2.0-14+deb12u1 [2197 kB]\n",
            "Get:38 http://deb.debian.org/debian bookworm/main amd64 libubsan1 amd64 12.2.0-14+deb12u1 [883 kB]\n",
            "Get:39 http://deb.debian.org/debian bookworm/main amd64 libquadmath0 amd64 12.2.0-14+deb12u1 [145 kB]\n",
            "Get:40 http://deb.debian.org/debian bookworm/main amd64 libgcc-12-dev amd64 12.2.0-14+deb12u1 [2437 kB]\n",
            "Get:41 http://deb.debian.org/debian bookworm/main amd64 gcc-12 amd64 12.2.0-14+deb12u1 [19.3 MB]\n",
            "Get:42 http://deb.debian.org/debian bookworm/main amd64 gcc amd64 4:12.2.0-3 [5216 B]\n",
            "Get:43 http://deb.debian.org/debian bookworm/main amd64 libstdc++-12-dev amd64 12.2.0-14+deb12u1 [2047 kB]\n",
            "Get:44 http://deb.debian.org/debian bookworm/main amd64 g++-12 amd64 12.2.0-14+deb12u1 [10.7 MB]\n",
            "Get:45 http://deb.debian.org/debian bookworm/main amd64 g++ amd64 4:12.2.0-3 [1356 B]\n",
            "Get:46 http://deb.debian.org/debian bookworm/main amd64 make amd64 4.3-4.1 [396 kB]\n",
            "Get:47 http://deb.debian.org/debian bookworm/main amd64 libdpkg-perl all 1.21.22 [603 kB]\n",
            "Get:48 http://deb.debian.org/debian bookworm/main amd64 patch amd64 2.7.6-7 [128 kB]\n",
            "Get:49 http://deb.debian.org/debian bookworm/main amd64 dpkg-dev all 1.21.22 [1353 kB]\n",
            "Get:50 http://deb.debian.org/debian bookworm/main amd64 build-essential amd64 12.9 [7704 B]\n",
            "Get:51 http://deb.debian.org/debian bookworm/main amd64 libicu72 amd64 72.1-3 [9376 kB]\n",
            "Get:52 http://deb.debian.org/debian bookworm/main amd64 libxml2 amd64 2.9.14+dfsg-1.3~deb12u1 [687 kB]\n",
            "Get:53 http://deb.debian.org/debian bookworm/main amd64 libarchive13 amd64 3.6.2-1+deb12u2 [343 kB]\n",
            "Get:54 http://deb.debian.org/debian bookworm/main amd64 libbrotli1 amd64 1.0.9-2+b6 [275 kB]\n",
            "Get:55 http://deb.debian.org/debian bookworm/main amd64 libsasl2-modules-db amd64 2.1.28+dfsg-10 [20.3 kB]\n",
            "Get:56 http://deb.debian.org/debian bookworm/main amd64 libsasl2-2 amd64 2.1.28+dfsg-10 [59.7 kB]\n",
            "Get:57 http://deb.debian.org/debian bookworm/main amd64 libldap-2.5-0 amd64 2.5.13+dfsg-5 [183 kB]\n",
            "Get:58 http://deb.debian.org/debian bookworm/main amd64 libnghttp2-14 amd64 1.52.0-1+deb12u2 [73.0 kB]\n",
            "Get:59 http://deb.debian.org/debian bookworm/main amd64 libpsl5 amd64 0.21.2-1 [58.7 kB]\n",
            "Get:60 http://deb.debian.org/debian bookworm/main amd64 librtmp1 amd64 2.4+20151223.gitfa8646d.1-2+b2 [60.8 kB]\n",
            "Get:61 http://deb.debian.org/debian bookworm/main amd64 libssh2-1 amd64 1.10.0-3+b1 [179 kB]\n",
            "Get:62 http://deb.debian.org/debian bookworm/main amd64 libcurl4 amd64 7.88.1-10+deb12u12 [391 kB]\n",
            "Get:63 http://deb.debian.org/debian bookworm/main amd64 libexpat1 amd64 2.5.0-1+deb12u1 [98.9 kB]\n",
            "Get:64 http://deb.debian.org/debian bookworm/main amd64 libjsoncpp25 amd64 1.9.5-4 [78.6 kB]\n",
            "Get:65 http://deb.debian.org/debian bookworm/main amd64 librhash0 amd64 1.4.3-3 [134 kB]\n",
            "Get:66 http://deb.debian.org/debian bookworm/main amd64 libuv1 amd64 1.44.2-1+deb12u1 [136 kB]\n",
            "Get:67 http://deb.debian.org/debian bookworm/main amd64 cmake-data all 3.25.1-1 [2026 kB]\n",
            "Get:68 http://deb.debian.org/debian bookworm/main amd64 cmake amd64 3.25.1-1 [8692 kB]\n",
            "Get:69 http://deb.debian.org/debian bookworm/main amd64 libassuan0 amd64 2.5.5-5 [48.5 kB]\n",
            "Get:70 http://deb.debian.org/debian bookworm/main amd64 gpgconf amd64 2.2.40-1.1 [564 kB]\n",
            "Get:71 http://deb.debian.org/debian bookworm/main amd64 libksba8 amd64 1.6.3-2 [128 kB]\n",
            "Get:72 http://deb.debian.org/debian bookworm/main amd64 libnpth0 amd64 1.6-3 [19.0 kB]\n",
            "Get:73 http://deb.debian.org/debian bookworm/main amd64 dirmngr amd64 2.2.40-1.1 [792 kB]\n",
            "Get:74 http://deb.debian.org/debian bookworm/main amd64 libfakeroot amd64 1.31-1.2 [28.3 kB]\n",
            "Get:75 http://deb.debian.org/debian bookworm/main amd64 fakeroot amd64 1.31-1.2 [66.9 kB]\n",
            "Get:76 http://deb.debian.org/debian bookworm/main amd64 fonts-dejavu-core all 2.37-6 [1068 kB]\n",
            "Get:77 http://deb.debian.org/debian bookworm/main amd64 fontconfig-config amd64 2.14.1-4 [315 kB]\n",
            "Get:78 http://deb.debian.org/debian bookworm/main amd64 gnupg-l10n all 2.2.40-1.1 [1093 kB]\n",
            "Get:79 http://deb.debian.org/debian bookworm/main amd64 gnupg-utils amd64 2.2.40-1.1 [927 kB]\n",
            "Get:80 http://deb.debian.org/debian bookworm/main amd64 gpg amd64 2.2.40-1.1 [949 kB]\n",
            "Get:81 http://deb.debian.org/debian bookworm/main amd64 pinentry-curses amd64 1.2.1-1 [77.4 kB]\n",
            "Get:82 http://deb.debian.org/debian bookworm/main amd64 gpg-agent amd64 2.2.40-1.1 [695 kB]\n",
            "Get:83 http://deb.debian.org/debian bookworm/main amd64 gpg-wks-client amd64 2.2.40-1.1 [541 kB]\n",
            "Get:84 http://deb.debian.org/debian bookworm/main amd64 gpg-wks-server amd64 2.2.40-1.1 [531 kB]\n",
            "Get:85 http://deb.debian.org/debian bookworm/main amd64 gpgsm amd64 2.2.40-1.1 [671 kB]\n",
            "Get:86 http://deb.debian.org/debian bookworm/main amd64 gnupg all 2.2.40-1.1 [846 kB]\n",
            "Get:87 http://deb.debian.org/debian bookworm/main amd64 libabsl20220623 amd64 20220623.1-1+deb12u2 [391 kB]\n",
            "Get:88 http://deb.debian.org/debian bookworm/main amd64 libalgorithm-diff-perl all 1.201-1 [43.3 kB]\n",
            "Get:89 http://deb.debian.org/debian bookworm/main amd64 libalgorithm-diff-xs-perl amd64 0.04-8+b1 [11.4 kB]\n",
            "Get:90 http://deb.debian.org/debian bookworm/main amd64 libalgorithm-merge-perl all 0.08-5 [11.8 kB]\n",
            "Get:91 http://deb.debian.org/debian bookworm/main amd64 libaom3 amd64 3.6.0-1+deb12u1 [1851 kB]\n",
            "Get:92 http://deb.debian.org/debian bookworm/main amd64 libdav1d6 amd64 1.0.0-2+deb12u1 [513 kB]\n",
            "Get:93 http://deb.debian.org/debian bookworm/main amd64 libgav1-1 amd64 0.18.0-1+b1 [332 kB]\n",
            "Get:94 http://deb.debian.org/debian bookworm/main amd64 librav1e0 amd64 0.5.1-6 [763 kB]\n",
            "Get:95 http://deb.debian.org/debian bookworm/main amd64 libsvtav1enc1 amd64 1.4.1+dfsg-1 [2121 kB]\n",
            "Get:96 http://deb.debian.org/debian bookworm/main amd64 libjpeg62-turbo amd64 1:2.1.5-2 [166 kB]\n",
            "Get:97 http://deb.debian.org/debian bookworm/main amd64 libyuv0 amd64 0.0~git20230123.b2528b0-1 [168 kB]\n",
            "Get:98 http://deb.debian.org/debian bookworm/main amd64 libavif15 amd64 0.11.1-1 [93.8 kB]\n",
            "Get:99 http://deb.debian.org/debian bookworm/main amd64 libbsd0 amd64 0.11.7-2 [117 kB]\n",
            "Get:100 http://deb.debian.org/debian bookworm/main amd64 libpng16-16 amd64 1.6.39-2 [276 kB]\n",
            "Get:101 http://deb.debian.org/debian bookworm/main amd64 libfreetype6 amd64 2.12.1+dfsg-5+deb12u4 [398 kB]\n",
            "Get:102 http://deb.debian.org/debian bookworm/main amd64 libfontconfig1 amd64 2.14.1-4 [386 kB]\n",
            "Get:103 http://deb.debian.org/debian bookworm/main amd64 libde265-0 amd64 1.0.11-1+deb12u2 [185 kB]\n",
            "Get:104 http://deb.debian.org/debian bookworm/main amd64 libnuma1 amd64 2.0.16-1 [21.0 kB]\n",
            "Get:105 http://deb.debian.org/debian bookworm/main amd64 libx265-199 amd64 3.5-2+b1 [1150 kB]\n",
            "Get:106 http://deb.debian.org/debian bookworm/main amd64 libheif1 amd64 1.15.1-1+deb12u1 [215 kB]\n",
            "Get:107 http://deb.debian.org/debian bookworm/main amd64 libdeflate0 amd64 1.14-1 [61.4 kB]\n",
            "Get:108 http://deb.debian.org/debian bookworm/main amd64 libjbig0 amd64 2.1-6.1 [31.7 kB]\n",
            "Get:109 http://deb.debian.org/debian bookworm/main amd64 liblerc4 amd64 4.0.0+ds-2 [170 kB]\n",
            "Get:110 http://deb.debian.org/debian bookworm/main amd64 libwebp7 amd64 1.2.4-0.2+deb12u1 [286 kB]\n",
            "Get:111 http://deb.debian.org/debian bookworm/main amd64 libtiff6 amd64 4.5.0-6+deb12u2 [316 kB]\n",
            "Get:112 http://deb.debian.org/debian bookworm/main amd64 libxau6 amd64 1:1.0.9-1 [19.7 kB]\n",
            "Get:113 http://deb.debian.org/debian bookworm/main amd64 libxdmcp6 amd64 1:1.1.2-3 [26.3 kB]\n",
            "Get:114 http://deb.debian.org/debian bookworm/main amd64 libxcb1 amd64 1.15-1 [144 kB]\n",
            "Get:115 http://deb.debian.org/debian bookworm/main amd64 libx11-data all 2:1.8.4-2+deb12u2 [292 kB]\n",
            "Get:116 http://deb.debian.org/debian bookworm/main amd64 libx11-6 amd64 2:1.8.4-2+deb12u2 [760 kB]\n",
            "Get:117 http://deb.debian.org/debian bookworm/main amd64 libxpm4 amd64 1:3.5.12-1.1+deb12u1 [48.6 kB]\n",
            "Get:118 http://deb.debian.org/debian bookworm/main amd64 libgd3 amd64 2.3.3-9 [124 kB]\n",
            "Get:119 http://deb.debian.org/debian bookworm/main amd64 libc-devtools amd64 2.36-9+deb12u10 [54.7 kB]\n",
            "Get:120 http://deb.debian.org/debian bookworm/main amd64 libdrm-common all 2.4.114-1 [7112 B]\n",
            "Get:121 http://deb.debian.org/debian bookworm/main amd64 libdrm2 amd64 2.4.114-1+b1 [37.5 kB]\n",
            "Get:122 http://deb.debian.org/debian bookworm/main amd64 libdrm-amdgpu1 amd64 2.4.114-1+b1 [20.9 kB]\n",
            "Get:123 http://deb.debian.org/debian bookworm/main amd64 libpciaccess0 amd64 0.17-2 [51.4 kB]\n",
            "Get:124 http://deb.debian.org/debian bookworm/main amd64 libdrm-intel1 amd64 2.4.114-1+b1 [64.0 kB]\n",
            "Get:125 http://deb.debian.org/debian bookworm/main amd64 libdrm-nouveau2 amd64 2.4.114-1+b1 [19.1 kB]\n",
            "Get:126 http://deb.debian.org/debian bookworm/main amd64 libdrm-radeon1 amd64 2.4.114-1+b1 [21.8 kB]\n",
            "Get:127 http://deb.debian.org/debian bookworm/main amd64 libedit2 amd64 3.1-20221030-2 [93.0 kB]\n",
            "Get:128 http://deb.debian.org/debian bookworm/main amd64 libelf1 amd64 0.188-2.1 [174 kB]\n",
            "Get:129 http://deb.debian.org/debian bookworm/main amd64 libfile-fcntllock-perl amd64 0.22-4+b1 [34.8 kB]\n",
            "Get:130 http://deb.debian.org/debian bookworm/main amd64 libglvnd0 amd64 1.6.0-1 [51.8 kB]\n",
            "Get:131 http://deb.debian.org/debian bookworm/main amd64 libglapi-mesa amd64 22.3.6-1+deb12u1 [35.7 kB]\n",
            "Get:132 http://deb.debian.org/debian bookworm/main amd64 libx11-xcb1 amd64 2:1.8.4-2+deb12u2 [192 kB]\n",
            "Get:133 http://deb.debian.org/debian bookworm/main amd64 libxcb-dri2-0 amd64 1.15-1 [107 kB]\n",
            "Get:134 http://deb.debian.org/debian bookworm/main amd64 libxcb-dri3-0 amd64 1.15-1 [107 kB]\n",
            "Get:135 http://deb.debian.org/debian bookworm/main amd64 libxcb-glx0 amd64 1.15-1 [122 kB]\n",
            "Get:136 http://deb.debian.org/debian bookworm/main amd64 libxcb-present0 amd64 1.15-1 [105 kB]\n",
            "Get:137 http://deb.debian.org/debian bookworm/main amd64 libxcb-randr0 amd64 1.15-1 [117 kB]\n",
            "Get:138 http://deb.debian.org/debian bookworm/main amd64 libxcb-shm0 amd64 1.15-1 [105 kB]\n",
            "Get:139 http://deb.debian.org/debian bookworm/main amd64 libxcb-sync1 amd64 1.15-1 [109 kB]\n",
            "Get:140 http://deb.debian.org/debian bookworm/main amd64 libxcb-xfixes0 amd64 1.15-1 [109 kB]\n",
            "Get:141 http://deb.debian.org/debian bookworm/main amd64 libxext6 amd64 2:1.3.4-1+b1 [52.9 kB]\n",
            "Get:142 http://deb.debian.org/debian bookworm/main amd64 libxfixes3 amd64 1:6.0.0-2 [22.7 kB]\n",
            "Get:143 http://deb.debian.org/debian bookworm/main amd64 libxshmfence1 amd64 1.3-1 [8820 B]\n",
            "Get:144 http://deb.debian.org/debian bookworm/main amd64 libxxf86vm1 amd64 1:1.1.4-1+b2 [20.8 kB]\n",
            "Get:145 http://deb.debian.org/debian bookworm/main amd64 libz3-4 amd64 4.8.12-3.1 [7216 kB]\n",
            "Get:146 http://deb.debian.org/debian bookworm/main amd64 libllvm15 amd64 1:15.0.6-4+b1 [23.1 MB]\n",
            "Get:147 http://deb.debian.org/debian bookworm/main amd64 libsensors-config all 1:3.6.0-7.1 [14.3 kB]\n",
            "Get:148 http://deb.debian.org/debian bookworm/main amd64 libsensors5 amd64 1:3.6.0-7.1 [34.2 kB]\n",
            "Get:149 http://deb.debian.org/debian bookworm/main amd64 libgl1-mesa-dri amd64 22.3.6-1+deb12u1 [7239 kB]\n",
            "Get:150 http://deb.debian.org/debian bookworm/main amd64 libglx-mesa0 amd64 22.3.6-1+deb12u1 [147 kB]\n",
            "Get:151 http://deb.debian.org/debian bookworm/main amd64 libglx0 amd64 1.6.0-1 [34.4 kB]\n",
            "Get:152 http://deb.debian.org/debian bookworm/main amd64 libgl1 amd64 1.6.0-1 [88.4 kB]\n",
            "Get:153 http://deb.debian.org/debian bookworm/main amd64 libgl1-mesa-glx amd64 22.3.6-1+deb12u1 [14.5 kB]\n",
            "Get:154 http://deb.debian.org/debian bookworm/main amd64 libglib2.0-0 amd64 2.74.6-2+deb12u6 [1400 kB]\n",
            "Get:155 http://deb.debian.org/debian bookworm/main amd64 libglib2.0-data all 2.74.6-2+deb12u6 [1210 kB]\n",
            "Get:156 http://deb.debian.org/debian bookworm/main amd64 x11-common all 1:7.7+23 [252 kB]\n",
            "Get:157 http://deb.debian.org/debian bookworm/main amd64 libice6 amd64 2:1.0.10-1 [58.5 kB]\n",
            "Get:158 http://deb.debian.org/debian bookworm/main amd64 libldap-common all 2.5.13+dfsg-5 [29.3 kB]\n",
            "Get:159 http://deb.debian.org/debian bookworm/main amd64 libpthread-stubs0-dev amd64 0.4-1 [5344 B]\n",
            "Get:160 http://deb.debian.org/debian bookworm/main amd64 libsasl2-modules amd64 2.1.28+dfsg-10 [66.6 kB]\n",
            "Get:161 http://deb.debian.org/debian bookworm/main amd64 libsm6 amd64 2:1.2.3-1 [35.1 kB]\n",
            "Get:162 http://deb.debian.org/debian bookworm/main amd64 xorg-sgml-doctools all 1:1.11-1.1 [22.1 kB]\n",
            "Get:163 http://deb.debian.org/debian bookworm/main amd64 x11proto-dev all 2022.1-1 [599 kB]\n",
            "Get:164 http://deb.debian.org/debian bookworm/main amd64 libxau-dev amd64 1:1.0.9-1 [22.9 kB]\n",
            "Get:165 http://deb.debian.org/debian bookworm/main amd64 libxdmcp-dev amd64 1:1.1.2-3 [42.2 kB]\n",
            "Get:166 http://deb.debian.org/debian bookworm/main amd64 xtrans-dev all 1.4.0-1 [98.7 kB]\n",
            "Get:167 http://deb.debian.org/debian bookworm/main amd64 libxcb1-dev amd64 1.15-1 [181 kB]\n",
            "Get:168 http://deb.debian.org/debian bookworm/main amd64 libx11-dev amd64 2:1.8.4-2+deb12u2 [837 kB]\n",
            "Get:169 http://deb.debian.org/debian bookworm/main amd64 libxrender1 amd64 1:0.9.10-1.1 [33.2 kB]\n",
            "Get:170 http://deb.debian.org/debian bookworm/main amd64 libxrender-dev amd64 1:0.9.10-1.1 [41.1 kB]\n",
            "Get:171 http://deb.debian.org/debian bookworm/main amd64 manpages-dev all 6.03-2 [2030 kB]\n",
            "Get:172 http://deb.debian.org/debian bookworm/main amd64 psmisc amd64 23.6-1 [259 kB]\n",
            "Get:173 http://deb.debian.org/debian bookworm/main amd64 publicsuffix all 20230209.2326-1 [126 kB]\n",
            "Get:174 http://deb.debian.org/debian bookworm/main amd64 shared-mime-info amd64 2.2-1 [729 kB]\n",
            "Get:175 http://deb.debian.org/debian bookworm/main amd64 xdg-user-dirs amd64 0.18-1 [54.4 kB]\n",
            "\u001b[91mdebconf: delaying package configuration, since apt-utils is not installed\n",
            "\u001b[0mFetched 167 MB in 2s (103 MB/s)\n",
            "Selecting previously unselected package perl-modules-5.36.\n",
            "(Reading database ... 6686 files and directories currently installed.)\n",
            "Preparing to unpack .../000-perl-modules-5.36_5.36.0-7+deb12u2_all.deb ...\n",
            "Unpacking perl-modules-5.36 (5.36.0-7+deb12u2) ...\n",
            "Selecting previously unselected package libgdbm-compat4:amd64.\n",
            "Preparing to unpack .../001-libgdbm-compat4_1.23-3_amd64.deb ...\n",
            "Unpacking libgdbm-compat4:amd64 (1.23-3) ...\n",
            "Selecting previously unselected package libperl5.36:amd64.\n",
            "Preparing to unpack .../002-libperl5.36_5.36.0-7+deb12u2_amd64.deb ...\n",
            "Unpacking libperl5.36:amd64 (5.36.0-7+deb12u2) ...\n",
            "Selecting previously unselected package perl.\n",
            "Preparing to unpack .../003-perl_5.36.0-7+deb12u2_amd64.deb ...\n",
            "Unpacking perl (5.36.0-7+deb12u2) ...\n",
            "Selecting previously unselected package liblocale-gettext-perl.\n",
            "Preparing to unpack .../004-liblocale-gettext-perl_1.07-5_amd64.deb ...\n",
            "Unpacking liblocale-gettext-perl (1.07-5) ...\n",
            "Selecting previously unselected package libproc2-0:amd64.\n",
            "Preparing to unpack .../005-libproc2-0_2%3a4.0.2-3_amd64.deb ...\n",
            "Unpacking libproc2-0:amd64 (2:4.0.2-3) ...\n",
            "Selecting previously unselected package procps.\n",
            "Preparing to unpack .../006-procps_2%3a4.0.2-3_amd64.deb ...\n",
            "Unpacking procps (2:4.0.2-3) ...\n",
            "Selecting previously unselected package bzip2.\n",
            "Preparing to unpack .../007-bzip2_1.0.8-5+b1_amd64.deb ...\n",
            "Unpacking bzip2 (1.0.8-5+b1) ...\n",
            "Selecting previously unselected package manpages.\n",
            "Preparing to unpack .../008-manpages_6.03-2_all.deb ...\n",
            "Unpacking manpages (6.03-2) ...\n",
            "Selecting previously unselected package xz-utils.\n",
            "Preparing to unpack .../009-xz-utils_5.4.1-1_amd64.deb ...\n",
            "Unpacking xz-utils (5.4.1-1) ...\n",
            "Selecting previously unselected package binutils-common:amd64.\n",
            "Preparing to unpack .../010-binutils-common_2.40-2_amd64.deb ...\n",
            "Unpacking binutils-common:amd64 (2.40-2) ...\n",
            "Selecting previously unselected package libbinutils:amd64.\n",
            "Preparing to unpack .../011-libbinutils_2.40-2_amd64.deb ...\n",
            "Unpacking libbinutils:amd64 (2.40-2) ...\n",
            "Selecting previously unselected package libctf-nobfd0:amd64.\n",
            "Preparing to unpack .../012-libctf-nobfd0_2.40-2_amd64.deb ...\n",
            "Unpacking libctf-nobfd0:amd64 (2.40-2) ...\n",
            "Selecting previously unselected package libctf0:amd64.\n",
            "Preparing to unpack .../013-libctf0_2.40-2_amd64.deb ...\n",
            "Unpacking libctf0:amd64 (2.40-2) ...\n",
            "Selecting previously unselected package libgprofng0:amd64.\n",
            "Preparing to unpack .../014-libgprofng0_2.40-2_amd64.deb ...\n",
            "Unpacking libgprofng0:amd64 (2.40-2) ...\n",
            "Selecting previously unselected package libjansson4:amd64.\n",
            "Preparing to unpack .../015-libjansson4_2.14-2_amd64.deb ...\n",
            "Unpacking libjansson4:amd64 (2.14-2) ...\n",
            "Selecting previously unselected package binutils-x86-64-linux-gnu.\n",
            "Preparing to unpack .../016-binutils-x86-64-linux-gnu_2.40-2_amd64.deb ...\n",
            "Unpacking binutils-x86-64-linux-gnu (2.40-2) ...\n",
            "Selecting previously unselected package binutils.\n",
            "Preparing to unpack .../017-binutils_2.40-2_amd64.deb ...\n",
            "Unpacking binutils (2.40-2) ...\n",
            "Selecting previously unselected package libc-dev-bin.\n",
            "Preparing to unpack .../018-libc-dev-bin_2.36-9+deb12u10_amd64.deb ...\n",
            "Unpacking libc-dev-bin (2.36-9+deb12u10) ...\n",
            "Selecting previously unselected package linux-libc-dev:amd64.\n",
            "Preparing to unpack .../019-linux-libc-dev_6.1.140-1_amd64.deb ...\n",
            "Unpacking linux-libc-dev:amd64 (6.1.140-1) ...\n",
            "Selecting previously unselected package libcrypt-dev:amd64.\n",
            "Preparing to unpack .../020-libcrypt-dev_1%3a4.4.33-2_amd64.deb ...\n",
            "Unpacking libcrypt-dev:amd64 (1:4.4.33-2) ...\n",
            "Selecting previously unselected package libtirpc-dev:amd64.\n",
            "Preparing to unpack .../021-libtirpc-dev_1.3.3+ds-1_amd64.deb ...\n",
            "Unpacking libtirpc-dev:amd64 (1.3.3+ds-1) ...\n",
            "Selecting previously unselected package libnsl-dev:amd64.\n",
            "Preparing to unpack .../022-libnsl-dev_1.3.0-2_amd64.deb ...\n",
            "Unpacking libnsl-dev:amd64 (1.3.0-2) ...\n",
            "Selecting previously unselected package rpcsvc-proto.\n",
            "Preparing to unpack .../023-rpcsvc-proto_1.4.3-1_amd64.deb ...\n",
            "Unpacking rpcsvc-proto (1.4.3-1) ...\n",
            "Selecting previously unselected package libc6-dev:amd64.\n",
            "Preparing to unpack .../024-libc6-dev_2.36-9+deb12u10_amd64.deb ...\n",
            "Unpacking libc6-dev:amd64 (2.36-9+deb12u10) ...\n",
            "Selecting previously unselected package libisl23:amd64.\n",
            "Preparing to unpack .../025-libisl23_0.25-1.1_amd64.deb ...\n",
            "Unpacking libisl23:amd64 (0.25-1.1) ...\n",
            "Selecting previously unselected package libmpfr6:amd64.\n",
            "Preparing to unpack .../026-libmpfr6_4.2.0-1_amd64.deb ...\n",
            "Unpacking libmpfr6:amd64 (4.2.0-1) ...\n",
            "Selecting previously unselected package libmpc3:amd64.\n",
            "Preparing to unpack .../027-libmpc3_1.3.1-1_amd64.deb ...\n",
            "Unpacking libmpc3:amd64 (1.3.1-1) ...\n",
            "Selecting previously unselected package cpp-12.\n",
            "Preparing to unpack .../028-cpp-12_12.2.0-14+deb12u1_amd64.deb ...\n",
            "Unpacking cpp-12 (12.2.0-14+deb12u1) ...\n",
            "Selecting previously unselected package cpp.\n",
            "Preparing to unpack .../029-cpp_4%3a12.2.0-3_amd64.deb ...\n",
            "Unpacking cpp (4:12.2.0-3) ...\n",
            "Selecting previously unselected package libcc1-0:amd64.\n",
            "Preparing to unpack .../030-libcc1-0_12.2.0-14+deb12u1_amd64.deb ...\n",
            "Unpacking libcc1-0:amd64 (12.2.0-14+deb12u1) ...\n",
            "Selecting previously unselected package libgomp1:amd64.\n",
            "Preparing to unpack .../031-libgomp1_12.2.0-14+deb12u1_amd64.deb ...\n",
            "Unpacking libgomp1:amd64 (12.2.0-14+deb12u1) ...\n",
            "Selecting previously unselected package libitm1:amd64.\n",
            "Preparing to unpack .../032-libitm1_12.2.0-14+deb12u1_amd64.deb ...\n",
            "Unpacking libitm1:amd64 (12.2.0-14+deb12u1) ...\n",
            "Selecting previously unselected package libatomic1:amd64.\n",
            "Preparing to unpack .../033-libatomic1_12.2.0-14+deb12u1_amd64.deb ...\n",
            "Unpacking libatomic1:amd64 (12.2.0-14+deb12u1) ...\n",
            "Selecting previously unselected package libasan8:amd64.\n",
            "Preparing to unpack .../034-libasan8_12.2.0-14+deb12u1_amd64.deb ...\n",
            "Unpacking libasan8:amd64 (12.2.0-14+deb12u1) ...\n",
            "Selecting previously unselected package liblsan0:amd64.\n",
            "Preparing to unpack .../035-liblsan0_12.2.0-14+deb12u1_amd64.deb ...\n",
            "Unpacking liblsan0:amd64 (12.2.0-14+deb12u1) ...\n",
            "Selecting previously unselected package libtsan2:amd64.\n",
            "Preparing to unpack .../036-libtsan2_12.2.0-14+deb12u1_amd64.deb ...\n",
            "Unpacking libtsan2:amd64 (12.2.0-14+deb12u1) ...\n",
            "Selecting previously unselected package libubsan1:amd64.\n",
            "Preparing to unpack .../037-libubsan1_12.2.0-14+deb12u1_amd64.deb ...\n",
            "Unpacking libubsan1:amd64 (12.2.0-14+deb12u1) ...\n",
            "Selecting previously unselected package libquadmath0:amd64.\n",
            "Preparing to unpack .../038-libquadmath0_12.2.0-14+deb12u1_amd64.deb ...\n",
            "Unpacking libquadmath0:amd64 (12.2.0-14+deb12u1) ...\n",
            "Selecting previously unselected package libgcc-12-dev:amd64.\n",
            "Preparing to unpack .../039-libgcc-12-dev_12.2.0-14+deb12u1_amd64.deb ...\n",
            "Unpacking libgcc-12-dev:amd64 (12.2.0-14+deb12u1) ...\n",
            "Selecting previously unselected package gcc-12.\n",
            "Preparing to unpack .../040-gcc-12_12.2.0-14+deb12u1_amd64.deb ...\n",
            "Unpacking gcc-12 (12.2.0-14+deb12u1) ...\n",
            "Selecting previously unselected package gcc.\n",
            "Preparing to unpack .../041-gcc_4%3a12.2.0-3_amd64.deb ...\n",
            "Unpacking gcc (4:12.2.0-3) ...\n",
            "Selecting previously unselected package libstdc++-12-dev:amd64.\n",
            "Preparing to unpack .../042-libstdc++-12-dev_12.2.0-14+deb12u1_amd64.deb ...\n",
            "Unpacking libstdc++-12-dev:amd64 (12.2.0-14+deb12u1) ...\n",
            "Selecting previously unselected package g++-12.\n",
            "Preparing to unpack .../043-g++-12_12.2.0-14+deb12u1_amd64.deb ...\n",
            "Unpacking g++-12 (12.2.0-14+deb12u1) ...\n",
            "Selecting previously unselected package g++.\n",
            "Preparing to unpack .../044-g++_4%3a12.2.0-3_amd64.deb ...\n",
            "Unpacking g++ (4:12.2.0-3) ...\n",
            "Selecting previously unselected package make.\n",
            "Preparing to unpack .../045-make_4.3-4.1_amd64.deb ...\n",
            "Unpacking make (4.3-4.1) ...\n",
            "Selecting previously unselected package libdpkg-perl.\n",
            "Preparing to unpack .../046-libdpkg-perl_1.21.22_all.deb ...\n",
            "Unpacking libdpkg-perl (1.21.22) ...\n",
            "Selecting previously unselected package patch.\n",
            "Preparing to unpack .../047-patch_2.7.6-7_amd64.deb ...\n",
            "Unpacking patch (2.7.6-7) ...\n",
            "Selecting previously unselected package dpkg-dev.\n",
            "Preparing to unpack .../048-dpkg-dev_1.21.22_all.deb ...\n",
            "Unpacking dpkg-dev (1.21.22) ...\n",
            "Selecting previously unselected package build-essential.\n",
            "Preparing to unpack .../049-build-essential_12.9_amd64.deb ...\n",
            "Unpacking build-essential (12.9) ...\n",
            "Selecting previously unselected package libicu72:amd64.\n",
            "Preparing to unpack .../050-libicu72_72.1-3_amd64.deb ...\n",
            "Unpacking libicu72:amd64 (72.1-3) ...\n",
            "Selecting previously unselected package libxml2:amd64.\n",
            "Preparing to unpack .../051-libxml2_2.9.14+dfsg-1.3~deb12u1_amd64.deb ...\n",
            "Unpacking libxml2:amd64 (2.9.14+dfsg-1.3~deb12u1) ...\n",
            "Selecting previously unselected package libarchive13:amd64.\n",
            "Preparing to unpack .../052-libarchive13_3.6.2-1+deb12u2_amd64.deb ...\n",
            "Unpacking libarchive13:amd64 (3.6.2-1+deb12u2) ...\n",
            "Selecting previously unselected package libbrotli1:amd64.\n",
            "Preparing to unpack .../053-libbrotli1_1.0.9-2+b6_amd64.deb ...\n",
            "Unpacking libbrotli1:amd64 (1.0.9-2+b6) ...\n",
            "Selecting previously unselected package libsasl2-modules-db:amd64.\n",
            "Preparing to unpack .../054-libsasl2-modules-db_2.1.28+dfsg-10_amd64.deb ...\n",
            "Unpacking libsasl2-modules-db:amd64 (2.1.28+dfsg-10) ...\n",
            "Selecting previously unselected package libsasl2-2:amd64.\n",
            "Preparing to unpack .../055-libsasl2-2_2.1.28+dfsg-10_amd64.deb ...\n",
            "Unpacking libsasl2-2:amd64 (2.1.28+dfsg-10) ...\n",
            "Selecting previously unselected package libldap-2.5-0:amd64.\n",
            "Preparing to unpack .../056-libldap-2.5-0_2.5.13+dfsg-5_amd64.deb ...\n",
            "Unpacking libldap-2.5-0:amd64 (2.5.13+dfsg-5) ...\n",
            "Selecting previously unselected package libnghttp2-14:amd64.\n",
            "Preparing to unpack .../057-libnghttp2-14_1.52.0-1+deb12u2_amd64.deb ...\n",
            "Unpacking libnghttp2-14:amd64 (1.52.0-1+deb12u2) ...\n",
            "Selecting previously unselected package libpsl5:amd64.\n",
            "Preparing to unpack .../058-libpsl5_0.21.2-1_amd64.deb ...\n",
            "Unpacking libpsl5:amd64 (0.21.2-1) ...\n",
            "Selecting previously unselected package librtmp1:amd64.\n",
            "Preparing to unpack .../059-librtmp1_2.4+20151223.gitfa8646d.1-2+b2_amd64.deb ...\n",
            "Unpacking librtmp1:amd64 (2.4+20151223.gitfa8646d.1-2+b2) ...\n",
            "Selecting previously unselected package libssh2-1:amd64.\n",
            "Preparing to unpack .../060-libssh2-1_1.10.0-3+b1_amd64.deb ...\n",
            "Unpacking libssh2-1:amd64 (1.10.0-3+b1) ...\n",
            "Selecting previously unselected package libcurl4:amd64.\n",
            "Preparing to unpack .../061-libcurl4_7.88.1-10+deb12u12_amd64.deb ...\n",
            "Unpacking libcurl4:amd64 (7.88.1-10+deb12u12) ...\n",
            "Selecting previously unselected package libexpat1:amd64.\n",
            "Preparing to unpack .../062-libexpat1_2.5.0-1+deb12u1_amd64.deb ...\n",
            "Unpacking libexpat1:amd64 (2.5.0-1+deb12u1) ...\n",
            "Selecting previously unselected package libjsoncpp25:amd64.\n",
            "Preparing to unpack .../063-libjsoncpp25_1.9.5-4_amd64.deb ...\n",
            "Unpacking libjsoncpp25:amd64 (1.9.5-4) ...\n",
            "Selecting previously unselected package librhash0:amd64.\n",
            "Preparing to unpack .../064-librhash0_1.4.3-3_amd64.deb ...\n",
            "Unpacking librhash0:amd64 (1.4.3-3) ...\n",
            "Selecting previously unselected package libuv1:amd64.\n",
            "Preparing to unpack .../065-libuv1_1.44.2-1+deb12u1_amd64.deb ...\n",
            "Unpacking libuv1:amd64 (1.44.2-1+deb12u1) ...\n",
            "Selecting previously unselected package cmake-data.\n",
            "Preparing to unpack .../066-cmake-data_3.25.1-1_all.deb ...\n",
            "Unpacking cmake-data (3.25.1-1) ...\n",
            "Selecting previously unselected package cmake.\n",
            "Preparing to unpack .../067-cmake_3.25.1-1_amd64.deb ...\n",
            "Unpacking cmake (3.25.1-1) ...\n",
            "Selecting previously unselected package libassuan0:amd64.\n",
            "Preparing to unpack .../068-libassuan0_2.5.5-5_amd64.deb ...\n",
            "Unpacking libassuan0:amd64 (2.5.5-5) ...\n",
            "Selecting previously unselected package gpgconf.\n",
            "Preparing to unpack .../069-gpgconf_2.2.40-1.1_amd64.deb ...\n",
            "Unpacking gpgconf (2.2.40-1.1) ...\n",
            "Selecting previously unselected package libksba8:amd64.\n",
            "Preparing to unpack .../070-libksba8_1.6.3-2_amd64.deb ...\n",
            "Unpacking libksba8:amd64 (1.6.3-2) ...\n",
            "Selecting previously unselected package libnpth0:amd64.\n",
            "Preparing to unpack .../071-libnpth0_1.6-3_amd64.deb ...\n",
            "Unpacking libnpth0:amd64 (1.6-3) ...\n",
            "Selecting previously unselected package dirmngr.\n",
            "Preparing to unpack .../072-dirmngr_2.2.40-1.1_amd64.deb ...\n",
            "Unpacking dirmngr (2.2.40-1.1) ...\n",
            "Selecting previously unselected package libfakeroot:amd64.\n",
            "Preparing to unpack .../073-libfakeroot_1.31-1.2_amd64.deb ...\n",
            "Unpacking libfakeroot:amd64 (1.31-1.2) ...\n",
            "Selecting previously unselected package fakeroot.\n",
            "Preparing to unpack .../074-fakeroot_1.31-1.2_amd64.deb ...\n",
            "Unpacking fakeroot (1.31-1.2) ...\n",
            "Selecting previously unselected package fonts-dejavu-core.\n",
            "Preparing to unpack .../075-fonts-dejavu-core_2.37-6_all.deb ...\n",
            "Unpacking fonts-dejavu-core (2.37-6) ...\n",
            "Selecting previously unselected package fontconfig-config.\n",
            "Preparing to unpack .../076-fontconfig-config_2.14.1-4_amd64.deb ...\n",
            "Unpacking fontconfig-config (2.14.1-4) ...\n",
            "Selecting previously unselected package gnupg-l10n.\n",
            "Preparing to unpack .../077-gnupg-l10n_2.2.40-1.1_all.deb ...\n",
            "Unpacking gnupg-l10n (2.2.40-1.1) ...\n",
            "Selecting previously unselected package gnupg-utils.\n",
            "Preparing to unpack .../078-gnupg-utils_2.2.40-1.1_amd64.deb ...\n",
            "Unpacking gnupg-utils (2.2.40-1.1) ...\n",
            "Selecting previously unselected package gpg.\n",
            "Preparing to unpack .../079-gpg_2.2.40-1.1_amd64.deb ...\n",
            "Unpacking gpg (2.2.40-1.1) ...\n",
            "Selecting previously unselected package pinentry-curses.\n",
            "Preparing to unpack .../080-pinentry-curses_1.2.1-1_amd64.deb ...\n",
            "Unpacking pinentry-curses (1.2.1-1) ...\n",
            "Selecting previously unselected package gpg-agent.\n",
            "Preparing to unpack .../081-gpg-agent_2.2.40-1.1_amd64.deb ...\n",
            "Unpacking gpg-agent (2.2.40-1.1) ...\n",
            "Selecting previously unselected package gpg-wks-client.\n",
            "Preparing to unpack .../082-gpg-wks-client_2.2.40-1.1_amd64.deb ...\n",
            "Unpacking gpg-wks-client (2.2.40-1.1) ...\n",
            "Selecting previously unselected package gpg-wks-server.\n",
            "Preparing to unpack .../083-gpg-wks-server_2.2.40-1.1_amd64.deb ...\n",
            "Unpacking gpg-wks-server (2.2.40-1.1) ...\n",
            "Selecting previously unselected package gpgsm.\n",
            "Preparing to unpack .../084-gpgsm_2.2.40-1.1_amd64.deb ...\n",
            "Unpacking gpgsm (2.2.40-1.1) ...\n",
            "Selecting previously unselected package gnupg.\n",
            "Preparing to unpack .../085-gnupg_2.2.40-1.1_all.deb ...\n",
            "Unpacking gnupg (2.2.40-1.1) ...\n",
            "Selecting previously unselected package libabsl20220623:amd64.\n",
            "Preparing to unpack .../086-libabsl20220623_20220623.1-1+deb12u2_amd64.deb ...\n",
            "Unpacking libabsl20220623:amd64 (20220623.1-1+deb12u2) ...\n",
            "Selecting previously unselected package libalgorithm-diff-perl.\n",
            "Preparing to unpack .../087-libalgorithm-diff-perl_1.201-1_all.deb ...\n",
            "Unpacking libalgorithm-diff-perl (1.201-1) ...\n",
            "Selecting previously unselected package libalgorithm-diff-xs-perl:amd64.\n",
            "Preparing to unpack .../088-libalgorithm-diff-xs-perl_0.04-8+b1_amd64.deb ...\n",
            "Unpacking libalgorithm-diff-xs-perl:amd64 (0.04-8+b1) ...\n",
            "Selecting previously unselected package libalgorithm-merge-perl.\n",
            "Preparing to unpack .../089-libalgorithm-merge-perl_0.08-5_all.deb ...\n",
            "Unpacking libalgorithm-merge-perl (0.08-5) ...\n",
            "Selecting previously unselected package libaom3:amd64.\n",
            "Preparing to unpack .../090-libaom3_3.6.0-1+deb12u1_amd64.deb ...\n",
            "Unpacking libaom3:amd64 (3.6.0-1+deb12u1) ...\n",
            "Selecting previously unselected package libdav1d6:amd64.\n",
            "Preparing to unpack .../091-libdav1d6_1.0.0-2+deb12u1_amd64.deb ...\n",
            "Unpacking libdav1d6:amd64 (1.0.0-2+deb12u1) ...\n",
            "Selecting previously unselected package libgav1-1:amd64.\n",
            "Preparing to unpack .../092-libgav1-1_0.18.0-1+b1_amd64.deb ...\n",
            "Unpacking libgav1-1:amd64 (0.18.0-1+b1) ...\n",
            "Selecting previously unselected package librav1e0:amd64.\n",
            "Preparing to unpack .../093-librav1e0_0.5.1-6_amd64.deb ...\n",
            "Unpacking librav1e0:amd64 (0.5.1-6) ...\n",
            "Selecting previously unselected package libsvtav1enc1:amd64.\n",
            "Preparing to unpack .../094-libsvtav1enc1_1.4.1+dfsg-1_amd64.deb ...\n",
            "Unpacking libsvtav1enc1:amd64 (1.4.1+dfsg-1) ...\n",
            "Selecting previously unselected package libjpeg62-turbo:amd64.\n",
            "Preparing to unpack .../095-libjpeg62-turbo_1%3a2.1.5-2_amd64.deb ...\n",
            "Unpacking libjpeg62-turbo:amd64 (1:2.1.5-2) ...\n",
            "Selecting previously unselected package libyuv0:amd64.\n",
            "Preparing to unpack .../096-libyuv0_0.0~git20230123.b2528b0-1_amd64.deb ...\n",
            "Unpacking libyuv0:amd64 (0.0~git20230123.b2528b0-1) ...\n",
            "Selecting previously unselected package libavif15:amd64.\n",
            "Preparing to unpack .../097-libavif15_0.11.1-1_amd64.deb ...\n",
            "Unpacking libavif15:amd64 (0.11.1-1) ...\n",
            "Selecting previously unselected package libbsd0:amd64.\n",
            "Preparing to unpack .../098-libbsd0_0.11.7-2_amd64.deb ...\n",
            "Unpacking libbsd0:amd64 (0.11.7-2) ...\n",
            "Selecting previously unselected package libpng16-16:amd64.\n",
            "Preparing to unpack .../099-libpng16-16_1.6.39-2_amd64.deb ...\n",
            "Unpacking libpng16-16:amd64 (1.6.39-2) ...\n",
            "Selecting previously unselected package libfreetype6:amd64.\n",
            "Preparing to unpack .../100-libfreetype6_2.12.1+dfsg-5+deb12u4_amd64.deb ...\n",
            "Unpacking libfreetype6:amd64 (2.12.1+dfsg-5+deb12u4) ...\n",
            "Selecting previously unselected package libfontconfig1:amd64.\n",
            "Preparing to unpack .../101-libfontconfig1_2.14.1-4_amd64.deb ...\n",
            "Unpacking libfontconfig1:amd64 (2.14.1-4) ...\n",
            "Selecting previously unselected package libde265-0:amd64.\n",
            "Preparing to unpack .../102-libde265-0_1.0.11-1+deb12u2_amd64.deb ...\n",
            "Unpacking libde265-0:amd64 (1.0.11-1+deb12u2) ...\n",
            "Selecting previously unselected package libnuma1:amd64.\n",
            "Preparing to unpack .../103-libnuma1_2.0.16-1_amd64.deb ...\n",
            "Unpacking libnuma1:amd64 (2.0.16-1) ...\n",
            "Selecting previously unselected package libx265-199:amd64.\n",
            "Preparing to unpack .../104-libx265-199_3.5-2+b1_amd64.deb ...\n",
            "Unpacking libx265-199:amd64 (3.5-2+b1) ...\n",
            "Selecting previously unselected package libheif1:amd64.\n",
            "Preparing to unpack .../105-libheif1_1.15.1-1+deb12u1_amd64.deb ...\n",
            "Unpacking libheif1:amd64 (1.15.1-1+deb12u1) ...\n",
            "Selecting previously unselected package libdeflate0:amd64.\n",
            "Preparing to unpack .../106-libdeflate0_1.14-1_amd64.deb ...\n",
            "Unpacking libdeflate0:amd64 (1.14-1) ...\n",
            "Selecting previously unselected package libjbig0:amd64.\n",
            "Preparing to unpack .../107-libjbig0_2.1-6.1_amd64.deb ...\n",
            "Unpacking libjbig0:amd64 (2.1-6.1) ...\n",
            "Selecting previously unselected package liblerc4:amd64.\n",
            "Preparing to unpack .../108-liblerc4_4.0.0+ds-2_amd64.deb ...\n",
            "Unpacking liblerc4:amd64 (4.0.0+ds-2) ...\n",
            "Selecting previously unselected package libwebp7:amd64.\n",
            "Preparing to unpack .../109-libwebp7_1.2.4-0.2+deb12u1_amd64.deb ...\n",
            "Unpacking libwebp7:amd64 (1.2.4-0.2+deb12u1) ...\n",
            "Selecting previously unselected package libtiff6:amd64.\n",
            "Preparing to unpack .../110-libtiff6_4.5.0-6+deb12u2_amd64.deb ...\n",
            "Unpacking libtiff6:amd64 (4.5.0-6+deb12u2) ...\n",
            "Selecting previously unselected package libxau6:amd64.\n",
            "Preparing to unpack .../111-libxau6_1%3a1.0.9-1_amd64.deb ...\n",
            "Unpacking libxau6:amd64 (1:1.0.9-1) ...\n",
            "Selecting previously unselected package libxdmcp6:amd64.\n",
            "Preparing to unpack .../112-libxdmcp6_1%3a1.1.2-3_amd64.deb ...\n",
            "Unpacking libxdmcp6:amd64 (1:1.1.2-3) ...\n",
            "Selecting previously unselected package libxcb1:amd64.\n",
            "Preparing to unpack .../113-libxcb1_1.15-1_amd64.deb ...\n",
            "Unpacking libxcb1:amd64 (1.15-1) ...\n",
            "Selecting previously unselected package libx11-data.\n",
            "Preparing to unpack .../114-libx11-data_2%3a1.8.4-2+deb12u2_all.deb ...\n",
            "Unpacking libx11-data (2:1.8.4-2+deb12u2) ...\n",
            "Selecting previously unselected package libx11-6:amd64.\n",
            "Preparing to unpack .../115-libx11-6_2%3a1.8.4-2+deb12u2_amd64.deb ...\n",
            "Unpacking libx11-6:amd64 (2:1.8.4-2+deb12u2) ...\n",
            "Selecting previously unselected package libxpm4:amd64.\n",
            "Preparing to unpack .../116-libxpm4_1%3a3.5.12-1.1+deb12u1_amd64.deb ...\n",
            "Unpacking libxpm4:amd64 (1:3.5.12-1.1+deb12u1) ...\n",
            "Selecting previously unselected package libgd3:amd64.\n",
            "Preparing to unpack .../117-libgd3_2.3.3-9_amd64.deb ...\n",
            "Unpacking libgd3:amd64 (2.3.3-9) ...\n",
            "Selecting previously unselected package libc-devtools.\n",
            "Preparing to unpack .../118-libc-devtools_2.36-9+deb12u10_amd64.deb ...\n",
            "Unpacking libc-devtools (2.36-9+deb12u10) ...\n",
            "Selecting previously unselected package libdrm-common.\n",
            "Preparing to unpack .../119-libdrm-common_2.4.114-1_all.deb ...\n",
            "Unpacking libdrm-common (2.4.114-1) ...\n",
            "Selecting previously unselected package libdrm2:amd64.\n",
            "Preparing to unpack .../120-libdrm2_2.4.114-1+b1_amd64.deb ...\n",
            "Unpacking libdrm2:amd64 (2.4.114-1+b1) ...\n",
            "Selecting previously unselected package libdrm-amdgpu1:amd64.\n",
            "Preparing to unpack .../121-libdrm-amdgpu1_2.4.114-1+b1_amd64.deb ...\n",
            "Unpacking libdrm-amdgpu1:amd64 (2.4.114-1+b1) ...\n",
            "Selecting previously unselected package libpciaccess0:amd64.\n",
            "Preparing to unpack .../122-libpciaccess0_0.17-2_amd64.deb ...\n",
            "Unpacking libpciaccess0:amd64 (0.17-2) ...\n",
            "Selecting previously unselected package libdrm-intel1:amd64.\n",
            "Preparing to unpack .../123-libdrm-intel1_2.4.114-1+b1_amd64.deb ...\n",
            "Unpacking libdrm-intel1:amd64 (2.4.114-1+b1) ...\n",
            "Selecting previously unselected package libdrm-nouveau2:amd64.\n",
            "Preparing to unpack .../124-libdrm-nouveau2_2.4.114-1+b1_amd64.deb ...\n",
            "Unpacking libdrm-nouveau2:amd64 (2.4.114-1+b1) ...\n",
            "Selecting previously unselected package libdrm-radeon1:amd64.\n",
            "Preparing to unpack .../125-libdrm-radeon1_2.4.114-1+b1_amd64.deb ...\n",
            "Unpacking libdrm-radeon1:amd64 (2.4.114-1+b1) ...\n",
            "Selecting previously unselected package libedit2:amd64.\n",
            "Preparing to unpack .../126-libedit2_3.1-20221030-2_amd64.deb ...\n",
            "Unpacking libedit2:amd64 (3.1-20221030-2) ...\n",
            "Selecting previously unselected package libelf1:amd64.\n",
            "Preparing to unpack .../127-libelf1_0.188-2.1_amd64.deb ...\n",
            "Unpacking libelf1:amd64 (0.188-2.1) ...\n",
            "Selecting previously unselected package libfile-fcntllock-perl.\n",
            "Preparing to unpack .../128-libfile-fcntllock-perl_0.22-4+b1_amd64.deb ...\n",
            "Unpacking libfile-fcntllock-perl (0.22-4+b1) ...\n",
            "Selecting previously unselected package libglvnd0:amd64.\n",
            "Preparing to unpack .../129-libglvnd0_1.6.0-1_amd64.deb ...\n",
            "Unpacking libglvnd0:amd64 (1.6.0-1) ...\n",
            "Selecting previously unselected package libglapi-mesa:amd64.\n",
            "Preparing to unpack .../130-libglapi-mesa_22.3.6-1+deb12u1_amd64.deb ...\n",
            "Unpacking libglapi-mesa:amd64 (22.3.6-1+deb12u1) ...\n",
            "Selecting previously unselected package libx11-xcb1:amd64.\n",
            "Preparing to unpack .../131-libx11-xcb1_2%3a1.8.4-2+deb12u2_amd64.deb ...\n",
            "Unpacking libx11-xcb1:amd64 (2:1.8.4-2+deb12u2) ...\n",
            "Selecting previously unselected package libxcb-dri2-0:amd64.\n",
            "Preparing to unpack .../132-libxcb-dri2-0_1.15-1_amd64.deb ...\n",
            "Unpacking libxcb-dri2-0:amd64 (1.15-1) ...\n",
            "Selecting previously unselected package libxcb-dri3-0:amd64.\n",
            "Preparing to unpack .../133-libxcb-dri3-0_1.15-1_amd64.deb ...\n",
            "Unpacking libxcb-dri3-0:amd64 (1.15-1) ...\n",
            "Selecting previously unselected package libxcb-glx0:amd64.\n",
            "Preparing to unpack .../134-libxcb-glx0_1.15-1_amd64.deb ...\n",
            "Unpacking libxcb-glx0:amd64 (1.15-1) ...\n",
            "Selecting previously unselected package libxcb-present0:amd64.\n",
            "Preparing to unpack .../135-libxcb-present0_1.15-1_amd64.deb ...\n",
            "Unpacking libxcb-present0:amd64 (1.15-1) ...\n",
            "Selecting previously unselected package libxcb-randr0:amd64.\n",
            "Preparing to unpack .../136-libxcb-randr0_1.15-1_amd64.deb ...\n",
            "Unpacking libxcb-randr0:amd64 (1.15-1) ...\n",
            "Selecting previously unselected package libxcb-shm0:amd64.\n",
            "Preparing to unpack .../137-libxcb-shm0_1.15-1_amd64.deb ...\n",
            "Unpacking libxcb-shm0:amd64 (1.15-1) ...\n",
            "Selecting previously unselected package libxcb-sync1:amd64.\n",
            "Preparing to unpack .../138-libxcb-sync1_1.15-1_amd64.deb ...\n",
            "Unpacking libxcb-sync1:amd64 (1.15-1) ...\n",
            "Selecting previously unselected package libxcb-xfixes0:amd64.\n",
            "Preparing to unpack .../139-libxcb-xfixes0_1.15-1_amd64.deb ...\n",
            "Unpacking libxcb-xfixes0:amd64 (1.15-1) ...\n",
            "Selecting previously unselected package libxext6:amd64.\n",
            "Preparing to unpack .../140-libxext6_2%3a1.3.4-1+b1_amd64.deb ...\n",
            "Unpacking libxext6:amd64 (2:1.3.4-1+b1) ...\n",
            "Selecting previously unselected package libxfixes3:amd64.\n",
            "Preparing to unpack .../141-libxfixes3_1%3a6.0.0-2_amd64.deb ...\n",
            "Unpacking libxfixes3:amd64 (1:6.0.0-2) ...\n",
            "Selecting previously unselected package libxshmfence1:amd64.\n",
            "Preparing to unpack .../142-libxshmfence1_1.3-1_amd64.deb ...\n",
            "Unpacking libxshmfence1:amd64 (1.3-1) ...\n",
            "Selecting previously unselected package libxxf86vm1:amd64.\n",
            "Preparing to unpack .../143-libxxf86vm1_1%3a1.1.4-1+b2_amd64.deb ...\n",
            "Unpacking libxxf86vm1:amd64 (1:1.1.4-1+b2) ...\n",
            "Selecting previously unselected package libz3-4:amd64.\n",
            "Preparing to unpack .../144-libz3-4_4.8.12-3.1_amd64.deb ...\n",
            "Unpacking libz3-4:amd64 (4.8.12-3.1) ...\n",
            "Selecting previously unselected package libllvm15:amd64.\n",
            "Preparing to unpack .../145-libllvm15_1%3a15.0.6-4+b1_amd64.deb ...\n",
            "Unpacking libllvm15:amd64 (1:15.0.6-4+b1) ...\n",
            "Selecting previously unselected package libsensors-config.\n",
            "Preparing to unpack .../146-libsensors-config_1%3a3.6.0-7.1_all.deb ...\n",
            "Unpacking libsensors-config (1:3.6.0-7.1) ...\n",
            "Selecting previously unselected package libsensors5:amd64.\n",
            "Preparing to unpack .../147-libsensors5_1%3a3.6.0-7.1_amd64.deb ...\n",
            "Unpacking libsensors5:amd64 (1:3.6.0-7.1) ...\n",
            "Selecting previously unselected package libgl1-mesa-dri:amd64.\n",
            "Preparing to unpack .../148-libgl1-mesa-dri_22.3.6-1+deb12u1_amd64.deb ...\n",
            "Unpacking libgl1-mesa-dri:amd64 (22.3.6-1+deb12u1) ...\n",
            "Selecting previously unselected package libglx-mesa0:amd64.\n",
            "Preparing to unpack .../149-libglx-mesa0_22.3.6-1+deb12u1_amd64.deb ...\n",
            "Unpacking libglx-mesa0:amd64 (22.3.6-1+deb12u1) ...\n",
            "Selecting previously unselected package libglx0:amd64.\n",
            "Preparing to unpack .../150-libglx0_1.6.0-1_amd64.deb ...\n",
            "Unpacking libglx0:amd64 (1.6.0-1) ...\n",
            "Selecting previously unselected package libgl1:amd64.\n",
            "Preparing to unpack .../151-libgl1_1.6.0-1_amd64.deb ...\n",
            "Unpacking libgl1:amd64 (1.6.0-1) ...\n",
            "Selecting previously unselected package libgl1-mesa-glx:amd64.\n",
            "Preparing to unpack .../152-libgl1-mesa-glx_22.3.6-1+deb12u1_amd64.deb ...\n",
            "Unpacking libgl1-mesa-glx:amd64 (22.3.6-1+deb12u1) ...\n",
            "Selecting previously unselected package libglib2.0-0:amd64.\n",
            "Preparing to unpack .../153-libglib2.0-0_2.74.6-2+deb12u6_amd64.deb ...\n",
            "Unpacking libglib2.0-0:amd64 (2.74.6-2+deb12u6) ...\n",
            "Selecting previously unselected package libglib2.0-data.\n",
            "Preparing to unpack .../154-libglib2.0-data_2.74.6-2+deb12u6_all.deb ...\n",
            "Unpacking libglib2.0-data (2.74.6-2+deb12u6) ...\n",
            "Selecting previously unselected package x11-common.\n",
            "Preparing to unpack .../155-x11-common_1%3a7.7+23_all.deb ...\n",
            "Unpacking x11-common (1:7.7+23) ...\n",
            "Selecting previously unselected package libice6:amd64.\n",
            "Preparing to unpack .../156-libice6_2%3a1.0.10-1_amd64.deb ...\n",
            "Unpacking libice6:amd64 (2:1.0.10-1) ...\n",
            "Selecting previously unselected package libldap-common.\n",
            "Preparing to unpack .../157-libldap-common_2.5.13+dfsg-5_all.deb ...\n",
            "Unpacking libldap-common (2.5.13+dfsg-5) ...\n",
            "Selecting previously unselected package libpthread-stubs0-dev:amd64.\n",
            "Preparing to unpack .../158-libpthread-stubs0-dev_0.4-1_amd64.deb ...\n",
            "Unpacking libpthread-stubs0-dev:amd64 (0.4-1) ...\n",
            "Selecting previously unselected package libsasl2-modules:amd64.\n",
            "Preparing to unpack .../159-libsasl2-modules_2.1.28+dfsg-10_amd64.deb ...\n",
            "Unpacking libsasl2-modules:amd64 (2.1.28+dfsg-10) ...\n",
            "Selecting previously unselected package libsm6:amd64.\n",
            "Preparing to unpack .../160-libsm6_2%3a1.2.3-1_amd64.deb ...\n",
            "Unpacking libsm6:amd64 (2:1.2.3-1) ...\n",
            "Selecting previously unselected package xorg-sgml-doctools.\n",
            "Preparing to unpack .../161-xorg-sgml-doctools_1%3a1.11-1.1_all.deb ...\n",
            "Unpacking xorg-sgml-doctools (1:1.11-1.1) ...\n",
            "Selecting previously unselected package x11proto-dev.\n",
            "Preparing to unpack .../162-x11proto-dev_2022.1-1_all.deb ...\n",
            "Unpacking x11proto-dev (2022.1-1) ...\n",
            "Selecting previously unselected package libxau-dev:amd64.\n",
            "Preparing to unpack .../163-libxau-dev_1%3a1.0.9-1_amd64.deb ...\n",
            "Unpacking libxau-dev:amd64 (1:1.0.9-1) ...\n",
            "Selecting previously unselected package libxdmcp-dev:amd64.\n",
            "Preparing to unpack .../164-libxdmcp-dev_1%3a1.1.2-3_amd64.deb ...\n",
            "Unpacking libxdmcp-dev:amd64 (1:1.1.2-3) ...\n",
            "Selecting previously unselected package xtrans-dev.\n",
            "Preparing to unpack .../165-xtrans-dev_1.4.0-1_all.deb ...\n",
            "Unpacking xtrans-dev (1.4.0-1) ...\n",
            "Selecting previously unselected package libxcb1-dev:amd64.\n",
            "Preparing to unpack .../166-libxcb1-dev_1.15-1_amd64.deb ...\n",
            "Unpacking libxcb1-dev:amd64 (1.15-1) ...\n",
            "Selecting previously unselected package libx11-dev:amd64.\n",
            "Preparing to unpack .../167-libx11-dev_2%3a1.8.4-2+deb12u2_amd64.deb ...\n",
            "Unpacking libx11-dev:amd64 (2:1.8.4-2+deb12u2) ...\n",
            "Selecting previously unselected package libxrender1:amd64.\n",
            "Preparing to unpack .../168-libxrender1_1%3a0.9.10-1.1_amd64.deb ...\n",
            "Unpacking libxrender1:amd64 (1:0.9.10-1.1) ...\n",
            "Selecting previously unselected package libxrender-dev:amd64.\n",
            "Preparing to unpack .../169-libxrender-dev_1%3a0.9.10-1.1_amd64.deb ...\n",
            "Unpacking libxrender-dev:amd64 (1:0.9.10-1.1) ...\n",
            "Selecting previously unselected package manpages-dev.\n",
            "Preparing to unpack .../170-manpages-dev_6.03-2_all.deb ...\n",
            "Unpacking manpages-dev (6.03-2) ...\n",
            "Selecting previously unselected package psmisc.\n",
            "Preparing to unpack .../171-psmisc_23.6-1_amd64.deb ...\n",
            "Unpacking psmisc (23.6-1) ...\n",
            "Selecting previously unselected package publicsuffix.\n",
            "Preparing to unpack .../172-publicsuffix_20230209.2326-1_all.deb ...\n",
            "Unpacking publicsuffix (20230209.2326-1) ...\n",
            "Selecting previously unselected package shared-mime-info.\n",
            "Preparing to unpack .../173-shared-mime-info_2.2-1_amd64.deb ...\n",
            "Unpacking shared-mime-info (2.2-1) ...\n",
            "Selecting previously unselected package xdg-user-dirs.\n",
            "Preparing to unpack .../174-xdg-user-dirs_0.18-1_amd64.deb ...\n",
            "Unpacking xdg-user-dirs (0.18-1) ...\n",
            "Setting up libksba8:amd64 (1.6.3-2) ...\n",
            "Setting up libexpat1:amd64 (2.5.0-1+deb12u1) ...\n",
            "Setting up libaom3:amd64 (3.6.0-1+deb12u1) ...\n",
            "Setting up libpciaccess0:amd64 (0.17-2) ...\n",
            "Setting up libabsl20220623:amd64 (20220623.1-1+deb12u2) ...\n",
            "Setting up libxau6:amd64 (1:1.0.9-1) ...\n",
            "Setting up libpsl5:amd64 (0.21.2-1) ...\n",
            "Setting up libicu72:amd64 (72.1-3) ...\n",
            "Setting up liblerc4:amd64 (4.0.0+ds-2) ...\n",
            "Setting up xdg-user-dirs (0.18-1) ...\n",
            "Setting up psmisc (23.6-1) ...\n",
            "Setting up libglib2.0-0:amd64 (2.74.6-2+deb12u6) ...\n",
            "No schema files found: doing nothing.\n",
            "Setting up manpages (6.03-2) ...\n",
            "Setting up libglvnd0:amd64 (1.6.0-1) ...\n",
            "Setting up libbrotli1:amd64 (1.0.9-2+b6) ...\n",
            "Setting up libsasl2-modules:amd64 (2.1.28+dfsg-10) ...\n",
            "Setting up binutils-common:amd64 (2.40-2) ...\n",
            "Setting up x11-common (1:7.7+23) ...\n",
            "debconf: unable to initialize frontend: Dialog\n",
            "debconf: (TERM is not set, so the dialog frontend is not usable.)\n",
            "debconf: falling back to frontend: Readline\n",
            "debconf: unable to initialize frontend: Readline\n",
            "debconf: (This frontend requires a controlling tty.)\n",
            "debconf: falling back to frontend: Teletype\n",
            "invoke-rc.d: could not determine current runlevel\n",
            "invoke-rc.d: policy-rc.d denied execution of restart.\n",
            "Setting up libsensors-config (1:3.6.0-7.1) ...\n",
            "Setting up libnghttp2-14:amd64 (1.52.0-1+deb12u2) ...\n",
            "Setting up libdeflate0:amd64 (1.14-1) ...\n",
            "Setting up linux-libc-dev:amd64 (6.1.140-1) ...\n",
            "Setting up libctf-nobfd0:amd64 (2.40-2) ...\n",
            "Setting up libnpth0:amd64 (1.6-3) ...\n",
            "Setting up libsvtav1enc1:amd64 (1.4.1+dfsg-1) ...\n",
            "Setting up libassuan0:amd64 (2.5.5-5) ...\n",
            "Setting up libgomp1:amd64 (12.2.0-14+deb12u1) ...\n",
            "Setting up bzip2 (1.0.8-5+b1) ...\n",
            "Setting up libldap-common (2.5.13+dfsg-5) ...\n",
            "Setting up libpthread-stubs0-dev:amd64 (0.4-1) ...\n",
            "Setting up libjbig0:amd64 (2.1-6.1) ...\n",
            "Setting up librav1e0:amd64 (0.5.1-6) ...\n",
            "Setting up libfakeroot:amd64 (1.31-1.2) ...\n",
            "Setting up libjansson4:amd64 (2.14-2) ...\n",
            "Setting up libsasl2-modules-db:amd64 (2.1.28+dfsg-10) ...\n",
            "Setting up fakeroot (1.31-1.2) ...\n",
            "update-alternatives: using /usr/bin/fakeroot-sysv to provide /usr/bin/fakeroot (fakeroot) in auto mode\n",
            "update-alternatives: warning: skip creation of /usr/share/man/man1/fakeroot.1.gz because associated file /usr/share/man/man1/fakeroot-sysv.1.gz (of link group fakeroot) doesn't exist\n",
            "update-alternatives: warning: skip creation of /usr/share/man/man1/faked.1.gz because associated file /usr/share/man/man1/faked-sysv.1.gz (of link group fakeroot) doesn't exist\n",
            "update-alternatives: warning: skip creation of /usr/share/man/es/man1/fakeroot.1.gz because associated file /usr/share/man/es/man1/fakeroot-sysv.1.gz (of link group fakeroot) doesn't exist\n",
            "update-alternatives: warning: skip creation of /usr/share/man/es/man1/faked.1.gz because associated file /usr/share/man/es/man1/faked-sysv.1.gz (of link group fakeroot) doesn't exist\n",
            "update-alternatives: warning: skip creation of /usr/share/man/fr/man1/fakeroot.1.gz because associated file /usr/share/man/fr/man1/fakeroot-sysv.1.gz (of link group fakeroot) doesn't exist\n",
            "update-alternatives: warning: skip creation of /usr/share/man/fr/man1/faked.1.gz because associated file /usr/share/man/fr/man1/faked-sysv.1.gz (of link group fakeroot) doesn't exist\n",
            "update-alternatives: warning: skip creation of /usr/share/man/sv/man1/fakeroot.1.gz because associated file /usr/share/man/sv/man1/fakeroot-sysv.1.gz (of link group fakeroot) doesn't exist\n",
            "update-alternatives: warning: skip creation of /usr/share/man/sv/man1/faked.1.gz because associated file /usr/share/man/sv/man1/faked-sysv.1.gz (of link group fakeroot) doesn't exist\n",
            "Setting up xtrans-dev (1.4.0-1) ...\n",
            "Setting up perl-modules-5.36 (5.36.0-7+deb12u2) ...\n",
            "Setting up libz3-4:amd64 (4.8.12-3.1) ...\n",
            "Setting up libglib2.0-data (2.74.6-2+deb12u6) ...\n",
            "Setting up libtirpc-dev:amd64 (1.3.3+ds-1) ...\n",
            "Setting up libuv1:amd64 (1.44.2-1+deb12u1) ...\n",
            "Setting up rpcsvc-proto (1.4.3-1) ...\n",
            "Setting up libjpeg62-turbo:amd64 (1:2.1.5-2) ...\n",
            "Setting up libx11-data (2:1.8.4-2+deb12u2) ...\n",
            "Setting up make (4.3-4.1) ...\n",
            "Setting up libmpfr6:amd64 (4.2.0-1) ...\n",
            "Setting up gnupg-l10n (2.2.40-1.1) ...\n",
            "Setting up librtmp1:amd64 (2.4+20151223.gitfa8646d.1-2+b2) ...\n",
            "Setting up xz-utils (5.4.1-1) ...\n",
            "update-alternatives: using /usr/bin/xz to provide /usr/bin/lzma (lzma) in auto mode\n",
            "update-alternatives: warning: skip creation of /usr/share/man/man1/lzma.1.gz because associated file /usr/share/man/man1/xz.1.gz (of link group lzma) doesn't exist\n",
            "update-alternatives: warning: skip creation of /usr/share/man/man1/unlzma.1.gz because associated file /usr/share/man/man1/unxz.1.gz (of link group lzma) doesn't exist\n",
            "update-alternatives: warning: skip creation of /usr/share/man/man1/lzcat.1.gz because associated file /usr/share/man/man1/xzcat.1.gz (of link group lzma) doesn't exist\n",
            "update-alternatives: warning: skip creation of /usr/share/man/man1/lzmore.1.gz because associated file /usr/share/man/man1/xzmore.1.gz (of link group lzma) doesn't exist\n",
            "update-alternatives: warning: skip creation of /usr/share/man/man1/lzless.1.gz because associated file /usr/share/man/man1/xzless.1.gz (of link group lzma) doesn't exist\n",
            "update-alternatives: warning: skip creation of /usr/share/man/man1/lzdiff.1.gz because associated file /usr/share/man/man1/xzdiff.1.gz (of link group lzma) doesn't exist\n",
            "update-alternatives: warning: skip creation of /usr/share/man/man1/lzcmp.1.gz because associated file /usr/share/man/man1/xzcmp.1.gz (of link group lzma) doesn't exist\n",
            "update-alternatives: warning: skip creation of /usr/share/man/man1/lzgrep.1.gz because associated file /usr/share/man/man1/xzgrep.1.gz (of link group lzma) doesn't exist\n",
            "update-alternatives: warning: skip creation of /usr/share/man/man1/lzegrep.1.gz because associated file /usr/share/man/man1/xzegrep.1.gz (of link group lzma) doesn't exist\n",
            "update-alternatives: warning: skip creation of /usr/share/man/man1/lzfgrep.1.gz because associated file /usr/share/man/man1/xzfgrep.1.gz (of link group lzma) doesn't exist\n",
            "Setting up libquadmath0:amd64 (12.2.0-14+deb12u1) ...\n",
            "Setting up libproc2-0:amd64 (2:4.0.2-3) ...\n",
            "Setting up libpng16-16:amd64 (1.6.39-2) ...\n",
            "Setting up libmpc3:amd64 (1.3.1-1) ...\n",
            "Setting up libatomic1:amd64 (12.2.0-14+deb12u1) ...\n",
            "Setting up patch (2.7.6-7) ...\n",
            "Setting up libjsoncpp25:amd64 (1.9.5-4) ...\n",
            "Setting up fonts-dejavu-core (2.37-6) ...\n",
            "Setting up libgdbm-compat4:amd64 (1.23-3) ...\n",
            "Setting up libgav1-1:amd64 (0.18.0-1+b1) ...\n",
            "Setting up libsensors5:amd64 (1:3.6.0-7.1) ...\n",
            "Setting up libdav1d6:amd64 (1.0.0-2+deb12u1) ...\n",
            "Setting up libglapi-mesa:amd64 (22.3.6-1+deb12u1) ...\n",
            "Setting up libsasl2-2:amd64 (2.1.28+dfsg-10) ...\n",
            "Setting up libwebp7:amd64 (1.2.4-0.2+deb12u1) ...\n",
            "Setting up libubsan1:amd64 (12.2.0-14+deb12u1) ...\n",
            "Setting up libnuma1:amd64 (2.0.16-1) ...\n",
            "Setting up libnsl-dev:amd64 (1.3.0-2) ...\n",
            "Setting up libxshmfence1:amd64 (1.3-1) ...\n",
            "Setting up librhash0:amd64 (1.4.3-3) ...\n",
            "Setting up libcrypt-dev:amd64 (1:4.4.33-2) ...\n",
            "Setting up libtiff6:amd64 (4.5.0-6+deb12u2) ...\n",
            "Setting up libasan8:amd64 (12.2.0-14+deb12u1) ...\n",
            "Setting up procps (2:4.0.2-3) ...\n",
            "Setting up gpgconf (2.2.40-1.1) ...\n",
            "Setting up libssh2-1:amd64 (1.10.0-3+b1) ...\n",
            "Setting up xorg-sgml-doctools (1:1.11-1.1) ...\n",
            "Setting up cmake-data (3.25.1-1) ...\n",
            "Setting up libtsan2:amd64 (12.2.0-14+deb12u1) ...\n",
            "Setting up libbinutils:amd64 (2.40-2) ...\n",
            "Setting up libisl23:amd64 (0.25-1.1) ...\n",
            "Setting up libde265-0:amd64 (1.0.11-1+deb12u2) ...\n",
            "Setting up libc-dev-bin (2.36-9+deb12u10) ...\n",
            "Setting up libbsd0:amd64 (0.11.7-2) ...\n",
            "Setting up libdrm-common (2.4.114-1) ...\n",
            "Setting up libyuv0:amd64 (0.0~git20230123.b2528b0-1) ...\n",
            "Setting up libelf1:amd64 (0.188-2.1) ...\n",
            "Setting up publicsuffix (20230209.2326-1) ...\n",
            "Setting up libxml2:amd64 (2.9.14+dfsg-1.3~deb12u1) ...\n",
            "Setting up libcc1-0:amd64 (12.2.0-14+deb12u1) ...\n",
            "Setting up libperl5.36:amd64 (5.36.0-7+deb12u2) ...\n",
            "Setting up liblocale-gettext-perl (1.07-5) ...\n",
            "Setting up gpg (2.2.40-1.1) ...\n",
            "Setting up liblsan0:amd64 (12.2.0-14+deb12u1) ...\n",
            "Setting up libitm1:amd64 (12.2.0-14+deb12u1) ...\n",
            "Setting up gnupg-utils (2.2.40-1.1) ...\n",
            "Setting up libctf0:amd64 (2.40-2) ...\n",
            "Setting up pinentry-curses (1.2.1-1) ...\n",
            "Setting up x11proto-dev (2022.1-1) ...\n",
            "Setting up manpages-dev (6.03-2) ...\n",
            "Setting up libice6:amd64 (2:1.0.10-1) ...\n",
            "Setting up libxdmcp6:amd64 (1:1.1.2-3) ...\n",
            "Setting up cpp-12 (12.2.0-14+deb12u1) ...\n",
            "Setting up libxcb1:amd64 (1.15-1) ...\n",
            "Setting up libxcb-xfixes0:amd64 (1.15-1) ...\n",
            "Setting up gpg-agent (2.2.40-1.1) ...\n",
            "Setting up libxau-dev:amd64 (1:1.0.9-1) ...\n",
            "Setting up libavif15:amd64 (0.11.1-1) ...\n",
            "Setting up libarchive13:amd64 (3.6.2-1+deb12u2) ...\n",
            "Setting up fontconfig-config (2.14.1-4) ...\n",
            "debconf: unable to initialize frontend: Dialog\n",
            "debconf: (TERM is not set, so the dialog frontend is not usable.)\n",
            "debconf: falling back to frontend: Readline\n",
            "debconf: unable to initialize frontend: Readline\n",
            "debconf: (This frontend requires a controlling tty.)\n",
            "debconf: falling back to frontend: Teletype\n",
            "Setting up libxcb-glx0:amd64 (1.15-1) ...\n",
            "Setting up libedit2:amd64 (3.1-20221030-2) ...\n",
            "Setting up gpgsm (2.2.40-1.1) ...\n",
            "Setting up libxcb-shm0:amd64 (1.15-1) ...\n",
            "Setting up libldap-2.5-0:amd64 (2.5.13+dfsg-5) ...\n",
            "Setting up libxcb-present0:amd64 (1.15-1) ...\n",
            "Setting up dirmngr (2.2.40-1.1) ...\n",
            "Setting up libxdmcp-dev:amd64 (1:1.1.2-3) ...\n",
            "Setting up perl (5.36.0-7+deb12u2) ...\n",
            "Setting up libgprofng0:amd64 (2.40-2) ...\n",
            "Setting up libfreetype6:amd64 (2.12.1+dfsg-5+deb12u4) ...\n",
            "Setting up libxcb-sync1:amd64 (1.15-1) ...\n",
            "Setting up libgcc-12-dev:amd64 (12.2.0-14+deb12u1) ...\n",
            "Setting up shared-mime-info (2.2-1) ...\n",
            "Setting up libdpkg-perl (1.21.22) ...\n",
            "Setting up libx265-199:amd64 (3.5-2+b1) ...\n",
            "Setting up gpg-wks-server (2.2.40-1.1) ...\n",
            "Setting up libxcb-dri2-0:amd64 (1.15-1) ...\n",
            "Setting up libdrm2:amd64 (2.4.114-1+b1) ...\n",
            "Setting up libxcb-randr0:amd64 (1.15-1) ...\n",
            "Setting up cpp (4:12.2.0-3) ...\n",
            "Setting up libllvm15:amd64 (1:15.0.6-4+b1) ...\n",
            "Setting up libcurl4:amd64 (7.88.1-10+deb12u12) ...\n",
            "Setting up libc6-dev:amd64 (2.36-9+deb12u10) ...\n",
            "Setting up libx11-6:amd64 (2:1.8.4-2+deb12u2) ...\n",
            "Setting up libfontconfig1:amd64 (2.14.1-4) ...\n",
            "Setting up libsm6:amd64 (2:1.2.3-1) ...\n",
            "Setting up binutils-x86-64-linux-gnu (2.40-2) ...\n",
            "Setting up libdrm-amdgpu1:amd64 (2.4.114-1+b1) ...\n",
            "Setting up libxcb-dri3-0:amd64 (1.15-1) ...\n",
            "Setting up libx11-xcb1:amd64 (2:1.8.4-2+deb12u2) ...\n",
            "Setting up libdrm-nouveau2:amd64 (2.4.114-1+b1) ...\n",
            "Setting up libxcb1-dev:amd64 (1.15-1) ...\n",
            "Setting up libxpm4:amd64 (1:3.5.12-1.1+deb12u1) ...\n",
            "Setting up gpg-wks-client (2.2.40-1.1) ...\n",
            "Setting up libxrender1:amd64 (1:0.9.10-1.1) ...\n",
            "Setting up libstdc++-12-dev:amd64 (12.2.0-14+deb12u1) ...\n",
            "Setting up libfile-fcntllock-perl (0.22-4+b1) ...\n",
            "Setting up libalgorithm-diff-perl (1.201-1) ...\n",
            "Setting up libdrm-radeon1:amd64 (2.4.114-1+b1) ...\n",
            "Setting up libdrm-intel1:amd64 (2.4.114-1+b1) ...\n",
            "Setting up libgl1-mesa-dri:amd64 (22.3.6-1+deb12u1) ...\n",
            "Setting up libheif1:amd64 (1.15.1-1+deb12u1) ...\n",
            "Setting up libx11-dev:amd64 (2:1.8.4-2+deb12u2) ...\n",
            "Setting up libxext6:amd64 (2:1.3.4-1+b1) ...\n",
            "Setting up binutils (2.40-2) ...\n",
            "Setting up dpkg-dev (1.21.22) ...\n",
            "Setting up libxxf86vm1:amd64 (1:1.1.4-1+b2) ...\n",
            "Setting up gcc-12 (12.2.0-14+deb12u1) ...\n",
            "Setting up libxfixes3:amd64 (1:6.0.0-2) ...\n",
            "Setting up libgd3:amd64 (2.3.3-9) ...\n",
            "Setting up gnupg (2.2.40-1.1) ...\n",
            "Setting up cmake (3.25.1-1) ...\n",
            "Setting up libxrender-dev:amd64 (1:0.9.10-1.1) ...\n",
            "Setting up libalgorithm-diff-xs-perl:amd64 (0.04-8+b1) ...\n",
            "Setting up libc-devtools (2.36-9+deb12u10) ...\n",
            "Setting up libalgorithm-merge-perl (0.08-5) ...\n",
            "Setting up g++-12 (12.2.0-14+deb12u1) ...\n",
            "Setting up libglx-mesa0:amd64 (22.3.6-1+deb12u1) ...\n",
            "Setting up libglx0:amd64 (1.6.0-1) ...\n",
            "Setting up gcc (4:12.2.0-3) ...\n",
            "Setting up libgl1:amd64 (1.6.0-1) ...\n",
            "Setting up libgl1-mesa-glx:amd64 (22.3.6-1+deb12u1) ...\n",
            "Setting up g++ (4:12.2.0-3) ...\n",
            "update-alternatives: using /usr/bin/g++ to provide /usr/bin/c++ (c++) in auto mode\n",
            "Setting up build-essential (12.9) ...\n",
            "Processing triggers for libc-bin (2.36-9+deb12u10) ...\n",
            "Removing intermediate container 6ba2f28510ef\n",
            " ---> 0c09ab2583f8\n",
            "Step 3/8 : WORKDIR /app\n",
            " ---> Running in 41e6b8c7cea3\n",
            "Removing intermediate container 41e6b8c7cea3\n",
            " ---> bc8b54a787c6\n",
            "Step 4/8 : COPY requirements.txt .\n",
            " ---> df700279d3cc\n",
            "Step 5/8 : RUN pip install --no-cache-dir -r requirements.txt\n",
            " ---> Running in 5e96e1538ee8\n",
            "Collecting Flask\n",
            "  Downloading flask-3.1.1-py3-none-any.whl (103 kB)\n",
            "     ━━━━━━━━━━━━━━━━━━━━━━━━━━━━━━━━━━━━━━━ 103.3/103.3 kB 5.2 MB/s eta 0:00:00\n",
            "Collecting joblib\n",
            "  Downloading joblib-1.5.1-py3-none-any.whl (307 kB)\n",
            "     ━━━━━━━━━━━━━━━━━━━━━━━━━━━━━━━━━━━━━━ 307.7/307.7 kB 17.5 MB/s eta 0:00:00\n",
            "Collecting scikit-learn\n",
            "  Downloading scikit_learn-1.6.1-cp310-cp310-manylinux_2_17_x86_64.manylinux2014_x86_64.whl (13.5 MB)\n",
            "     ━━━━━━━━━━━━━━━━━━━━━━━━━━━━━━━━━━━━━━━━ 13.5/13.5 MB 64.5 MB/s eta 0:00:00\n",
            "Collecting xgboost\n",
            "  Downloading xgboost-3.0.2-py3-none-manylinux_2_28_x86_64.whl (253.9 MB)\n",
            "     ━━━━━━━━━━━━━━━━━━━━━━━━━━━━━━━━━━━━━ 253.9/253.9 MB 202.8 MB/s eta 0:00:00\n",
            "Collecting lightgbm\n",
            "  Downloading lightgbm-4.6.0-py3-none-manylinux_2_28_x86_64.whl (3.6 MB)\n",
            "     ━━━━━━━━━━━━━━━━━━━━━━━━━━━━━━━━━━━━━━━━ 3.6/3.6 MB 201.9 MB/s eta 0:00:00\n",
            "Collecting imbalanced-learn\n",
            "  Downloading imbalanced_learn-0.13.0-py3-none-any.whl (238 kB)\n",
            "     ━━━━━━━━━━━━━━━━━━━━━━━━━━━━━━━━━━━━━ 238.4/238.4 kB 223.9 MB/s eta 0:00:00\n",
            "Collecting numpy\n",
            "  Downloading numpy-2.2.6-cp310-cp310-manylinux_2_17_x86_64.manylinux2014_x86_64.whl (16.8 MB)\n",
            "     ━━━━━━━━━━━━━━━━━━━━━━━━━━━━━━━━━━━━━━━ 16.8/16.8 MB 170.4 MB/s eta 0:00:00\n",
            "Collecting werkzeug>=3.1.0\n",
            "  Downloading werkzeug-3.1.3-py3-none-any.whl (224 kB)\n",
            "     ━━━━━━━━━━━━━━━━━━━━━━━━━━━━━━━━━━━━━ 224.5/224.5 kB 232.3 MB/s eta 0:00:00\n",
            "Collecting jinja2>=3.1.2\n",
            "  Downloading jinja2-3.1.6-py3-none-any.whl (134 kB)\n",
            "     ━━━━━━━━━━━━━━━━━━━━━━━━━━━━━━━━━━━━━ 134.9/134.9 kB 187.6 MB/s eta 0:00:00\n",
            "Collecting markupsafe>=2.1.1\n",
            "  Downloading MarkupSafe-3.0.2-cp310-cp310-manylinux_2_17_x86_64.manylinux2014_x86_64.whl (20 kB)\n",
            "Collecting itsdangerous>=2.2.0\n",
            "  Downloading itsdangerous-2.2.0-py3-none-any.whl (16 kB)\n",
            "Collecting click>=8.1.3\n",
            "  Downloading click-8.2.1-py3-none-any.whl (102 kB)\n",
            "     ━━━━━━━━━━━━━━━━━━━━━━━━━━━━━━━━━━━━━ 102.2/102.2 kB 225.0 MB/s eta 0:00:00\n",
            "Collecting blinker>=1.9.0\n",
            "  Downloading blinker-1.9.0-py3-none-any.whl (8.5 kB)\n",
            "Collecting threadpoolctl>=3.1.0\n",
            "  Downloading threadpoolctl-3.6.0-py3-none-any.whl (18 kB)\n",
            "Collecting scipy>=1.6.0\n",
            "  Downloading scipy-1.15.3-cp310-cp310-manylinux_2_17_x86_64.manylinux2014_x86_64.whl (37.7 MB)\n",
            "     ━━━━━━━━━━━━━━━━━━━━━━━━━━━━━━━━━━━━━━━ 37.7/37.7 MB 217.9 MB/s eta 0:00:00\n",
            "Collecting nvidia-nccl-cu12\n",
            "  Downloading nvidia_nccl_cu12-2.26.5-py3-none-manylinux2014_x86_64.manylinux_2_17_x86_64.whl (318.1 MB)\n",
            "     ━━━━━━━━━━━━━━━━━━━━━━━━━━━━━━━━━━━━━ 318.1/318.1 MB 136.3 MB/s eta 0:00:00\n",
            "Collecting sklearn-compat<1,>=0.1\n",
            "  Downloading sklearn_compat-0.1.3-py3-none-any.whl (18 kB)\n",
            "Installing collected packages: threadpoolctl, nvidia-nccl-cu12, numpy, markupsafe, joblib, itsdangerous, click, blinker, werkzeug, scipy, jinja2, xgboost, scikit-learn, lightgbm, Flask, sklearn-compat, imbalanced-learn\n",
            "Successfully installed Flask-3.1.1 blinker-1.9.0 click-8.2.1 imbalanced-learn-0.13.0 itsdangerous-2.2.0 jinja2-3.1.6 joblib-1.5.1 lightgbm-4.6.0 markupsafe-3.0.2 numpy-2.2.6 nvidia-nccl-cu12-2.26.5 scikit-learn-1.6.1 scipy-1.15.3 sklearn-compat-0.1.3 threadpoolctl-3.6.0 werkzeug-3.1.3 xgboost-3.0.2\n",
            "\u001b[91mWARNING: Running pip as the 'root' user can result in broken permissions and conflicting behaviour with the system package manager. It is recommended to use a virtual environment instead: https://pip.pypa.io/warnings/venv\n",
            "\u001b[0m\u001b[91m\n",
            "[notice] A new release of pip is available: 23.0.1 -> 25.1.1\n",
            "[notice] To update, run: pip install --upgrade pip\n",
            "\u001b[0mRemoving intermediate container 5e96e1538ee8\n",
            " ---> b39c1b40dd89\n",
            "Step 6/8 : COPY . .\n",
            " ---> 90434ce80306\n",
            "Step 7/8 : ENV PORT 8080\n",
            " ---> Running in 4676dbd6f9e7\n",
            "Removing intermediate container 4676dbd6f9e7\n",
            " ---> e7d4610190d9\n",
            "Step 8/8 : CMD [\"python\", \"app.py\"]\n",
            " ---> Running in aebea6447ee1\n",
            "Removing intermediate container aebea6447ee1\n",
            " ---> 623bbfb4f010\n",
            "Successfully built 623bbfb4f010\n",
            "Successfully tagged gcr.io/turing-final-461008/voting-api:latest\n",
            "PUSH\n",
            "Pushing gcr.io/turing-final-461008/voting-api\n",
            "The push refers to repository [gcr.io/turing-final-461008/voting-api]\n",
            "2d70de19225f: Preparing\n",
            "d32f8cde4b12: Preparing\n",
            "808d329e6340: Preparing\n",
            "3240b1dd49be: Preparing\n",
            "3fd896f2028e: Preparing\n",
            "15d85754b85a: Preparing\n",
            "16a0a828d0fb: Preparing\n",
            "8bf67d194bcd: Preparing\n",
            "ace34d1d784c: Preparing\n",
            "15d85754b85a: Waiting\n",
            "16a0a828d0fb: Waiting\n",
            "8bf67d194bcd: Waiting\n",
            "ace34d1d784c: Waiting\n",
            "808d329e6340: Pushed\n",
            "3240b1dd49be: Pushed\n",
            "15d85754b85a: Layer already exists\n",
            "16a0a828d0fb: Layer already exists\n",
            "8bf67d194bcd: Layer already exists\n",
            "ace34d1d784c: Layer already exists\n",
            "2d70de19225f: Pushed\n",
            "d32f8cde4b12: Pushed\n",
            "3fd896f2028e: Pushed\n",
            "latest: digest: sha256:22f143e00c67c8c4449b7cc373e71666efbcad475a3ddc0274a5653f6981b65d size: 2212\n",
            "DONE\n",
            "\n",
            "ID                                    CREATE_TIME                DURATION  SOURCE                                                                                             IMAGES                                           STATUS\n",
            "b7c28c83-d7d9-4537-a986-ed423d656280  2025-05-26T16:53:58+00:00  4M54S     gs://turing-final-461008_cloudbuild/source/1748278037.216995-52c0886384c848e7875fcd2ddfc01fa7.tgz  gcr.io/turing-final-461008/voting-api (+1 more)  SUCCESS\n",
            "Deploying container to Cloud Run service [\u001b[1mvoting-api\u001b[m] in project [\u001b[1mturing-final-461008\u001b[m] region [\u001b[1mus-central1\u001b[m]\n",
            "Service [\u001b[1mvoting-api\u001b[m] revision [\u001b[1mvoting-api-00008-kz6\u001b[m] has been deployed and is serving \u001b[1m100\u001b[m percent of traffic.\n",
            "Service URL: \u001b[1mhttps://voting-api-607573225867.us-central1.run.app\u001b[m\n"
          ]
        }
      ]
    },
    {
      "cell_type": "markdown",
      "source": [
        "Save URL."
      ],
      "metadata": {
        "id": "BpvFR77J4Jek"
      },
      "id": "BpvFR77J4Jek"
    },
    {
      "cell_type": "code",
      "source": [
        "url = \"https://voting-api-607573225867.us-central1.run.app\""
      ],
      "metadata": {
        "id": "U1DGiUvxYjcp"
      },
      "id": "U1DGiUvxYjcp",
      "execution_count": 89,
      "outputs": []
    },
    {
      "cell_type": "markdown",
      "source": [
        "Test with a single instance."
      ],
      "metadata": {
        "id": "3fS8oonq4LOD"
      },
      "id": "3fS8oonq4LOD"
    },
    {
      "cell_type": "code",
      "source": [
        "test_instance = testing_data.drop(columns='SK_ID_CURR').iloc[600].tolist()\n",
        "data = {\"instances\": [test_instance]}\n",
        "\n",
        "url = \"https://voting-api-607573225867.us-central1.run.app/predict\"\n",
        "headers = {\"Content-Type\": \"application/json\"}\n",
        "\n",
        "response = requests.post(url, headers=headers, data=json.dumps(data))\n",
        "\n",
        "print(\"Status code:\", response.status_code)\n",
        "\n",
        "try:\n",
        "    print(\"Response JSON:\", response.json())\n",
        "except Exception:\n",
        "    print(\"Raw response:\", response.text)\n"
      ],
      "metadata": {
        "colab": {
          "base_uri": "https://localhost:8080/"
        },
        "id": "eFiyO0cjkQ6Y",
        "outputId": "987df74f-13cd-4f56-cc96-76e2e1578f9f"
      },
      "id": "eFiyO0cjkQ6Y",
      "execution_count": 100,
      "outputs": [
        {
          "output_type": "stream",
          "name": "stdout",
          "text": [
            "Status code: 200\n",
            "Response JSON: {'predictions': [0.16557907368145452]}\n"
          ]
        }
      ]
    },
    {
      "cell_type": "markdown",
      "source": [
        "Save multiple instances into json file for batch prediction."
      ],
      "metadata": {
        "id": "esQORo2d4Nkk"
      },
      "id": "esQORo2d4Nkk"
    },
    {
      "cell_type": "code",
      "source": [
        "instances = testing_data.drop(columns=\"SK_ID_CURR\").iloc[:5].values.tolist()\n",
        "\n",
        "data = {\"instances\": instances}\n",
        "\n",
        "with open(\"test_instances.json\", \"w\") as f:\n",
        "    json.dump(data, f)\n",
        "\n",
        "from google.colab import files\n",
        "files.download(\"test_instances.json\")\n"
      ],
      "metadata": {
        "id": "mrZvM0z1nJwF",
        "outputId": "8800efad-3d06-497e-eb53-0c21feec0e09",
        "colab": {
          "base_uri": "https://localhost:8080/",
          "height": 17
        }
      },
      "id": "mrZvM0z1nJwF",
      "execution_count": 104,
      "outputs": [
        {
          "output_type": "display_data",
          "data": {
            "text/plain": [
              "<IPython.core.display.Javascript object>"
            ],
            "application/javascript": [
              "\n",
              "    async function download(id, filename, size) {\n",
              "      if (!google.colab.kernel.accessAllowed) {\n",
              "        return;\n",
              "      }\n",
              "      const div = document.createElement('div');\n",
              "      const label = document.createElement('label');\n",
              "      label.textContent = `Downloading \"${filename}\": `;\n",
              "      div.appendChild(label);\n",
              "      const progress = document.createElement('progress');\n",
              "      progress.max = size;\n",
              "      div.appendChild(progress);\n",
              "      document.body.appendChild(div);\n",
              "\n",
              "      const buffers = [];\n",
              "      let downloaded = 0;\n",
              "\n",
              "      const channel = await google.colab.kernel.comms.open(id);\n",
              "      // Send a message to notify the kernel that we're ready.\n",
              "      channel.send({})\n",
              "\n",
              "      for await (const message of channel.messages) {\n",
              "        // Send a message to notify the kernel that we're ready.\n",
              "        channel.send({})\n",
              "        if (message.buffers) {\n",
              "          for (const buffer of message.buffers) {\n",
              "            buffers.push(buffer);\n",
              "            downloaded += buffer.byteLength;\n",
              "            progress.value = downloaded;\n",
              "          }\n",
              "        }\n",
              "      }\n",
              "      const blob = new Blob(buffers, {type: 'application/binary'});\n",
              "      const a = document.createElement('a');\n",
              "      a.href = window.URL.createObjectURL(blob);\n",
              "      a.download = filename;\n",
              "      div.appendChild(a);\n",
              "      a.click();\n",
              "      div.remove();\n",
              "    }\n",
              "  "
            ]
          },
          "metadata": {}
        },
        {
          "output_type": "display_data",
          "data": {
            "text/plain": [
              "<IPython.core.display.Javascript object>"
            ],
            "application/javascript": [
              "download(\"download_579e4728-32e3-4d3c-9d28-cb91d3289ddb\", \"test_instances.json\", 18300)"
            ]
          },
          "metadata": {}
        }
      ]
    },
    {
      "cell_type": "markdown",
      "source": [
        "# [**Postman presentation**](https://kata-6975389.postman.co/workspace/16f4862b-9df5-4f49-8543-5c6b96d5b9e3/request/45335143-4eeff57c-59af-4775-aae9-3171b0f1b6e4?tab=body)\n",
        "\n"
      ],
      "metadata": {
        "id": "8ObR28tn5J1B"
      },
      "id": "8ObR28tn5J1B"
    },
    {
      "cell_type": "markdown",
      "source": [
        "# 9. Improvements"
      ],
      "metadata": {
        "id": "tBXvBt6T4WJA"
      },
      "id": "tBXvBt6T4WJA"
    },
    {
      "cell_type": "markdown",
      "source": [
        "- Cleaner data preparation\n",
        "  - I had to do extra steps to fix mistakes before training\n",
        "\n",
        "- Better feature engineering\n",
        "  - generate more features and then choose good ones\n",
        "  - make more thorough decisions on what to keep\n",
        "\n",
        "- Improved pipeline structure\n",
        "  - include everything into pipelines for a robust solution\n",
        "\n",
        "- Statistical inference\n",
        "\n",
        "- Alternative solution - separate models for:\n",
        "  - Client with historical data\n",
        "  - First applicant\n"
      ],
      "metadata": {
        "id": "2y7y3hqa4ZB4"
      },
      "id": "2y7y3hqa4ZB4"
    },
    {
      "cell_type": "code",
      "source": [],
      "metadata": {
        "id": "F3c-3Nc24Yav"
      },
      "id": "F3c-3Nc24Yav",
      "execution_count": null,
      "outputs": []
    }
  ],
  "metadata": {
    "language_info": {
      "name": "python"
    },
    "colab": {
      "provenance": [],
      "machine_shape": "hm",
      "include_colab_link": true
    },
    "kernelspec": {
      "name": "python3",
      "display_name": "Python 3"
    }
  },
  "nbformat": 4,
  "nbformat_minor": 5
}